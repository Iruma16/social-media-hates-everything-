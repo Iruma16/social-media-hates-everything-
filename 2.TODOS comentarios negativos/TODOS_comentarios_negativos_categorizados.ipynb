{
 "cells": [
  {
   "cell_type": "code",
   "execution_count": 1,
   "id": "38ff0e8f-0cb2-4e9d-8121-48b1868a4b39",
   "metadata": {},
   "outputs": [],
   "source": [
    "import pandas as pd"
   ]
  },
  {
   "cell_type": "code",
   "execution_count": 138,
   "id": "cc5cabeb-ad3b-425e-b685-6d1e1589aec7",
   "metadata": {},
   "outputs": [],
   "source": [
    "from tqdm import tqdm\n",
    "\n",
    "tqdm.pandas()"
   ]
  },
  {
   "cell_type": "code",
   "execution_count": 49,
   "id": "94bcca3f-162d-4bab-a07e-9d2e09d1e2bd",
   "metadata": {},
   "outputs": [],
   "source": [
    "TOPICOS = [\n",
    "    \"amnistia\", #ok\n",
    "    \"feminismo\", #ok\n",
    "    \"genero\", #ok\n",
    "    \"monarquia\", #ok\n",
    "    \"salud\", #ok\n",
    "    \"territorio\", #ok\n",
    "    \"violencia_genero\", \n",
    "    \"vivienda\", \n",
    "    \"educacion\", \n",
    "    \"economia\", \n",
    "    \"inmigracion\", \n",
    "]"
   ]
  },
  {
   "cell_type": "code",
   "execution_count": 90,
   "id": "34a54af5-8b97-4ab6-bd45-c2287324497d",
   "metadata": {},
   "outputs": [
    {
     "name": "stdout",
     "output_type": "stream",
     "text": [
      "Topico elegido amnistia\n"
     ]
    }
   ],
   "source": [
    "topic = TOPICOS[3]\n",
    "print(\"Topico elegido\", topic)\n"
   ]
  },
  {
   "cell_type": "code",
   "execution_count": 115,
   "id": "55a9214b-dd90-4940-a064-fd75ad259fae",
   "metadata": {},
   "outputs": [],
   "source": [
    "dfs = []\n",
    "for topic in TOPICOS: \n",
    "    df= pd.read_csv(f'comentarios_{topic}_etiquetado.csv') \n",
    "    df['topico'] = topic \n",
    "    dfs.append(df) \n",
    "df_total = pd.concat(dfs)"
   ]
  },
  {
   "cell_type": "code",
   "execution_count": 116,
   "id": "28f16551-bac8-4c99-99f3-dce5da479ba0",
   "metadata": {},
   "outputs": [
    {
     "data": {
      "text/plain": [
       "(48973, 15)"
      ]
     },
     "execution_count": 116,
     "metadata": {},
     "output_type": "execute_result"
    }
   ],
   "source": [
    "df_total.shape"
   ]
  },
  {
   "cell_type": "code",
   "execution_count": 130,
   "id": "23ebab77-dd12-4130-838e-fbfe209eb0da",
   "metadata": {},
   "outputs": [
    {
     "data": {
      "text/html": [
       "<div>\n",
       "<style scoped>\n",
       "    .dataframe tbody tr th:only-of-type {\n",
       "        vertical-align: middle;\n",
       "    }\n",
       "\n",
       "    .dataframe tbody tr th {\n",
       "        vertical-align: top;\n",
       "    }\n",
       "\n",
       "    .dataframe thead th {\n",
       "        text-align: right;\n",
       "    }\n",
       "</style>\n",
       "<table border=\"1\" class=\"dataframe\">\n",
       "  <thead>\n",
       "    <tr style=\"text-align: right;\">\n",
       "      <th></th>\n",
       "      <th>0</th>\n",
       "      <th>1</th>\n",
       "      <th>2</th>\n",
       "      <th>3</th>\n",
       "      <th>4</th>\n",
       "    </tr>\n",
       "  </thead>\n",
       "  <tbody>\n",
       "    <tr>\n",
       "      <th>video_id</th>\n",
       "      <td>T-smnnEAdM0</td>\n",
       "      <td>T-smnnEAdM0</td>\n",
       "      <td>T-smnnEAdM0</td>\n",
       "      <td>T-smnnEAdM0</td>\n",
       "      <td>T-smnnEAdM0</td>\n",
       "    </tr>\n",
       "    <tr>\n",
       "      <th>author</th>\n",
       "      <td>UCTlJjNviHj7Y32eiOdHH_FQ</td>\n",
       "      <td>UC6o_ckmEk87f7TiViatW11w</td>\n",
       "      <td>UCCXQ_BAzI-GcXgDUwN4XiXQ</td>\n",
       "      <td>UCB4dg7xkDRLpW561xlwNnyw</td>\n",
       "      <td>UCFc7zfxN235QsmGBJ-GsUcA</td>\n",
       "    </tr>\n",
       "    <tr>\n",
       "      <th>comment</th>\n",
       "      <td>No me creo que les importemos algo. Estos son ...</td>\n",
       "      <td>No a la ANMISTIA y no AL PERDONA LA DEUDA DE C...</td>\n",
       "      <td>Que no te enteras,Contreras\\nQue se la trae fl...</td>\n",
       "      <td>¿Como puede ser impecable?, si hasta hace poco...</td>\n",
       "      <td>Osea que cuando gobierna el PP nos roba y mete...</td>\n",
       "    </tr>\n",
       "    <tr>\n",
       "      <th>comment_stem</th>\n",
       "      <td>creo importemo misma opini</td>\n",
       "      <td>anmistia perdona deuda catalu sirv separatista...</td>\n",
       "      <td>entera contrera trae floja asunto interno espa...</td>\n",
       "      <td>pued impec hace bocachancla palanganero felon ...</td>\n",
       "      <td>osea gobierna roba mete guerra aqui pasa gobie...</td>\n",
       "    </tr>\n",
       "    <tr>\n",
       "      <th>vectores_tfidf</th>\n",
       "      <td>[0. 0. 0. ... 0. 0. 0.]</td>\n",
       "      <td>[0. 0. 0. ... 0. 0. 0.]</td>\n",
       "      <td>[0. 0. 0. ... 0. 0. 0.]</td>\n",
       "      <td>[0. 0. 0. ... 0. 0. 0.]</td>\n",
       "      <td>[0. 0. 0. ... 0. 0. 0.]</td>\n",
       "    </tr>\n",
       "    <tr>\n",
       "      <th>sentiment</th>\n",
       "      <td>0.0</td>\n",
       "      <td>-1.0</td>\n",
       "      <td>-1.0</td>\n",
       "      <td>-1.0</td>\n",
       "      <td>-1.0</td>\n",
       "    </tr>\n",
       "    <tr>\n",
       "      <th>sentiment_2</th>\n",
       "      <td>-1.0</td>\n",
       "      <td>-1.0</td>\n",
       "      <td>-1.0</td>\n",
       "      <td>-1.0</td>\n",
       "      <td>-1.0</td>\n",
       "    </tr>\n",
       "    <tr>\n",
       "      <th>hateful</th>\n",
       "      <td>0.073077</td>\n",
       "      <td>0.05202</td>\n",
       "      <td>0.562841</td>\n",
       "      <td>0.115163</td>\n",
       "      <td>0.645626</td>\n",
       "    </tr>\n",
       "    <tr>\n",
       "      <th>targeted</th>\n",
       "      <td>0.004245</td>\n",
       "      <td>0.005793</td>\n",
       "      <td>0.014446</td>\n",
       "      <td>0.025937</td>\n",
       "      <td>0.008227</td>\n",
       "    </tr>\n",
       "    <tr>\n",
       "      <th>aggressive</th>\n",
       "      <td>0.030084</td>\n",
       "      <td>0.051741</td>\n",
       "      <td>0.309607</td>\n",
       "      <td>0.126386</td>\n",
       "      <td>0.292196</td>\n",
       "    </tr>\n",
       "    <tr>\n",
       "      <th>topico</th>\n",
       "      <td>amnistia</td>\n",
       "      <td>amnistia</td>\n",
       "      <td>amnistia</td>\n",
       "      <td>amnistia</td>\n",
       "      <td>amnistia</td>\n",
       "    </tr>\n",
       "  </tbody>\n",
       "</table>\n",
       "</div>"
      ],
      "text/plain": [
       "                                                                0  \\\n",
       "video_id                                              T-smnnEAdM0   \n",
       "author                                   UCTlJjNviHj7Y32eiOdHH_FQ   \n",
       "comment         No me creo que les importemos algo. Estos son ...   \n",
       "comment_stem                           creo importemo misma opini   \n",
       "vectores_tfidf                            [0. 0. 0. ... 0. 0. 0.]   \n",
       "sentiment                                                     0.0   \n",
       "sentiment_2                                                  -1.0   \n",
       "hateful                                                  0.073077   \n",
       "targeted                                                 0.004245   \n",
       "aggressive                                               0.030084   \n",
       "topico                                                   amnistia   \n",
       "\n",
       "                                                                1  \\\n",
       "video_id                                              T-smnnEAdM0   \n",
       "author                                   UC6o_ckmEk87f7TiViatW11w   \n",
       "comment         No a la ANMISTIA y no AL PERDONA LA DEUDA DE C...   \n",
       "comment_stem    anmistia perdona deuda catalu sirv separatista...   \n",
       "vectores_tfidf                            [0. 0. 0. ... 0. 0. 0.]   \n",
       "sentiment                                                    -1.0   \n",
       "sentiment_2                                                  -1.0   \n",
       "hateful                                                   0.05202   \n",
       "targeted                                                 0.005793   \n",
       "aggressive                                               0.051741   \n",
       "topico                                                   amnistia   \n",
       "\n",
       "                                                                2  \\\n",
       "video_id                                              T-smnnEAdM0   \n",
       "author                                   UCCXQ_BAzI-GcXgDUwN4XiXQ   \n",
       "comment         Que no te enteras,Contreras\\nQue se la trae fl...   \n",
       "comment_stem    entera contrera trae floja asunto interno espa...   \n",
       "vectores_tfidf                            [0. 0. 0. ... 0. 0. 0.]   \n",
       "sentiment                                                    -1.0   \n",
       "sentiment_2                                                  -1.0   \n",
       "hateful                                                  0.562841   \n",
       "targeted                                                 0.014446   \n",
       "aggressive                                               0.309607   \n",
       "topico                                                   amnistia   \n",
       "\n",
       "                                                                3  \\\n",
       "video_id                                              T-smnnEAdM0   \n",
       "author                                   UCB4dg7xkDRLpW561xlwNnyw   \n",
       "comment         ¿Como puede ser impecable?, si hasta hace poco...   \n",
       "comment_stem    pued impec hace bocachancla palanganero felon ...   \n",
       "vectores_tfidf                            [0. 0. 0. ... 0. 0. 0.]   \n",
       "sentiment                                                    -1.0   \n",
       "sentiment_2                                                  -1.0   \n",
       "hateful                                                  0.115163   \n",
       "targeted                                                 0.025937   \n",
       "aggressive                                               0.126386   \n",
       "topico                                                   amnistia   \n",
       "\n",
       "                                                                4  \n",
       "video_id                                              T-smnnEAdM0  \n",
       "author                                   UCFc7zfxN235QsmGBJ-GsUcA  \n",
       "comment         Osea que cuando gobierna el PP nos roba y mete...  \n",
       "comment_stem    osea gobierna roba mete guerra aqui pasa gobie...  \n",
       "vectores_tfidf                            [0. 0. 0. ... 0. 0. 0.]  \n",
       "sentiment                                                    -1.0  \n",
       "sentiment_2                                                  -1.0  \n",
       "hateful                                                  0.645626  \n",
       "targeted                                                 0.008227  \n",
       "aggressive                                               0.292196  \n",
       "topico                                                   amnistia  "
      ]
     },
     "execution_count": 130,
     "metadata": {},
     "output_type": "execute_result"
    }
   ],
   "source": [
    "df_total.head().T"
   ]
  },
  {
   "cell_type": "code",
   "execution_count": 131,
   "id": "6e11b6d8-cdb6-4cf1-bf2f-651c1b26e56c",
   "metadata": {},
   "outputs": [
    {
     "data": {
      "text/plain": [
       "amnistia            8305\n",
       "feminismo           6254\n",
       "inmigracion         5396\n",
       "violencia_genero    4925\n",
       "territorio          4484\n",
       "monarquia           4190\n",
       "vivienda            4016\n",
       "genero              3958\n",
       "economia            3345\n",
       "salud               2323\n",
       "educacion           1777\n",
       "Name: topico, dtype: int64"
      ]
     },
     "execution_count": 131,
     "metadata": {},
     "output_type": "execute_result"
    }
   ],
   "source": [
    "df_total.topico.value_counts()"
   ]
  },
  {
   "cell_type": "code",
   "execution_count": 132,
   "id": "49392afd-d5dc-4082-a1ad-e501a6c43482",
   "metadata": {},
   "outputs": [],
   "source": [
    "df_total.to_csv('TODOS_comentarios_negativos_a_clasificar')"
   ]
  },
  {
   "cell_type": "code",
   "execution_count": 133,
   "id": "5e79f527-dd8f-4907-8609-8447c337ebad",
   "metadata": {},
   "outputs": [],
   "source": [
    "import pickle\n",
    "# Cargar el modelo guardado\n",
    "with open(\"SVC_model.pkl\", \"rb\") as file:\n",
    "    loaded_model = pickle.load(file)"
   ]
  },
  {
   "cell_type": "code",
   "execution_count": 135,
   "id": "3e39bd24-9135-45ce-bc3b-0aece0e71e57",
   "metadata": {},
   "outputs": [],
   "source": [
    "df_total['comment'] = df_total['comment'].apply(lambda x: [x])"
   ]
  },
  {
   "cell_type": "code",
   "execution_count": 137,
   "id": "0670ecb5-ee77-4d26-9971-0f654f0b2670",
   "metadata": {},
   "outputs": [
    {
     "data": {
      "text/plain": [
       "0       [No me creo que les importemos algo. Estos son...\n",
       "1       [No a la ANMISTIA y no AL PERDONA LA DEUDA DE ...\n",
       "2       [Que no te enteras,Contreras\\nQue se la trae f...\n",
       "3       [¿Como puede ser impecable?, si hasta hace poc...\n",
       "4       [Osea que cuando gobierna el PP nos roba y met...\n",
       "                              ...                        \n",
       "5391    [Para acumular votos para las elecciones presi...\n",
       "5392                                [Por favor no voten.]\n",
       "5393    [NUESTROS HIJOS, NIETOS y BISNIETOS, NUNCA LE ...\n",
       "5394    [Pueden sacar 15 o 20 millones de SI, acaso co...\n",
       "5395    [El referendun no es mas que un fraude elector...\n",
       "Name: comment, Length: 48973, dtype: object"
      ]
     },
     "execution_count": 137,
     "metadata": {},
     "output_type": "execute_result"
    }
   ],
   "source": [
    "df_total['comment']"
   ]
  },
  {
   "cell_type": "code",
   "execution_count": 139,
   "id": "eed95c3d-29ed-4ef1-bc6e-870223a94f78",
   "metadata": {},
   "outputs": [
    {
     "name": "stderr",
     "output_type": "stream",
     "text": [
      "100%|██████████████████████████████████████████████████████████████████████████| 48973/48973 [00:45<00:00, 1078.24it/s]\n"
     ]
    }
   ],
   "source": [
    "def asignar_categoria(elemento):\n",
    "    if isinstance(elemento, list):\n",
    "        resultado = loaded_model.predict(elemento) \n",
    "        categoria_predicha = resultado[0]\n",
    "        \n",
    "        return categoria_predicha\n",
    "    else:\n",
    "        raise ValueError(f\"{elemento} no es una lista\")\n",
    "\n",
    "# Aplicar la función a la columna 'comment' y crear una nueva columna 'category'\n",
    "df_total['category'] = df_total['comment'].progress_apply(lambda x: asignar_categoria(x))"
   ]
  },
  {
   "cell_type": "code",
   "execution_count": 140,
   "id": "abc232b8-256c-41be-9675-6c0f9cae9ed6",
   "metadata": {},
   "outputs": [
    {
     "data": {
      "text/plain": [
       "ideología política    33113\n",
       "machismo               9240\n",
       "racismo                6620\n",
       "Name: category, dtype: int64"
      ]
     },
     "execution_count": 140,
     "metadata": {},
     "output_type": "execute_result"
    }
   ],
   "source": [
    "df_total['category'].value_counts()"
   ]
  },
  {
   "cell_type": "code",
   "execution_count": 147,
   "id": "4281f09a-1466-44f4-a046-355dc3fd8572",
   "metadata": {},
   "outputs": [
    {
     "data": {
      "text/plain": [
       "array([[0.29223723, 0.44022138, 0.26754138],\n",
       "       [0.3373842 , 0.47464574, 0.18797005],\n",
       "       [0.3373842 , 0.47464574, 0.18797005],\n",
       "       ...,\n",
       "       [0.3373842 , 0.47464574, 0.18797005],\n",
       "       [0.3373842 , 0.47464574, 0.18797005],\n",
       "       [0.3143202 , 0.5097721 , 0.1759077 ]])"
      ]
     },
     "execution_count": 147,
     "metadata": {},
     "output_type": "execute_result"
    }
   ],
   "source": [
    "loaded_model.predict_proba(df_total['category'])"
   ]
  },
  {
   "cell_type": "code",
   "execution_count": 148,
   "id": "c7010249-6b43-40b6-b106-dc0da69e7e83",
   "metadata": {},
   "outputs": [],
   "source": [
    "df_total.to_csv('TODOS_comentarios_negativos_calificados')"
   ]
  }
 ],
 "metadata": {
  "kernelspec": {
   "display_name": "Python 3 (ipykernel)",
   "language": "python",
   "name": "python3"
  },
  "language_info": {
   "codemirror_mode": {
    "name": "ipython",
    "version": 3
   },
   "file_extension": ".py",
   "mimetype": "text/x-python",
   "name": "python",
   "nbconvert_exporter": "python",
   "pygments_lexer": "ipython3",
   "version": "3.10.4"
  },
  "widgets": {
   "application/vnd.jupyter.widget-state+json": {
    "state": {},
    "version_major": 2,
    "version_minor": 0
   }
  }
 },
 "nbformat": 4,
 "nbformat_minor": 5
}
