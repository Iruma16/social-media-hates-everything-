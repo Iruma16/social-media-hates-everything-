{
 "cells": [
  {
   "cell_type": "code",
   "execution_count": 1,
   "id": "fcd6c0e0-bc8b-4f5e-b681-bb50031a1876",
   "metadata": {},
   "outputs": [],
   "source": [
    "import pandas as pd"
   ]
  },
  {
   "cell_type": "code",
   "execution_count": 2,
   "id": "96f8e9e7-443e-43c8-aa65-3b21d25abb74",
   "metadata": {
    "tags": []
   },
   "outputs": [],
   "source": [
    "df_hate_violencia_genero = pd.read_csv('/Users/usuario/Downloads/irunela/csv/csv_hate/hate_violencia_genero.csv')"
   ]
  },
  {
   "cell_type": "code",
   "execution_count": 3,
   "id": "a16246f5-5b40-479f-902d-0451b407b37c",
   "metadata": {
    "tags": []
   },
   "outputs": [
    {
     "data": {
      "text/html": [
       "<div>\n",
       "<style scoped>\n",
       "    .dataframe tbody tr th:only-of-type {\n",
       "        vertical-align: middle;\n",
       "    }\n",
       "\n",
       "    .dataframe tbody tr th {\n",
       "        vertical-align: top;\n",
       "    }\n",
       "\n",
       "    .dataframe thead th {\n",
       "        text-align: right;\n",
       "    }\n",
       "</style>\n",
       "<table border=\"1\" class=\"dataframe\">\n",
       "  <thead>\n",
       "    <tr style=\"text-align: right;\">\n",
       "      <th></th>\n",
       "      <th>Unnamed: 0.1</th>\n",
       "      <th>Unnamed: 0</th>\n",
       "      <th>video_id</th>\n",
       "      <th>author</th>\n",
       "      <th>comment</th>\n",
       "      <th>vectores_tfidf</th>\n",
       "      <th>comment_stem</th>\n",
       "      <th>sentiment</th>\n",
       "      <th>hateful</th>\n",
       "      <th>targeted</th>\n",
       "      <th>aggresive</th>\n",
       "    </tr>\n",
       "  </thead>\n",
       "  <tbody>\n",
       "    <tr>\n",
       "      <th>0</th>\n",
       "      <td>0</td>\n",
       "      <td>6</td>\n",
       "      <td>a7it63FFDYQ</td>\n",
       "      <td>UCdca8vWQNEfwNyNjAJTMctg</td>\n",
       "      <td>Ademas del porno que tantas vidas de hombres h...</td>\n",
       "      <td>[0. 0. 0. ... 0. 0. 0.]</td>\n",
       "      <td>adema porno tanta vida hombr salvado surgimien...</td>\n",
       "      <td>0.0</td>\n",
       "      <td>0.149363</td>\n",
       "      <td>0.011739</td>\n",
       "      <td>0.050016</td>\n",
       "    </tr>\n",
       "    <tr>\n",
       "      <th>1</th>\n",
       "      <td>1</td>\n",
       "      <td>7</td>\n",
       "      <td>a7it63FFDYQ</td>\n",
       "      <td>UC2wpIsMIq7DJxmaF91dJFbw</td>\n",
       "      <td>Perdonad quiero compartir algo que me ocurrió ...</td>\n",
       "      <td>[0. 0. 0. ... 0. 0. 0.]</td>\n",
       "      <td>perdonad quiero compartir ocurri personalment ...</td>\n",
       "      <td>0.0</td>\n",
       "      <td>0.082215</td>\n",
       "      <td>0.010241</td>\n",
       "      <td>0.029155</td>\n",
       "    </tr>\n",
       "    <tr>\n",
       "      <th>2</th>\n",
       "      <td>2</td>\n",
       "      <td>9</td>\n",
       "      <td>a7it63FFDYQ</td>\n",
       "      <td>UCTzl4G6p1-CBEz6TWq2HiFA</td>\n",
       "      <td>Otra idea.. autopsia a todo hombre muerto  en ...</td>\n",
       "      <td>[0. 0. 0. ... 0. 0. 0.]</td>\n",
       "      <td>idea autopsia hombr muerto mbito familiar caus...</td>\n",
       "      <td>0.0</td>\n",
       "      <td>0.020273</td>\n",
       "      <td>0.010509</td>\n",
       "      <td>0.014006</td>\n",
       "    </tr>\n",
       "    <tr>\n",
       "      <th>3</th>\n",
       "      <td>3</td>\n",
       "      <td>11</td>\n",
       "      <td>a7it63FFDYQ</td>\n",
       "      <td>UCpLcYf746qFvtIZQim--oqw</td>\n",
       "      <td>Me parece un vídeo muy refrescante, la verdad....</td>\n",
       "      <td>[0. 0. 0. ... 0. 0. 0.]</td>\n",
       "      <td>parec refrescant verdad hora gent empiec pensa...</td>\n",
       "      <td>0.0</td>\n",
       "      <td>0.038081</td>\n",
       "      <td>0.008010</td>\n",
       "      <td>0.024686</td>\n",
       "    </tr>\n",
       "    <tr>\n",
       "      <th>4</th>\n",
       "      <td>4</td>\n",
       "      <td>12</td>\n",
       "      <td>a7it63FFDYQ</td>\n",
       "      <td>UCzbxcSqDcTw3YXHxTwTMETQ</td>\n",
       "      <td>Leo comentarios y todo es razonamiento motivad...</td>\n",
       "      <td>[0. 0. 0. ... 0. 0. 0.]</td>\n",
       "      <td>comentario razonamiento motivado sesgo confirm...</td>\n",
       "      <td>0.0</td>\n",
       "      <td>0.148308</td>\n",
       "      <td>0.018514</td>\n",
       "      <td>0.057061</td>\n",
       "    </tr>\n",
       "  </tbody>\n",
       "</table>\n",
       "</div>"
      ],
      "text/plain": [
       "   Unnamed: 0.1  Unnamed: 0     video_id                    author  \\\n",
       "0             0           6  a7it63FFDYQ  UCdca8vWQNEfwNyNjAJTMctg   \n",
       "1             1           7  a7it63FFDYQ  UC2wpIsMIq7DJxmaF91dJFbw   \n",
       "2             2           9  a7it63FFDYQ  UCTzl4G6p1-CBEz6TWq2HiFA   \n",
       "3             3          11  a7it63FFDYQ  UCpLcYf746qFvtIZQim--oqw   \n",
       "4             4          12  a7it63FFDYQ  UCzbxcSqDcTw3YXHxTwTMETQ   \n",
       "\n",
       "                                             comment           vectores_tfidf  \\\n",
       "0  Ademas del porno que tantas vidas de hombres h...  [0. 0. 0. ... 0. 0. 0.]   \n",
       "1  Perdonad quiero compartir algo que me ocurrió ...  [0. 0. 0. ... 0. 0. 0.]   \n",
       "2  Otra idea.. autopsia a todo hombre muerto  en ...  [0. 0. 0. ... 0. 0. 0.]   \n",
       "3  Me parece un vídeo muy refrescante, la verdad....  [0. 0. 0. ... 0. 0. 0.]   \n",
       "4  Leo comentarios y todo es razonamiento motivad...  [0. 0. 0. ... 0. 0. 0.]   \n",
       "\n",
       "                                        comment_stem  sentiment   hateful  \\\n",
       "0  adema porno tanta vida hombr salvado surgimien...        0.0  0.149363   \n",
       "1  perdonad quiero compartir ocurri personalment ...        0.0  0.082215   \n",
       "2  idea autopsia hombr muerto mbito familiar caus...        0.0  0.020273   \n",
       "3  parec refrescant verdad hora gent empiec pensa...        0.0  0.038081   \n",
       "4  comentario razonamiento motivado sesgo confirm...        0.0  0.148308   \n",
       "\n",
       "   targeted  aggresive  \n",
       "0  0.011739   0.050016  \n",
       "1  0.010241   0.029155  \n",
       "2  0.010509   0.014006  \n",
       "3  0.008010   0.024686  \n",
       "4  0.018514   0.057061  "
      ]
     },
     "execution_count": 3,
     "metadata": {},
     "output_type": "execute_result"
    }
   ],
   "source": [
    "df_hate_violencia_genero.head()\n"
   ]
  },
  {
   "cell_type": "code",
   "execution_count": 4,
   "id": "2134af1b-af68-4524-9422-7cb6e14012b2",
   "metadata": {
    "tags": []
   },
   "outputs": [
    {
     "data": {
      "text/html": [
       "<div>\n",
       "<style scoped>\n",
       "    .dataframe tbody tr th:only-of-type {\n",
       "        vertical-align: middle;\n",
       "    }\n",
       "\n",
       "    .dataframe tbody tr th {\n",
       "        vertical-align: top;\n",
       "    }\n",
       "\n",
       "    .dataframe thead th {\n",
       "        text-align: right;\n",
       "    }\n",
       "</style>\n",
       "<table border=\"1\" class=\"dataframe\">\n",
       "  <thead>\n",
       "    <tr style=\"text-align: right;\">\n",
       "      <th></th>\n",
       "      <th>Unnamed: 0.1</th>\n",
       "      <th>Unnamed: 0</th>\n",
       "      <th>sentiment</th>\n",
       "      <th>hateful</th>\n",
       "      <th>targeted</th>\n",
       "      <th>aggresive</th>\n",
       "    </tr>\n",
       "  </thead>\n",
       "  <tbody>\n",
       "    <tr>\n",
       "      <th>count</th>\n",
       "      <td>4603.000000</td>\n",
       "      <td>4603.000000</td>\n",
       "      <td>4603.0</td>\n",
       "      <td>4603.000000</td>\n",
       "      <td>4603.000000</td>\n",
       "      <td>4603.000000</td>\n",
       "    </tr>\n",
       "    <tr>\n",
       "      <th>mean</th>\n",
       "      <td>2301.000000</td>\n",
       "      <td>4738.555507</td>\n",
       "      <td>0.0</td>\n",
       "      <td>0.119053</td>\n",
       "      <td>0.043854</td>\n",
       "      <td>0.059481</td>\n",
       "    </tr>\n",
       "    <tr>\n",
       "      <th>std</th>\n",
       "      <td>1328.915974</td>\n",
       "      <td>2676.210045</td>\n",
       "      <td>0.0</td>\n",
       "      <td>0.196804</td>\n",
       "      <td>0.115325</td>\n",
       "      <td>0.117195</td>\n",
       "    </tr>\n",
       "    <tr>\n",
       "      <th>min</th>\n",
       "      <td>0.000000</td>\n",
       "      <td>6.000000</td>\n",
       "      <td>0.0</td>\n",
       "      <td>0.007910</td>\n",
       "      <td>0.004069</td>\n",
       "      <td>0.006577</td>\n",
       "    </tr>\n",
       "    <tr>\n",
       "      <th>25%</th>\n",
       "      <td>1150.500000</td>\n",
       "      <td>2381.000000</td>\n",
       "      <td>0.0</td>\n",
       "      <td>0.026065</td>\n",
       "      <td>0.010937</td>\n",
       "      <td>0.016537</td>\n",
       "    </tr>\n",
       "    <tr>\n",
       "      <th>50%</th>\n",
       "      <td>2301.000000</td>\n",
       "      <td>4819.000000</td>\n",
       "      <td>0.0</td>\n",
       "      <td>0.047459</td>\n",
       "      <td>0.017232</td>\n",
       "      <td>0.027077</td>\n",
       "    </tr>\n",
       "    <tr>\n",
       "      <th>75%</th>\n",
       "      <td>3451.500000</td>\n",
       "      <td>7067.500000</td>\n",
       "      <td>0.0</td>\n",
       "      <td>0.083123</td>\n",
       "      <td>0.032840</td>\n",
       "      <td>0.050104</td>\n",
       "    </tr>\n",
       "    <tr>\n",
       "      <th>max</th>\n",
       "      <td>4602.000000</td>\n",
       "      <td>9346.000000</td>\n",
       "      <td>0.0</td>\n",
       "      <td>0.991486</td>\n",
       "      <td>0.987530</td>\n",
       "      <td>0.979510</td>\n",
       "    </tr>\n",
       "  </tbody>\n",
       "</table>\n",
       "</div>"
      ],
      "text/plain": [
       "       Unnamed: 0.1   Unnamed: 0  sentiment      hateful     targeted  \\\n",
       "count   4603.000000  4603.000000     4603.0  4603.000000  4603.000000   \n",
       "mean    2301.000000  4738.555507        0.0     0.119053     0.043854   \n",
       "std     1328.915974  2676.210045        0.0     0.196804     0.115325   \n",
       "min        0.000000     6.000000        0.0     0.007910     0.004069   \n",
       "25%     1150.500000  2381.000000        0.0     0.026065     0.010937   \n",
       "50%     2301.000000  4819.000000        0.0     0.047459     0.017232   \n",
       "75%     3451.500000  7067.500000        0.0     0.083123     0.032840   \n",
       "max     4602.000000  9346.000000        0.0     0.991486     0.987530   \n",
       "\n",
       "         aggresive  \n",
       "count  4603.000000  \n",
       "mean      0.059481  \n",
       "std       0.117195  \n",
       "min       0.006577  \n",
       "25%       0.016537  \n",
       "50%       0.027077  \n",
       "75%       0.050104  \n",
       "max       0.979510  "
      ]
     },
     "execution_count": 4,
     "metadata": {},
     "output_type": "execute_result"
    }
   ],
   "source": [
    "df_hate_violencia_genero.describe()"
   ]
  },
  {
   "cell_type": "code",
   "execution_count": 5,
   "id": "ff6a192f-52d3-4fc4-86b6-48718a05fca3",
   "metadata": {
    "tags": []
   },
   "outputs": [],
   "source": [
    "import pandas as pd\n",
    "\n",
    "# Calcular la media\n",
    "media = df_hate_violencia_genero[['sentiment', 'hateful', 'targeted', 'aggresive']].mean()\n",
    "\n",
    "# Calcular la mediana\n",
    "mediana = df_hate_violencia_genero[['sentiment', 'hateful', 'targeted', 'aggresive']].median()\n",
    "\n",
    "# Calcular la moda\n",
    "moda = df_hate_violencia_genero[['sentiment', 'hateful', 'targeted', 'aggresive']].mode().iloc[0]"
   ]
  },
  {
   "cell_type": "code",
   "execution_count": 6,
   "id": "8aba291a-841e-4d0a-83db-c0c1b049725a",
   "metadata": {
    "tags": []
   },
   "outputs": [
    {
     "data": {
      "text/plain": [
       "sentiment    0.000000\n",
       "hateful      0.119053\n",
       "targeted     0.043854\n",
       "aggresive    0.059481\n",
       "dtype: float64"
      ]
     },
     "execution_count": 6,
     "metadata": {},
     "output_type": "execute_result"
    }
   ],
   "source": [
    "media"
   ]
  },
  {
   "cell_type": "code",
   "execution_count": 7,
   "id": "2af123bf-4efd-4a1b-a376-5103c17b4d2e",
   "metadata": {
    "tags": []
   },
   "outputs": [
    {
     "data": {
      "text/plain": [
       "sentiment    0.000000\n",
       "hateful      0.047459\n",
       "targeted     0.017232\n",
       "aggresive    0.027077\n",
       "dtype: float64"
      ]
     },
     "execution_count": 7,
     "metadata": {},
     "output_type": "execute_result"
    }
   ],
   "source": [
    "mediana"
   ]
  },
  {
   "cell_type": "code",
   "execution_count": 8,
   "id": "088fd00e-8742-4af6-b0ad-0aacbf74abcd",
   "metadata": {
    "tags": []
   },
   "outputs": [
    {
     "data": {
      "text/plain": [
       "sentiment    0.000000\n",
       "hateful      0.066525\n",
       "targeted     0.048590\n",
       "aggresive    0.052461\n",
       "Name: 0, dtype: float64"
      ]
     },
     "execution_count": 8,
     "metadata": {},
     "output_type": "execute_result"
    }
   ],
   "source": [
    "moda"
   ]
  },
  {
   "cell_type": "code",
   "execution_count": 9,
   "id": "db268c67-4af3-434e-95ef-9152ed23feb0",
   "metadata": {
    "tags": []
   },
   "outputs": [],
   "source": [
    "# Varianza\n",
    "varianza_sentiment = df_hate_violencia_genero['sentiment'].var()\n",
    "varianza_hateful = df_hate_violencia_genero['hateful'].var()\n",
    "varianza_targeted = df_hate_violencia_genero['targeted'].var()\n",
    "varianza_aggressive = df_hate_violencia_genero['aggresive'].var()\n",
    "\n",
    "# Desviación estándar\n",
    "std_sentiment = df_hate_violencia_genero['sentiment'].std()\n",
    "std_hateful = df_hate_violencia_genero['hateful'].std()\n",
    "std_targeted = df_hate_violencia_genero['targeted'].std()\n",
    "std_aggressive = df_hate_violencia_genero['aggresive'].std()\n",
    "\n",
    "# Rango\n",
    "rango_sentiment = df_hate_violencia_genero['sentiment'].max() - df_hate_violencia_genero['sentiment'].min()\n",
    "rango_hateful = df_hate_violencia_genero['hateful'].max() - df_hate_violencia_genero['hateful'].min()\n",
    "rango_targeted = df_hate_violencia_genero['targeted'].max() - df_hate_violencia_genero['targeted'].min()\n",
    "rango_aggressive = df_hate_violencia_genero['aggresive'].max() - df_hate_violencia_genero['aggresive'].min()\n"
   ]
  },
  {
   "cell_type": "code",
   "execution_count": 10,
   "id": "0f8d45b9-8d12-4a6c-a0a5-1beecc2494d1",
   "metadata": {
    "tags": []
   },
   "outputs": [
    {
     "name": "stdout",
     "output_type": "stream",
     "text": [
      "Medidas de dispersión para 'sentiment':\n",
      "Varianza: 0.0\n",
      "Desviación estándar: 0.0\n",
      "Rango: 0.0\n",
      "\n",
      "Medidas de dispersión para 'hateful':\n",
      "Varianza: 0.038731815027816446\n",
      "Desviación estándar: 0.1968040015543801\n",
      "Rango: 0.983575745485723\n",
      "\n",
      "Medidas de dispersión para 'targeted':\n",
      "Varianza: 0.013299751937502099\n",
      "Desviación estándar: 0.11532455045436812\n",
      "Rango: 0.9834607760421931\n",
      "\n",
      "Medidas de dispersión para 'aggressive':\n",
      "Varianza: 0.013734566419877773\n",
      "Desviación estándar: 0.11719456651175332\n",
      "Rango: 0.9729330018162727\n"
     ]
    }
   ],
   "source": [
    "print(\"Medidas de dispersión para 'sentiment':\")\n",
    "print(f\"Varianza: {varianza_sentiment}\")\n",
    "print(f\"Desviación estándar: {std_sentiment}\")\n",
    "print(f\"Rango: {rango_sentiment}\")\n",
    "\n",
    "print(\"\\nMedidas de dispersión para 'hateful':\")\n",
    "print(f\"Varianza: {varianza_hateful}\")\n",
    "print(f\"Desviación estándar: {std_hateful}\")\n",
    "print(f\"Rango: {rango_hateful}\")\n",
    "\n",
    "print(\"\\nMedidas de dispersión para 'targeted':\")\n",
    "print(f\"Varianza: {varianza_targeted}\")\n",
    "print(f\"Desviación estándar: {std_targeted}\")\n",
    "print(f\"Rango: {rango_targeted}\")\n",
    "\n",
    "print(\"\\nMedidas de dispersión para 'aggressive':\")\n",
    "print(f\"Varianza: {varianza_aggressive}\")\n",
    "print(f\"Desviación estándar: {std_aggressive}\")\n",
    "print(f\"Rango: {rango_aggressive}\")\n"
   ]
  },
  {
   "cell_type": "code",
   "execution_count": 12,
   "id": "70e50eff-5648-4347-926a-b4c7f2405045",
   "metadata": {
    "tags": []
   },
   "outputs": [
    {
     "name": "stdout",
     "output_type": "stream",
     "text": [
      "           sentiment   hateful  targeted  aggresive\n",
      "sentiment        NaN       NaN       NaN        NaN\n",
      "hateful          NaN  1.000000  0.670913   0.857541\n",
      "targeted         NaN  0.670913  1.000000   0.889563\n",
      "aggresive        NaN  0.857541  0.889563   1.000000\n"
     ]
    }
   ],
   "source": [
    "correlaciones = df_hate_violencia_genero[['sentiment', 'hateful', 'targeted', 'aggresive']].corr()\n",
    "print(correlaciones)\n",
    "\n"
   ]
  },
  {
   "cell_type": "code",
   "execution_count": 13,
   "id": "93835ef3-56c7-448e-aa11-226448691cfc",
   "metadata": {
    "tags": []
   },
   "outputs": [
    {
     "data": {
      "image/png": "[encoded data removed]",
      "text/plain": [
       "<Figure size 800x600 with 2 Axes>"
      ]
     },
     "metadata": {},
     "output_type": "display_data"
    }
   ],
   "source": [
    "import seaborn as sns\n",
    "import matplotlib.pyplot as plt\n",
    "\n",
    "correlaciones = df_hate_violencia_genero[['sentiment', 'hateful', 'targeted', 'aggresive']].corr()\n",
    "\n",
    "plt.figure(figsize=(8, 6))\n",
    "sns.heatmap(correlaciones, annot=True, cmap='coolwarm', fmt=\".2f\")\n",
    "plt.title('Mapa de calor de correlaciones')\n",
    "plt.show()\n"
   ]
  },
  {
   "cell_type": "code",
   "execution_count": null,
   "id": "fffd895b-96a1-4418-9d94-666a0d462a80",
   "metadata": {},
   "outputs": [],
   "source": []
  }
 ],
 "metadata": {
  "kernelspec": {
   "display_name": "Python 3 (ipykernel)",
   "language": "python",
   "name": "python3"
  },
  "language_info": {
   "codemirror_mode": {
    "name": "ipython",
    "version": 3
   },
   "file_extension": ".py",
   "mimetype": "text/x-python",
   "name": "python",
   "nbconvert_exporter": "python",
   "pygments_lexer": "ipython3",
   "version": "3.11.4"
  }
 },
 "nbformat": 4,
 "nbformat_minor": 5
}
