{
 "cells": [
  {
   "cell_type": "code",
   "execution_count": 1,
   "id": "fcd6c0e0-bc8b-4f5e-b681-bb50031a1876",
   "metadata": {},
   "outputs": [],
   "source": [
    "import pandas as pd"
   ]
  },
  {
   "cell_type": "code",
   "execution_count": 2,
   "id": "96f8e9e7-443e-43c8-aa65-3b21d25abb74",
   "metadata": {
    "tags": []
   },
   "outputs": [],
   "source": [
    "df_hate_territorio = pd.read_csv('/Users/usuario/Downloads/irunela/csv/csv_hate/hate_territorio.csv')"
   ]
  },
  {
   "cell_type": "code",
   "execution_count": 3,
   "id": "a16246f5-5b40-479f-902d-0451b407b37c",
   "metadata": {
    "tags": []
   },
   "outputs": [
    {
     "data": {
      "text/html": [
       "<div>\n",
       "<style scoped>\n",
       "    .dataframe tbody tr th:only-of-type {\n",
       "        vertical-align: middle;\n",
       "    }\n",
       "\n",
       "    .dataframe tbody tr th {\n",
       "        vertical-align: top;\n",
       "    }\n",
       "\n",
       "    .dataframe thead th {\n",
       "        text-align: right;\n",
       "    }\n",
       "</style>\n",
       "<table border=\"1\" class=\"dataframe\">\n",
       "  <thead>\n",
       "    <tr style=\"text-align: right;\">\n",
       "      <th></th>\n",
       "      <th>Unnamed: 0.1</th>\n",
       "      <th>Unnamed: 0</th>\n",
       "      <th>video_id</th>\n",
       "      <th>author</th>\n",
       "      <th>comment</th>\n",
       "      <th>vectores_tfidf</th>\n",
       "      <th>comment_stem</th>\n",
       "      <th>sentiment</th>\n",
       "      <th>hateful</th>\n",
       "      <th>targeted</th>\n",
       "      <th>aggresive</th>\n",
       "    </tr>\n",
       "  </thead>\n",
       "  <tbody>\n",
       "    <tr>\n",
       "      <th>0</th>\n",
       "      <td>0</td>\n",
       "      <td>2</td>\n",
       "      <td>AsMZK3aGFHs</td>\n",
       "      <td>UCzQxKrGJNxaPv46W9qWIeBA</td>\n",
       "      <td>Tabarca te ha faltado</td>\n",
       "      <td>[0. 0. 0. ... 0. 0. 0.]</td>\n",
       "      <td>tabarca faltado</td>\n",
       "      <td>0.0</td>\n",
       "      <td>0.047936</td>\n",
       "      <td>0.030576</td>\n",
       "      <td>0.031124</td>\n",
       "    </tr>\n",
       "    <tr>\n",
       "      <th>1</th>\n",
       "      <td>1</td>\n",
       "      <td>5</td>\n",
       "      <td>AsMZK3aGFHs</td>\n",
       "      <td>UCGAXEDOzI7c2QaAeLLpNRbg</td>\n",
       "      <td>Si son de España son territorio de España. Con...</td>\n",
       "      <td>[0. 0. 0. ... 0. 0. 0.]</td>\n",
       "      <td>espa territorio espa espa escuchar</td>\n",
       "      <td>0.0</td>\n",
       "      <td>0.065312</td>\n",
       "      <td>0.012829</td>\n",
       "      <td>0.036999</td>\n",
       "    </tr>\n",
       "    <tr>\n",
       "      <th>2</th>\n",
       "      <td>2</td>\n",
       "      <td>8</td>\n",
       "      <td>AsMZK3aGFHs</td>\n",
       "      <td>UCGBHQoXnfajtCM1WHIhxTzg</td>\n",
       "      <td>''Provincia de Gerona''</td>\n",
       "      <td>[0. 0. 0. ... 0. 0. 0.]</td>\n",
       "      <td>provincia gerona</td>\n",
       "      <td>0.0</td>\n",
       "      <td>0.029156</td>\n",
       "      <td>0.018207</td>\n",
       "      <td>0.019390</td>\n",
       "    </tr>\n",
       "    <tr>\n",
       "      <th>3</th>\n",
       "      <td>3</td>\n",
       "      <td>9</td>\n",
       "      <td>AsMZK3aGFHs</td>\n",
       "      <td>UClazeL67GVCAtIneKf9lk4A</td>\n",
       "      <td>-Latino- sudamerica</td>\n",
       "      <td>[0. 0. 0. ... 0. 0. 0.]</td>\n",
       "      <td>latino sudamerica</td>\n",
       "      <td>0.0</td>\n",
       "      <td>0.150629</td>\n",
       "      <td>0.017965</td>\n",
       "      <td>0.049187</td>\n",
       "    </tr>\n",
       "    <tr>\n",
       "      <th>4</th>\n",
       "      <td>4</td>\n",
       "      <td>10</td>\n",
       "      <td>AsMZK3aGFHs</td>\n",
       "      <td>UCIGmrIv2ZNY98fs3Terwsvg</td>\n",
       "      <td>YO PIENSO QUE INJUSTA MENTE MARRUECOS 🇲🇦 QUIER...</td>\n",
       "      <td>[0. 0. 0. ... 0. 0. 0.]</td>\n",
       "      <td>pienso injusta ment marrueco quier</td>\n",
       "      <td>0.0</td>\n",
       "      <td>0.129216</td>\n",
       "      <td>0.007606</td>\n",
       "      <td>0.061105</td>\n",
       "    </tr>\n",
       "  </tbody>\n",
       "</table>\n",
       "</div>"
      ],
      "text/plain": [
       "   Unnamed: 0.1  Unnamed: 0     video_id                    author  \\\n",
       "0             0           2  AsMZK3aGFHs  UCzQxKrGJNxaPv46W9qWIeBA   \n",
       "1             1           5  AsMZK3aGFHs  UCGAXEDOzI7c2QaAeLLpNRbg   \n",
       "2             2           8  AsMZK3aGFHs  UCGBHQoXnfajtCM1WHIhxTzg   \n",
       "3             3           9  AsMZK3aGFHs  UClazeL67GVCAtIneKf9lk4A   \n",
       "4             4          10  AsMZK3aGFHs  UCIGmrIv2ZNY98fs3Terwsvg   \n",
       "\n",
       "                                             comment           vectores_tfidf  \\\n",
       "0                              Tabarca te ha faltado  [0. 0. 0. ... 0. 0. 0.]   \n",
       "1  Si son de España son territorio de España. Con...  [0. 0. 0. ... 0. 0. 0.]   \n",
       "2                            ''Provincia de Gerona''  [0. 0. 0. ... 0. 0. 0.]   \n",
       "3                                -Latino- sudamerica  [0. 0. 0. ... 0. 0. 0.]   \n",
       "4  YO PIENSO QUE INJUSTA MENTE MARRUECOS 🇲🇦 QUIER...  [0. 0. 0. ... 0. 0. 0.]   \n",
       "\n",
       "                         comment_stem  sentiment   hateful  targeted  \\\n",
       "0                     tabarca faltado        0.0  0.047936  0.030576   \n",
       "1  espa territorio espa espa escuchar        0.0  0.065312  0.012829   \n",
       "2                    provincia gerona        0.0  0.029156  0.018207   \n",
       "3                   latino sudamerica        0.0  0.150629  0.017965   \n",
       "4  pienso injusta ment marrueco quier        0.0  0.129216  0.007606   \n",
       "\n",
       "   aggresive  \n",
       "0   0.031124  \n",
       "1   0.036999  \n",
       "2   0.019390  \n",
       "3   0.049187  \n",
       "4   0.061105  "
      ]
     },
     "execution_count": 3,
     "metadata": {},
     "output_type": "execute_result"
    }
   ],
   "source": [
    "df_hate_territorio.head()\n"
   ]
  },
  {
   "cell_type": "code",
   "execution_count": 4,
   "id": "2134af1b-af68-4524-9422-7cb6e14012b2",
   "metadata": {
    "tags": []
   },
   "outputs": [
    {
     "data": {
      "text/html": [
       "<div>\n",
       "<style scoped>\n",
       "    .dataframe tbody tr th:only-of-type {\n",
       "        vertical-align: middle;\n",
       "    }\n",
       "\n",
       "    .dataframe tbody tr th {\n",
       "        vertical-align: top;\n",
       "    }\n",
       "\n",
       "    .dataframe thead th {\n",
       "        text-align: right;\n",
       "    }\n",
       "</style>\n",
       "<table border=\"1\" class=\"dataframe\">\n",
       "  <thead>\n",
       "    <tr style=\"text-align: right;\">\n",
       "      <th></th>\n",
       "      <th>Unnamed: 0.1</th>\n",
       "      <th>Unnamed: 0</th>\n",
       "      <th>sentiment</th>\n",
       "      <th>hateful</th>\n",
       "      <th>targeted</th>\n",
       "      <th>aggresive</th>\n",
       "    </tr>\n",
       "  </thead>\n",
       "  <tbody>\n",
       "    <tr>\n",
       "      <th>count</th>\n",
       "      <td>6154.00000</td>\n",
       "      <td>6154.000000</td>\n",
       "      <td>6154.0</td>\n",
       "      <td>6154.000000</td>\n",
       "      <td>6154.000000</td>\n",
       "      <td>6154.000000</td>\n",
       "    </tr>\n",
       "    <tr>\n",
       "      <th>mean</th>\n",
       "      <td>3076.50000</td>\n",
       "      <td>5080.754631</td>\n",
       "      <td>0.0</td>\n",
       "      <td>0.135913</td>\n",
       "      <td>0.028252</td>\n",
       "      <td>0.068785</td>\n",
       "    </tr>\n",
       "    <tr>\n",
       "      <th>std</th>\n",
       "      <td>1776.65111</td>\n",
       "      <td>2967.204176</td>\n",
       "      <td>0.0</td>\n",
       "      <td>0.209284</td>\n",
       "      <td>0.072565</td>\n",
       "      <td>0.119888</td>\n",
       "    </tr>\n",
       "    <tr>\n",
       "      <th>min</th>\n",
       "      <td>0.00000</td>\n",
       "      <td>2.000000</td>\n",
       "      <td>0.0</td>\n",
       "      <td>0.007528</td>\n",
       "      <td>0.003606</td>\n",
       "      <td>0.005650</td>\n",
       "    </tr>\n",
       "    <tr>\n",
       "      <th>25%</th>\n",
       "      <td>1538.25000</td>\n",
       "      <td>2511.500000</td>\n",
       "      <td>0.0</td>\n",
       "      <td>0.027232</td>\n",
       "      <td>0.009985</td>\n",
       "      <td>0.017202</td>\n",
       "    </tr>\n",
       "    <tr>\n",
       "      <th>50%</th>\n",
       "      <td>3076.50000</td>\n",
       "      <td>5074.500000</td>\n",
       "      <td>0.0</td>\n",
       "      <td>0.050469</td>\n",
       "      <td>0.014688</td>\n",
       "      <td>0.028593</td>\n",
       "    </tr>\n",
       "    <tr>\n",
       "      <th>75%</th>\n",
       "      <td>4614.75000</td>\n",
       "      <td>7604.750000</td>\n",
       "      <td>0.0</td>\n",
       "      <td>0.109168</td>\n",
       "      <td>0.025125</td>\n",
       "      <td>0.054548</td>\n",
       "    </tr>\n",
       "    <tr>\n",
       "      <th>max</th>\n",
       "      <td>6153.00000</td>\n",
       "      <td>10322.000000</td>\n",
       "      <td>0.0</td>\n",
       "      <td>0.987305</td>\n",
       "      <td>0.985615</td>\n",
       "      <td>0.972082</td>\n",
       "    </tr>\n",
       "  </tbody>\n",
       "</table>\n",
       "</div>"
      ],
      "text/plain": [
       "       Unnamed: 0.1    Unnamed: 0  sentiment      hateful     targeted  \\\n",
       "count    6154.00000   6154.000000     6154.0  6154.000000  6154.000000   \n",
       "mean     3076.50000   5080.754631        0.0     0.135913     0.028252   \n",
       "std      1776.65111   2967.204176        0.0     0.209284     0.072565   \n",
       "min         0.00000      2.000000        0.0     0.007528     0.003606   \n",
       "25%      1538.25000   2511.500000        0.0     0.027232     0.009985   \n",
       "50%      3076.50000   5074.500000        0.0     0.050469     0.014688   \n",
       "75%      4614.75000   7604.750000        0.0     0.109168     0.025125   \n",
       "max      6153.00000  10322.000000        0.0     0.987305     0.985615   \n",
       "\n",
       "         aggresive  \n",
       "count  6154.000000  \n",
       "mean      0.068785  \n",
       "std       0.119888  \n",
       "min       0.005650  \n",
       "25%       0.017202  \n",
       "50%       0.028593  \n",
       "75%       0.054548  \n",
       "max       0.972082  "
      ]
     },
     "execution_count": 4,
     "metadata": {},
     "output_type": "execute_result"
    }
   ],
   "source": [
    "df_hate_territorio.describe()"
   ]
  },
  {
   "cell_type": "code",
   "execution_count": 5,
   "id": "ff6a192f-52d3-4fc4-86b6-48718a05fca3",
   "metadata": {
    "tags": []
   },
   "outputs": [],
   "source": [
    "import pandas as pd\n",
    "\n",
    "# Calcular la media\n",
    "media = df_hate_territorio[['sentiment', 'hateful', 'targeted', 'aggresive']].mean()\n",
    "\n",
    "# Calcular la mediana\n",
    "mediana = df_hate_territorio[['sentiment', 'hateful', 'targeted', 'aggresive']].median()\n",
    "\n",
    "# Calcular la moda\n",
    "moda = df_hate_territorio[['sentiment', 'hateful', 'targeted', 'aggresive']].mode().iloc[0]"
   ]
  },
  {
   "cell_type": "code",
   "execution_count": 6,
   "id": "8aba291a-841e-4d0a-83db-c0c1b049725a",
   "metadata": {
    "tags": []
   },
   "outputs": [
    {
     "data": {
      "text/plain": [
       "sentiment    0.000000\n",
       "hateful      0.135913\n",
       "targeted     0.028252\n",
       "aggresive    0.068785\n",
       "dtype: float64"
      ]
     },
     "execution_count": 6,
     "metadata": {},
     "output_type": "execute_result"
    }
   ],
   "source": [
    "media"
   ]
  },
  {
   "cell_type": "code",
   "execution_count": 7,
   "id": "2af123bf-4efd-4a1b-a376-5103c17b4d2e",
   "metadata": {
    "tags": []
   },
   "outputs": [
    {
     "data": {
      "text/plain": [
       "sentiment    0.000000\n",
       "hateful      0.050469\n",
       "targeted     0.014688\n",
       "aggresive    0.028593\n",
       "dtype: float64"
      ]
     },
     "execution_count": 7,
     "metadata": {},
     "output_type": "execute_result"
    }
   ],
   "source": [
    "mediana"
   ]
  },
  {
   "cell_type": "code",
   "execution_count": 8,
   "id": "088fd00e-8742-4af6-b0ad-0aacbf74abcd",
   "metadata": {
    "tags": []
   },
   "outputs": [
    {
     "data": {
      "text/plain": [
       "sentiment    0.000000\n",
       "hateful      0.066525\n",
       "targeted     0.048590\n",
       "aggresive    0.052461\n",
       "Name: 0, dtype: float64"
      ]
     },
     "execution_count": 8,
     "metadata": {},
     "output_type": "execute_result"
    }
   ],
   "source": [
    "moda"
   ]
  },
  {
   "cell_type": "code",
   "execution_count": 9,
   "id": "db268c67-4af3-434e-95ef-9152ed23feb0",
   "metadata": {
    "tags": []
   },
   "outputs": [],
   "source": [
    "# Varianza\n",
    "varianza_sentiment = df_hate_territorio['sentiment'].var()\n",
    "varianza_hateful = df_hate_territorio['hateful'].var()\n",
    "varianza_targeted = df_hate_territorio['targeted'].var()\n",
    "varianza_aggressive = df_hate_territorio['aggresive'].var()\n",
    "\n",
    "# Desviación estándar\n",
    "std_sentiment = df_hate_territorio['sentiment'].std()\n",
    "std_hateful = df_hate_territorio['hateful'].std()\n",
    "std_targeted = df_hate_territorio['targeted'].std()\n",
    "std_aggressive = df_hate_territorio['aggresive'].std()\n",
    "\n",
    "# Rango\n",
    "rango_sentiment = df_hate_territorio['sentiment'].max() - df_hate_territorio['sentiment'].min()\n",
    "rango_hateful = df_hate_territorio['hateful'].max() - df_hate_territorio['hateful'].min()\n",
    "rango_targeted = df_hate_territorio['targeted'].max() - df_hate_territorio['targeted'].min()\n",
    "rango_aggressive = df_hate_territorio['aggresive'].max() - df_hate_territorio['aggresive'].min()\n"
   ]
  },
  {
   "cell_type": "code",
   "execution_count": 10,
   "id": "0f8d45b9-8d12-4a6c-a0a5-1beecc2494d1",
   "metadata": {
    "tags": []
   },
   "outputs": [
    {
     "name": "stdout",
     "output_type": "stream",
     "text": [
      "Medidas de dispersión para 'sentiment':\n",
      "Varianza: 0.0\n",
      "Desviación estándar: 0.0\n",
      "Rango: 0.0\n",
      "\n",
      "Medidas de dispersión para 'hateful':\n",
      "Varianza: 0.043799847278868674\n",
      "Desviación estándar: 0.20928413049934932\n",
      "Rango: 0.9797768858261406\n",
      "\n",
      "Medidas de dispersión para 'targeted':\n",
      "Varianza: 0.0052656888624249\n",
      "Desviación estándar: 0.07256506640543299\n",
      "Rango: 0.9820094187743963\n",
      "\n",
      "Medidas de dispersión para 'aggressive':\n",
      "Varianza: 0.014373131821460584\n",
      "Desviación estándar: 0.11988799698660656\n",
      "Rango: 0.9664321141317488\n"
     ]
    }
   ],
   "source": [
    "print(\"Medidas de dispersión para 'sentiment':\")\n",
    "print(f\"Varianza: {varianza_sentiment}\")\n",
    "print(f\"Desviación estándar: {std_sentiment}\")\n",
    "print(f\"Rango: {rango_sentiment}\")\n",
    "\n",
    "print(\"\\nMedidas de dispersión para 'hateful':\")\n",
    "print(f\"Varianza: {varianza_hateful}\")\n",
    "print(f\"Desviación estándar: {std_hateful}\")\n",
    "print(f\"Rango: {rango_hateful}\")\n",
    "\n",
    "print(\"\\nMedidas de dispersión para 'targeted':\")\n",
    "print(f\"Varianza: {varianza_targeted}\")\n",
    "print(f\"Desviación estándar: {std_targeted}\")\n",
    "print(f\"Rango: {rango_targeted}\")\n",
    "\n",
    "print(\"\\nMedidas de dispersión para 'aggressive':\")\n",
    "print(f\"Varianza: {varianza_aggressive}\")\n",
    "print(f\"Desviación estándar: {std_aggressive}\")\n",
    "print(f\"Rango: {rango_aggressive}\")\n"
   ]
  },
  {
   "cell_type": "code",
   "execution_count": 11,
   "id": "70e50eff-5648-4347-926a-b4c7f2405045",
   "metadata": {
    "tags": []
   },
   "outputs": [
    {
     "name": "stdout",
     "output_type": "stream",
     "text": [
      "           sentiment   hateful  targeted  aggresive\n",
      "sentiment        NaN       NaN       NaN        NaN\n",
      "hateful          NaN  1.000000  0.402532   0.922628\n",
      "targeted         NaN  0.402532  1.000000   0.587509\n",
      "aggresive        NaN  0.922628  0.587509   1.000000\n"
     ]
    }
   ],
   "source": [
    "correlaciones = df_hate_territorio[['sentiment', 'hateful', 'targeted', 'aggresive']].corr()\n",
    "print(correlaciones)\n",
    "\n"
   ]
  },
  {
   "cell_type": "code",
   "execution_count": 12,
   "id": "93835ef3-56c7-448e-aa11-226448691cfc",
   "metadata": {
    "tags": []
   },
   "outputs": [
    {
     "data": {
      "image/png": "[encoded data removed]",
      "text/plain": [
       "<Figure size 800x600 with 2 Axes>"
      ]
     },
     "metadata": {},
     "output_type": "display_data"
    }
   ],
   "source": [
    "import seaborn as sns\n",
    "import matplotlib.pyplot as plt\n",
    "\n",
    "correlaciones = df_hate_territorio[['sentiment', 'hateful', 'targeted', 'aggresive']].corr()\n",
    "\n",
    "plt.figure(figsize=(8, 6))\n",
    "sns.heatmap(correlaciones, annot=True, cmap='coolwarm', fmt=\".2f\")\n",
    "plt.title('Mapa de calor de correlaciones')\n",
    "plt.show()\n"
   ]
  },
  {
   "cell_type": "code",
   "execution_count": null,
   "id": "fffd895b-96a1-4418-9d94-666a0d462a80",
   "metadata": {},
   "outputs": [],
   "source": []
  },
  {
   "cell_type": "code",
   "execution_count": null,
   "id": "e1318005-2799-4298-a925-29395545c58e",
   "metadata": {},
   "outputs": [],
   "source": []
  }
 ],
 "metadata": {
  "kernelspec": {
   "display_name": "Python 3 (ipykernel)",
   "language": "python",
   "name": "python3"
  },
  "language_info": {
   "codemirror_mode": {
    "name": "ipython",
    "version": 3
   },
   "file_extension": ".py",
   "mimetype": "text/x-python",
   "name": "python",
   "nbconvert_exporter": "python",
   "pygments_lexer": "ipython3",
   "version": "3.11.4"
  }
 },
 "nbformat": 4,
 "nbformat_minor": 5
}
