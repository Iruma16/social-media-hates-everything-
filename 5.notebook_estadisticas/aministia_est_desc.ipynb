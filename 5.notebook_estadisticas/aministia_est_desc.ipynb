{
 "cells": [
  {
   "cell_type": "code",
   "execution_count": 3,
   "id": "fcd6c0e0-bc8b-4f5e-b681-bb50031a1876",
   "metadata": {},
   "outputs": [],
   "source": [
    "import pandas as pd"
   ]
  },
  {
   "cell_type": "code",
   "execution_count": 4,
   "id": "96f8e9e7-443e-43c8-aa65-3b21d25abb74",
   "metadata": {
    "tags": []
   },
   "outputs": [],
   "source": [
    "df_hate_amnistia = pd.read_csv('/Users/usuario/Downloads/irunela/csv/csv_hate/hate_amnistia.csv')"
   ]
  },
  {
   "cell_type": "code",
   "execution_count": 64,
   "id": "a16246f5-5b40-479f-902d-0451b407b37c",
   "metadata": {
    "tags": []
   },
   "outputs": [
    {
     "data": {
      "text/html": [
       "<div>\n",
       "<style scoped>\n",
       "    .dataframe tbody tr th:only-of-type {\n",
       "        vertical-align: middle;\n",
       "    }\n",
       "\n",
       "    .dataframe tbody tr th {\n",
       "        vertical-align: top;\n",
       "    }\n",
       "\n",
       "    .dataframe thead th {\n",
       "        text-align: right;\n",
       "    }\n",
       "</style>\n",
       "<table border=\"1\" class=\"dataframe\">\n",
       "  <thead>\n",
       "    <tr style=\"text-align: right;\">\n",
       "      <th></th>\n",
       "      <th>Unnamed: 0</th>\n",
       "      <th>video_id</th>\n",
       "      <th>author</th>\n",
       "      <th>comment</th>\n",
       "      <th>vectores_tfidf</th>\n",
       "      <th>comment_stem</th>\n",
       "      <th>sentiment</th>\n",
       "      <th>hateful</th>\n",
       "      <th>targeted</th>\n",
       "      <th>aggresive</th>\n",
       "    </tr>\n",
       "  </thead>\n",
       "  <tbody>\n",
       "    <tr>\n",
       "      <th>0</th>\n",
       "      <td>0</td>\n",
       "      <td>T-smnnEAdM0</td>\n",
       "      <td>UCTlJjNviHj7Y32eiOdHH_FQ</td>\n",
       "      <td>No me creo que les importemos algo. Estos son ...</td>\n",
       "      <td>[0. 0. 0. ... 0. 0. 0.]</td>\n",
       "      <td>creo importemo misma opini</td>\n",
       "      <td>0.0</td>\n",
       "      <td>0.033165</td>\n",
       "      <td>0.019271</td>\n",
       "      <td>0.018086</td>\n",
       "    </tr>\n",
       "    <tr>\n",
       "      <th>1</th>\n",
       "      <td>1</td>\n",
       "      <td>T-smnnEAdM0</td>\n",
       "      <td>UC5VOjXoHeqZUF0swDWq_2SA</td>\n",
       "      <td>como propuso Vox al PP, manipular no es bueno</td>\n",
       "      <td>[0. 0. 0. ... 0. 0. 0.]</td>\n",
       "      <td>propuso manipular bueno</td>\n",
       "      <td>0.0</td>\n",
       "      <td>0.049899</td>\n",
       "      <td>0.040622</td>\n",
       "      <td>0.040734</td>\n",
       "    </tr>\n",
       "    <tr>\n",
       "      <th>2</th>\n",
       "      <td>2</td>\n",
       "      <td>T-smnnEAdM0</td>\n",
       "      <td>UCB6JDzYw_B3Ufx_hr11CKag</td>\n",
       "      <td>BABEO ELLOS SON COMPLICES DE ESTE INS ULTO</td>\n",
       "      <td>[0. 0. 0. ... 0. 0. 0.]</td>\n",
       "      <td>babeo complic ulto</td>\n",
       "      <td>0.0</td>\n",
       "      <td>0.025255</td>\n",
       "      <td>0.020562</td>\n",
       "      <td>0.021216</td>\n",
       "    </tr>\n",
       "    <tr>\n",
       "      <th>3</th>\n",
       "      <td>3</td>\n",
       "      <td>T-smnnEAdM0</td>\n",
       "      <td>UCdElnB35gVnYe-PWgpCba0w</td>\n",
       "      <td>La UE es mentira solo esta para rumania, Hungr...</td>\n",
       "      <td>[0. 0. 0. ... 0. 0. 0.]</td>\n",
       "      <td>mentira solo rumania hungr</td>\n",
       "      <td>0.0</td>\n",
       "      <td>0.075883</td>\n",
       "      <td>0.010385</td>\n",
       "      <td>0.028004</td>\n",
       "    </tr>\n",
       "    <tr>\n",
       "      <th>4</th>\n",
       "      <td>4</td>\n",
       "      <td>T-smnnEAdM0</td>\n",
       "      <td>UCV2FlYRrK8tAE5OWy3EE1ew</td>\n",
       "      <td>He sido un actor extraordinario haciendo creer...</td>\n",
       "      <td>[0. 0. 0. ... 0. 0. 0.]</td>\n",
       "      <td>sido actor extraordinario haciendo creer hacie...</td>\n",
       "      <td>0.0</td>\n",
       "      <td>0.025055</td>\n",
       "      <td>0.010280</td>\n",
       "      <td>0.014328</td>\n",
       "    </tr>\n",
       "  </tbody>\n",
       "</table>\n",
       "</div>"
      ],
      "text/plain": [
       "   Unnamed: 0     video_id                    author  \\\n",
       "0           0  T-smnnEAdM0  UCTlJjNviHj7Y32eiOdHH_FQ   \n",
       "1           1  T-smnnEAdM0  UC5VOjXoHeqZUF0swDWq_2SA   \n",
       "2           2  T-smnnEAdM0  UCB6JDzYw_B3Ufx_hr11CKag   \n",
       "3           3  T-smnnEAdM0  UCdElnB35gVnYe-PWgpCba0w   \n",
       "4           4  T-smnnEAdM0  UCV2FlYRrK8tAE5OWy3EE1ew   \n",
       "\n",
       "                                             comment           vectores_tfidf  \\\n",
       "0  No me creo que les importemos algo. Estos son ...  [0. 0. 0. ... 0. 0. 0.]   \n",
       "1      como propuso Vox al PP, manipular no es bueno  [0. 0. 0. ... 0. 0. 0.]   \n",
       "2         BABEO ELLOS SON COMPLICES DE ESTE INS ULTO  [0. 0. 0. ... 0. 0. 0.]   \n",
       "3  La UE es mentira solo esta para rumania, Hungr...  [0. 0. 0. ... 0. 0. 0.]   \n",
       "4  He sido un actor extraordinario haciendo creer...  [0. 0. 0. ... 0. 0. 0.]   \n",
       "\n",
       "                                        comment_stem  sentiment   hateful  \\\n",
       "0                         creo importemo misma opini        0.0  0.033165   \n",
       "1                            propuso manipular bueno        0.0  0.049899   \n",
       "2                                 babeo complic ulto        0.0  0.025255   \n",
       "3                         mentira solo rumania hungr        0.0  0.075883   \n",
       "4  sido actor extraordinario haciendo creer hacie...        0.0  0.025055   \n",
       "\n",
       "   targeted  aggresive  \n",
       "0  0.019271   0.018086  \n",
       "1  0.040622   0.040734  \n",
       "2  0.020562   0.021216  \n",
       "3  0.010385   0.028004  \n",
       "4  0.010280   0.014328  "
      ]
     },
     "execution_count": 64,
     "metadata": {},
     "output_type": "execute_result"
    }
   ],
   "source": [
    "df_hate_amnistia.head()\n"
   ]
  },
  {
   "cell_type": "code",
   "execution_count": 65,
   "id": "2134af1b-af68-4524-9422-7cb6e14012b2",
   "metadata": {
    "tags": []
   },
   "outputs": [
    {
     "data": {
      "text/html": [
       "<div>\n",
       "<style scoped>\n",
       "    .dataframe tbody tr th:only-of-type {\n",
       "        vertical-align: middle;\n",
       "    }\n",
       "\n",
       "    .dataframe tbody tr th {\n",
       "        vertical-align: top;\n",
       "    }\n",
       "\n",
       "    .dataframe thead th {\n",
       "        text-align: right;\n",
       "    }\n",
       "</style>\n",
       "<table border=\"1\" class=\"dataframe\">\n",
       "  <thead>\n",
       "    <tr style=\"text-align: right;\">\n",
       "      <th></th>\n",
       "      <th>Unnamed: 0</th>\n",
       "      <th>sentiment</th>\n",
       "      <th>hateful</th>\n",
       "      <th>targeted</th>\n",
       "      <th>aggresive</th>\n",
       "    </tr>\n",
       "  </thead>\n",
       "  <tbody>\n",
       "    <tr>\n",
       "      <th>count</th>\n",
       "      <td>5305.00000</td>\n",
       "      <td>5305.0</td>\n",
       "      <td>5305.000000</td>\n",
       "      <td>5305.000000</td>\n",
       "      <td>5305.000000</td>\n",
       "    </tr>\n",
       "    <tr>\n",
       "      <th>mean</th>\n",
       "      <td>2652.00000</td>\n",
       "      <td>0.0</td>\n",
       "      <td>0.086808</td>\n",
       "      <td>0.033235</td>\n",
       "      <td>0.050071</td>\n",
       "    </tr>\n",
       "    <tr>\n",
       "      <th>std</th>\n",
       "      <td>1531.56592</td>\n",
       "      <td>0.0</td>\n",
       "      <td>0.149780</td>\n",
       "      <td>0.087898</td>\n",
       "      <td>0.097730</td>\n",
       "    </tr>\n",
       "    <tr>\n",
       "      <th>min</th>\n",
       "      <td>0.00000</td>\n",
       "      <td>0.0</td>\n",
       "      <td>0.007136</td>\n",
       "      <td>0.003330</td>\n",
       "      <td>0.006482</td>\n",
       "    </tr>\n",
       "    <tr>\n",
       "      <th>25%</th>\n",
       "      <td>1326.00000</td>\n",
       "      <td>0.0</td>\n",
       "      <td>0.024147</td>\n",
       "      <td>0.010349</td>\n",
       "      <td>0.016490</td>\n",
       "    </tr>\n",
       "    <tr>\n",
       "      <th>50%</th>\n",
       "      <td>2652.00000</td>\n",
       "      <td>0.0</td>\n",
       "      <td>0.042807</td>\n",
       "      <td>0.015228</td>\n",
       "      <td>0.026181</td>\n",
       "    </tr>\n",
       "    <tr>\n",
       "      <th>75%</th>\n",
       "      <td>3978.00000</td>\n",
       "      <td>0.0</td>\n",
       "      <td>0.071498</td>\n",
       "      <td>0.028387</td>\n",
       "      <td>0.046344</td>\n",
       "    </tr>\n",
       "    <tr>\n",
       "      <th>max</th>\n",
       "      <td>5304.00000</td>\n",
       "      <td>0.0</td>\n",
       "      <td>0.988236</td>\n",
       "      <td>0.984877</td>\n",
       "      <td>0.979100</td>\n",
       "    </tr>\n",
       "  </tbody>\n",
       "</table>\n",
       "</div>"
      ],
      "text/plain": [
       "       Unnamed: 0  sentiment      hateful     targeted    aggresive\n",
       "count  5305.00000     5305.0  5305.000000  5305.000000  5305.000000\n",
       "mean   2652.00000        0.0     0.086808     0.033235     0.050071\n",
       "std    1531.56592        0.0     0.149780     0.087898     0.097730\n",
       "min       0.00000        0.0     0.007136     0.003330     0.006482\n",
       "25%    1326.00000        0.0     0.024147     0.010349     0.016490\n",
       "50%    2652.00000        0.0     0.042807     0.015228     0.026181\n",
       "75%    3978.00000        0.0     0.071498     0.028387     0.046344\n",
       "max    5304.00000        0.0     0.988236     0.984877     0.979100"
      ]
     },
     "execution_count": 65,
     "metadata": {},
     "output_type": "execute_result"
    }
   ],
   "source": [
    "df_hate_amnistia.describe()"
   ]
  },
  {
   "cell_type": "code",
   "execution_count": 66,
   "id": "ff6a192f-52d3-4fc4-86b6-48718a05fca3",
   "metadata": {
    "tags": []
   },
   "outputs": [],
   "source": [
    "import pandas as pd\n",
    "\n",
    "# Calcular la media\n",
    "media = df_hate_amnistia[['sentiment', 'hateful', 'targeted', 'aggresive']].mean()\n",
    "\n",
    "# Calcular la mediana\n",
    "mediana = df_hate_amnistia[['sentiment', 'hateful', 'targeted', 'aggresive']].median()\n",
    "\n",
    "# Calcular la moda\n",
    "moda = df_hate_amnistia[['sentiment', 'hateful', 'targeted', 'aggresive']].mode().iloc[0]"
   ]
  },
  {
   "cell_type": "code",
   "execution_count": 67,
   "id": "8aba291a-841e-4d0a-83db-c0c1b049725a",
   "metadata": {
    "tags": []
   },
   "outputs": [
    {
     "data": {
      "text/plain": [
       "sentiment    0.000000\n",
       "hateful      0.086808\n",
       "targeted     0.033235\n",
       "aggresive    0.050071\n",
       "dtype: float64"
      ]
     },
     "execution_count": 67,
     "metadata": {},
     "output_type": "execute_result"
    }
   ],
   "source": [
    "media"
   ]
  },
  {
   "cell_type": "code",
   "execution_count": 68,
   "id": "2af123bf-4efd-4a1b-a376-5103c17b4d2e",
   "metadata": {
    "tags": []
   },
   "outputs": [
    {
     "data": {
      "text/plain": [
       "sentiment    0.000000\n",
       "hateful      0.042807\n",
       "targeted     0.015228\n",
       "aggresive    0.026181\n",
       "dtype: float64"
      ]
     },
     "execution_count": 68,
     "metadata": {},
     "output_type": "execute_result"
    }
   ],
   "source": [
    "mediana"
   ]
  },
  {
   "cell_type": "code",
   "execution_count": 69,
   "id": "088fd00e-8742-4af6-b0ad-0aacbf74abcd",
   "metadata": {
    "tags": []
   },
   "outputs": [
    {
     "data": {
      "text/plain": [
       "sentiment    0.000000\n",
       "hateful      0.069062\n",
       "targeted     0.050345\n",
       "aggresive    0.062262\n",
       "Name: 0, dtype: float64"
      ]
     },
     "execution_count": 69,
     "metadata": {},
     "output_type": "execute_result"
    }
   ],
   "source": [
    "moda"
   ]
  },
  {
   "cell_type": "code",
   "execution_count": 70,
   "id": "db268c67-4af3-434e-95ef-9152ed23feb0",
   "metadata": {
    "tags": []
   },
   "outputs": [],
   "source": [
    "# Varianza\n",
    "varianza_sentiment = df_hate_amnistia['sentiment'].var()\n",
    "varianza_hateful = df_hate_amnistia['hateful'].var()\n",
    "varianza_targeted = df_hate_amnistia['targeted'].var()\n",
    "varianza_aggressive = df_hate_amnistia['aggresive'].var()\n",
    "\n",
    "# Desviación estándar\n",
    "std_sentiment = df_hate_amnistia['sentiment'].std()\n",
    "std_hateful = df_hate_amnistia['hateful'].std()\n",
    "std_targeted = df_hate_amnistia['targeted'].std()\n",
    "std_aggressive = df_hate_amnistia['aggresive'].std()\n",
    "\n",
    "# Rango\n",
    "rango_sentiment = df_hate_amnistia['sentiment'].max() - df_hate_amnistia['sentiment'].min()\n",
    "rango_hateful = df_hate_amnistia['hateful'].max() - df_hate_amnistia['hateful'].min()\n",
    "rango_targeted = df_hate_amnistia['targeted'].max() - df_hate_amnistia['targeted'].min()\n",
    "rango_aggressive = df_hate_amnistia['aggresive'].max() - df_hate_amnistia['aggresive'].min()\n"
   ]
  },
  {
   "cell_type": "code",
   "execution_count": 71,
   "id": "0f8d45b9-8d12-4a6c-a0a5-1beecc2494d1",
   "metadata": {
    "jupyter": {
     "source_hidden": true
    },
    "tags": []
   },
   "outputs": [
    {
     "name": "stdout",
     "output_type": "stream",
     "text": [
      "Medidas de dispersión para 'sentiment':\n",
      "Varianza: 0.0\n",
      "Desviación estándar: 0.0\n",
      "Rango: 0.0\n",
      "\n",
      "Medidas de dispersión para 'hateful':\n",
      "Varianza: 0.022434128323651534\n",
      "Desviación estándar: 0.14978026680324594\n",
      "Rango: 0.981099403463304\n",
      "\n",
      "Medidas de dispersión para 'targeted':\n",
      "Varianza: 0.0077260897376604\n",
      "Desviación estándar: 0.08789817823857557\n",
      "Rango: 0.9815472729969771\n",
      "\n",
      "Medidas de dispersión para 'aggressive':\n",
      "Varianza: 0.009551203873182774\n",
      "Desviación estándar: 0.09773026078540246\n",
      "Rango: 0.9726175339892508\n"
     ]
    }
   ],
   "source": [
    "print(\"Medidas de dispersión para 'sentiment':\")\n",
    "print(f\"Varianza: {varianza_sentiment}\")\n",
    "print(f\"Desviación estándar: {std_sentiment}\")\n",
    "print(f\"Rango: {rango_sentiment}\")\n",
    "\n",
    "print(\"\\nMedidas de dispersión para 'hateful':\")\n",
    "print(f\"Varianza: {varianza_hateful}\")\n",
    "print(f\"Desviación estándar: {std_hateful}\")\n",
    "print(f\"Rango: {rango_hateful}\")\n",
    "\n",
    "print(\"\\nMedidas de dispersión para 'targeted':\")\n",
    "print(f\"Varianza: {varianza_targeted}\")\n",
    "print(f\"Desviación estándar: {std_targeted}\")\n",
    "print(f\"Rango: {rango_targeted}\")\n",
    "\n",
    "print(\"\\nMedidas de dispersión para 'aggressive':\")\n",
    "print(f\"Varianza: {varianza_aggressive}\")\n",
    "print(f\"Desviación estándar: {std_aggressive}\")\n",
    "print(f\"Rango: {rango_aggressive}\")\n"
   ]
  },
  {
   "cell_type": "code",
   "execution_count": 80,
   "id": "053758b3-ea95-4e23-9ea4-8a6ce25466ef",
   "metadata": {
    "tags": []
   },
   "outputs": [
    {
     "data": {
      "image/png": "[encoded data removed]",
      "text/plain": [
       "<Figure size 800x600 with 1 Axes>"
      ]
     },
     "metadata": {},
     "output_type": "display_data"
    }
   ],
   "source": [
    "import seaborn as sns\n",
    "import matplotlib.pyplot as plt\n",
    "\n",
    "# Suponiendo que df es tu DataFrame\n",
    "plt.figure(figsize=(8, 6))\n",
    "sns.scatterplot(x='targeted', y='hateful', data=df_hate_amnistia, label='Hateful', color='red')\n",
    "sns.scatterplot(x='targeted', y='aggresive', data=df_hate_amnistia, label='Aggresive', color='blue')\n",
    "\n",
    "plt.xlabel('Targeted')\n",
    "plt.ylabel('Values')\n",
    "plt.title('Relationship between Targeted, Hateful, and Aggressive')\n",
    "plt.legend()\n",
    "plt.show()\n"
   ]
  },
  {
   "cell_type": "code",
   "execution_count": null,
   "id": "951f8b09-c59a-4d46-8d44-edbd465982a2",
   "metadata": {},
   "outputs": [],
   "source": []
  }
 ],
 "metadata": {
  "kernelspec": {
   "display_name": "Python 3 (ipykernel)",
   "language": "python",
   "name": "python3"
  },
  "language_info": {
   "codemirror_mode": {
    "name": "ipython",
    "version": 3
   },
   "file_extension": ".py",
   "mimetype": "text/x-python",
   "name": "python",
   "nbconvert_exporter": "python",
   "pygments_lexer": "ipython3",
   "version": "3.11.4"
  }
 },
 "nbformat": 4,
 "nbformat_minor": 5
}
