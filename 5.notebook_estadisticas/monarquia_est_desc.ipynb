{
 "cells": [
  {
   "cell_type": "code",
   "execution_count": 1,
   "id": "fcd6c0e0-bc8b-4f5e-b681-bb50031a1876",
   "metadata": {},
   "outputs": [],
   "source": [
    "import pandas as pd"
   ]
  },
  {
   "cell_type": "code",
   "execution_count": 2,
   "id": "96f8e9e7-443e-43c8-aa65-3b21d25abb74",
   "metadata": {
    "tags": []
   },
   "outputs": [],
   "source": [
    "df_hate_monarquia = pd.read_csv('/Users/usuario/Downloads/irunela/csv/csv_hate/hate_monarquia.csv')"
   ]
  },
  {
   "cell_type": "code",
   "execution_count": 3,
   "id": "a16246f5-5b40-479f-902d-0451b407b37c",
   "metadata": {
    "tags": []
   },
   "outputs": [
    {
     "data": {
      "text/html": [
       "<div>\n",
       "<style scoped>\n",
       "    .dataframe tbody tr th:only-of-type {\n",
       "        vertical-align: middle;\n",
       "    }\n",
       "\n",
       "    .dataframe tbody tr th {\n",
       "        vertical-align: top;\n",
       "    }\n",
       "\n",
       "    .dataframe thead th {\n",
       "        text-align: right;\n",
       "    }\n",
       "</style>\n",
       "<table border=\"1\" class=\"dataframe\">\n",
       "  <thead>\n",
       "    <tr style=\"text-align: right;\">\n",
       "      <th></th>\n",
       "      <th>Unnamed: 0.1</th>\n",
       "      <th>Unnamed: 0</th>\n",
       "      <th>video_id</th>\n",
       "      <th>author</th>\n",
       "      <th>comment</th>\n",
       "      <th>vectores_tfidf</th>\n",
       "      <th>comment_stem</th>\n",
       "      <th>sentiment</th>\n",
       "      <th>hateful</th>\n",
       "      <th>targeted</th>\n",
       "      <th>aggresive</th>\n",
       "    </tr>\n",
       "  </thead>\n",
       "  <tbody>\n",
       "    <tr>\n",
       "      <th>0</th>\n",
       "      <td>0</td>\n",
       "      <td>2</td>\n",
       "      <td>WdtyLi2wBDs</td>\n",
       "      <td>UCTkpp46iUcTXPh_bjDgOZCg</td>\n",
       "      <td>De hecho me hubiera gustado que mi país (venez...</td>\n",
       "      <td>[0. 0. 0. ... 0. 0. 0.]</td>\n",
       "      <td>hecho gustado venezuela hecho monarquia podido...</td>\n",
       "      <td>0.0</td>\n",
       "      <td>0.038154</td>\n",
       "      <td>0.008658</td>\n",
       "      <td>0.017104</td>\n",
       "    </tr>\n",
       "    <tr>\n",
       "      <th>1</th>\n",
       "      <td>1</td>\n",
       "      <td>3</td>\n",
       "      <td>WdtyLi2wBDs</td>\n",
       "      <td>UCPOFnRYCCd5mEoAuoSyAAxA</td>\n",
       "      <td>1er error. Me la pela qué no se haya votado po...</td>\n",
       "      <td>[0. 0. 0. ... 0. 0. 0.]</td>\n",
       "      <td>error pela votado mejor persona puesto peticio...</td>\n",
       "      <td>0.0</td>\n",
       "      <td>0.256353</td>\n",
       "      <td>0.014165</td>\n",
       "      <td>0.103835</td>\n",
       "    </tr>\n",
       "    <tr>\n",
       "      <th>2</th>\n",
       "      <td>2</td>\n",
       "      <td>5</td>\n",
       "      <td>WdtyLi2wBDs</td>\n",
       "      <td>UCgW7xHsCcD7fCUpo0g0OkeA</td>\n",
       "      <td>Concuerdo totalmente</td>\n",
       "      <td>[0. 0. 0. ... 0. 0. 0.]</td>\n",
       "      <td>concuerdo totalment</td>\n",
       "      <td>0.0</td>\n",
       "      <td>0.025452</td>\n",
       "      <td>0.018105</td>\n",
       "      <td>0.022473</td>\n",
       "    </tr>\n",
       "    <tr>\n",
       "      <th>3</th>\n",
       "      <td>3</td>\n",
       "      <td>6</td>\n",
       "      <td>WdtyLi2wBDs</td>\n",
       "      <td>UCe4DyAgY27gIlhTMUFRgddw</td>\n",
       "      <td>Buenos días, hay otro argumento, para mí muy i...</td>\n",
       "      <td>[0. 0. 0. ... 0. 0. 0.]</td>\n",
       "      <td>bueno argumento important espa lleno tradicion...</td>\n",
       "      <td>0.0</td>\n",
       "      <td>0.069642</td>\n",
       "      <td>0.008628</td>\n",
       "      <td>0.035856</td>\n",
       "    </tr>\n",
       "    <tr>\n",
       "      <th>4</th>\n",
       "      <td>4</td>\n",
       "      <td>7</td>\n",
       "      <td>WdtyLi2wBDs</td>\n",
       "      <td>UCW1_64QJukG8Nx-ElnUfmZg</td>\n",
       "      <td>Totalmente de acuerdo …. Mejor explicado impos...</td>\n",
       "      <td>[0. 0. 0. ... 0. 0. 0.]</td>\n",
       "      <td>totalment acuerdo mejor explicado impos</td>\n",
       "      <td>0.0</td>\n",
       "      <td>0.016354</td>\n",
       "      <td>0.009601</td>\n",
       "      <td>0.010729</td>\n",
       "    </tr>\n",
       "  </tbody>\n",
       "</table>\n",
       "</div>"
      ],
      "text/plain": [
       "   Unnamed: 0.1  Unnamed: 0     video_id                    author  \\\n",
       "0             0           2  WdtyLi2wBDs  UCTkpp46iUcTXPh_bjDgOZCg   \n",
       "1             1           3  WdtyLi2wBDs  UCPOFnRYCCd5mEoAuoSyAAxA   \n",
       "2             2           5  WdtyLi2wBDs  UCgW7xHsCcD7fCUpo0g0OkeA   \n",
       "3             3           6  WdtyLi2wBDs  UCe4DyAgY27gIlhTMUFRgddw   \n",
       "4             4           7  WdtyLi2wBDs  UCW1_64QJukG8Nx-ElnUfmZg   \n",
       "\n",
       "                                             comment           vectores_tfidf  \\\n",
       "0  De hecho me hubiera gustado que mi país (venez...  [0. 0. 0. ... 0. 0. 0.]   \n",
       "1  1er error. Me la pela qué no se haya votado po...  [0. 0. 0. ... 0. 0. 0.]   \n",
       "2                               Concuerdo totalmente  [0. 0. 0. ... 0. 0. 0.]   \n",
       "3  Buenos días, hay otro argumento, para mí muy i...  [0. 0. 0. ... 0. 0. 0.]   \n",
       "4  Totalmente de acuerdo …. Mejor explicado impos...  [0. 0. 0. ... 0. 0. 0.]   \n",
       "\n",
       "                                        comment_stem  sentiment   hateful  \\\n",
       "0  hecho gustado venezuela hecho monarquia podido...        0.0  0.038154   \n",
       "1  error pela votado mejor persona puesto peticio...        0.0  0.256353   \n",
       "2                                concuerdo totalment        0.0  0.025452   \n",
       "3  bueno argumento important espa lleno tradicion...        0.0  0.069642   \n",
       "4            totalment acuerdo mejor explicado impos        0.0  0.016354   \n",
       "\n",
       "   targeted  aggresive  \n",
       "0  0.008658   0.017104  \n",
       "1  0.014165   0.103835  \n",
       "2  0.018105   0.022473  \n",
       "3  0.008628   0.035856  \n",
       "4  0.009601   0.010729  "
      ]
     },
     "execution_count": 3,
     "metadata": {},
     "output_type": "execute_result"
    }
   ],
   "source": [
    "df_hate_monarquia.head()\n"
   ]
  },
  {
   "cell_type": "code",
   "execution_count": 4,
   "id": "2134af1b-af68-4524-9422-7cb6e14012b2",
   "metadata": {
    "tags": []
   },
   "outputs": [
    {
     "data": {
      "text/html": [
       "<div>\n",
       "<style scoped>\n",
       "    .dataframe tbody tr th:only-of-type {\n",
       "        vertical-align: middle;\n",
       "    }\n",
       "\n",
       "    .dataframe tbody tr th {\n",
       "        vertical-align: top;\n",
       "    }\n",
       "\n",
       "    .dataframe thead th {\n",
       "        text-align: right;\n",
       "    }\n",
       "</style>\n",
       "<table border=\"1\" class=\"dataframe\">\n",
       "  <thead>\n",
       "    <tr style=\"text-align: right;\">\n",
       "      <th></th>\n",
       "      <th>Unnamed: 0.1</th>\n",
       "      <th>Unnamed: 0</th>\n",
       "      <th>sentiment</th>\n",
       "      <th>hateful</th>\n",
       "      <th>targeted</th>\n",
       "      <th>aggresive</th>\n",
       "    </tr>\n",
       "  </thead>\n",
       "  <tbody>\n",
       "    <tr>\n",
       "      <th>count</th>\n",
       "      <td>4233.000000</td>\n",
       "      <td>4233.000000</td>\n",
       "      <td>4233.0</td>\n",
       "      <td>4233.000000</td>\n",
       "      <td>4233.000000</td>\n",
       "      <td>4233.000000</td>\n",
       "    </tr>\n",
       "    <tr>\n",
       "      <th>mean</th>\n",
       "      <td>2116.000000</td>\n",
       "      <td>4008.974959</td>\n",
       "      <td>0.0</td>\n",
       "      <td>0.101372</td>\n",
       "      <td>0.030324</td>\n",
       "      <td>0.054340</td>\n",
       "    </tr>\n",
       "    <tr>\n",
       "      <th>std</th>\n",
       "      <td>1222.106174</td>\n",
       "      <td>2309.732773</td>\n",
       "      <td>0.0</td>\n",
       "      <td>0.166071</td>\n",
       "      <td>0.073314</td>\n",
       "      <td>0.097977</td>\n",
       "    </tr>\n",
       "    <tr>\n",
       "      <th>min</th>\n",
       "      <td>0.000000</td>\n",
       "      <td>2.000000</td>\n",
       "      <td>0.0</td>\n",
       "      <td>0.007359</td>\n",
       "      <td>0.003330</td>\n",
       "      <td>0.006503</td>\n",
       "    </tr>\n",
       "    <tr>\n",
       "      <th>25%</th>\n",
       "      <td>1058.000000</td>\n",
       "      <td>2005.000000</td>\n",
       "      <td>0.0</td>\n",
       "      <td>0.023227</td>\n",
       "      <td>0.010418</td>\n",
       "      <td>0.015837</td>\n",
       "    </tr>\n",
       "    <tr>\n",
       "      <th>50%</th>\n",
       "      <td>2116.000000</td>\n",
       "      <td>4021.000000</td>\n",
       "      <td>0.0</td>\n",
       "      <td>0.044305</td>\n",
       "      <td>0.015289</td>\n",
       "      <td>0.026382</td>\n",
       "    </tr>\n",
       "    <tr>\n",
       "      <th>75%</th>\n",
       "      <td>3174.000000</td>\n",
       "      <td>5987.000000</td>\n",
       "      <td>0.0</td>\n",
       "      <td>0.080635</td>\n",
       "      <td>0.026842</td>\n",
       "      <td>0.048985</td>\n",
       "    </tr>\n",
       "    <tr>\n",
       "      <th>max</th>\n",
       "      <td>4232.000000</td>\n",
       "      <td>8043.000000</td>\n",
       "      <td>0.0</td>\n",
       "      <td>0.985534</td>\n",
       "      <td>0.984507</td>\n",
       "      <td>0.974576</td>\n",
       "    </tr>\n",
       "  </tbody>\n",
       "</table>\n",
       "</div>"
      ],
      "text/plain": [
       "       Unnamed: 0.1   Unnamed: 0  sentiment      hateful     targeted  \\\n",
       "count   4233.000000  4233.000000     4233.0  4233.000000  4233.000000   \n",
       "mean    2116.000000  4008.974959        0.0     0.101372     0.030324   \n",
       "std     1222.106174  2309.732773        0.0     0.166071     0.073314   \n",
       "min        0.000000     2.000000        0.0     0.007359     0.003330   \n",
       "25%     1058.000000  2005.000000        0.0     0.023227     0.010418   \n",
       "50%     2116.000000  4021.000000        0.0     0.044305     0.015289   \n",
       "75%     3174.000000  5987.000000        0.0     0.080635     0.026842   \n",
       "max     4232.000000  8043.000000        0.0     0.985534     0.984507   \n",
       "\n",
       "         aggresive  \n",
       "count  4233.000000  \n",
       "mean      0.054340  \n",
       "std       0.097977  \n",
       "min       0.006503  \n",
       "25%       0.015837  \n",
       "50%       0.026382  \n",
       "75%       0.048985  \n",
       "max       0.974576  "
      ]
     },
     "execution_count": 4,
     "metadata": {},
     "output_type": "execute_result"
    }
   ],
   "source": [
    "df_hate_monarquia.describe()"
   ]
  },
  {
   "cell_type": "code",
   "execution_count": 5,
   "id": "ff6a192f-52d3-4fc4-86b6-48718a05fca3",
   "metadata": {
    "tags": []
   },
   "outputs": [],
   "source": [
    "import pandas as pd\n",
    "\n",
    "# Calcular la media\n",
    "media = df_hate_monarquia[['sentiment', 'hateful', 'targeted', 'aggresive']].mean()\n",
    "\n",
    "# Calcular la mediana\n",
    "mediana = df_hate_monarquia[['sentiment', 'hateful', 'targeted', 'aggresive']].median()\n",
    "\n",
    "# Calcular la moda\n",
    "moda = df_hate_monarquia[['sentiment', 'hateful', 'targeted', 'aggresive']].mode().iloc[0]"
   ]
  },
  {
   "cell_type": "code",
   "execution_count": 6,
   "id": "8aba291a-841e-4d0a-83db-c0c1b049725a",
   "metadata": {
    "tags": []
   },
   "outputs": [
    {
     "data": {
      "text/plain": [
       "sentiment    0.000000\n",
       "hateful      0.101372\n",
       "targeted     0.030324\n",
       "aggresive    0.054340\n",
       "dtype: float64"
      ]
     },
     "execution_count": 6,
     "metadata": {},
     "output_type": "execute_result"
    }
   ],
   "source": [
    "media"
   ]
  },
  {
   "cell_type": "code",
   "execution_count": 7,
   "id": "2af123bf-4efd-4a1b-a376-5103c17b4d2e",
   "metadata": {
    "tags": []
   },
   "outputs": [
    {
     "data": {
      "text/plain": [
       "sentiment    0.000000\n",
       "hateful      0.044305\n",
       "targeted     0.015289\n",
       "aggresive    0.026382\n",
       "dtype: float64"
      ]
     },
     "execution_count": 7,
     "metadata": {},
     "output_type": "execute_result"
    }
   ],
   "source": [
    "mediana"
   ]
  },
  {
   "cell_type": "code",
   "execution_count": 8,
   "id": "088fd00e-8742-4af6-b0ad-0aacbf74abcd",
   "metadata": {
    "tags": []
   },
   "outputs": [
    {
     "data": {
      "text/plain": [
       "sentiment    0.000000\n",
       "hateful      0.078962\n",
       "targeted     0.058249\n",
       "aggresive    0.061413\n",
       "Name: 0, dtype: float64"
      ]
     },
     "execution_count": 8,
     "metadata": {},
     "output_type": "execute_result"
    }
   ],
   "source": [
    "moda"
   ]
  },
  {
   "cell_type": "code",
   "execution_count": 9,
   "id": "db268c67-4af3-434e-95ef-9152ed23feb0",
   "metadata": {
    "tags": []
   },
   "outputs": [],
   "source": [
    "# Varianza\n",
    "varianza_sentiment = df_hate_monarquia['sentiment'].var()\n",
    "varianza_hateful = df_hate_monarquia['hateful'].var()\n",
    "varianza_targeted = df_hate_monarquia['targeted'].var()\n",
    "varianza_aggressive = df_hate_monarquia['aggresive'].var()\n",
    "\n",
    "# Desviación estándar\n",
    "std_sentiment = df_hate_monarquia['sentiment'].std()\n",
    "std_hateful = df_hate_monarquia['hateful'].std()\n",
    "std_targeted = df_hate_monarquia['targeted'].std()\n",
    "std_aggressive = df_hate_monarquia['aggresive'].std()\n",
    "\n",
    "# Rango\n",
    "rango_sentiment = df_hate_monarquia['sentiment'].max() - df_hate_monarquia['sentiment'].min()\n",
    "rango_hateful = df_hate_monarquia['hateful'].max() - df_hate_monarquia['hateful'].min()\n",
    "rango_targeted = df_hate_monarquia['targeted'].max() - df_hate_monarquia['targeted'].min()\n",
    "rango_aggressive = df_hate_monarquia['aggresive'].max() - df_hate_monarquia['aggresive'].min()\n"
   ]
  },
  {
   "cell_type": "code",
   "execution_count": 10,
   "id": "0f8d45b9-8d12-4a6c-a0a5-1beecc2494d1",
   "metadata": {
    "tags": []
   },
   "outputs": [
    {
     "name": "stdout",
     "output_type": "stream",
     "text": [
      "Medidas de dispersión para 'sentiment':\n",
      "Varianza: 0.0\n",
      "Desviación estándar: 0.0\n",
      "Rango: 0.0\n",
      "\n",
      "Medidas de dispersión para 'hateful':\n",
      "Varianza: 0.02757965545121297\n",
      "Desviación estándar: 0.1660712360742009\n",
      "Rango: 0.9781753015704453\n",
      "\n",
      "Medidas de dispersión para 'targeted':\n",
      "Varianza: 0.005374971796705579\n",
      "Desviación estándar: 0.07331419914795209\n",
      "Rango: 0.9811767109204083\n",
      "\n",
      "Medidas de dispersión para 'aggressive':\n",
      "Varianza: 0.009599569344644248\n",
      "Desviación estándar: 0.09797739200777007\n",
      "Rango: 0.9680730151012541\n"
     ]
    }
   ],
   "source": [
    "print(\"Medidas de dispersión para 'sentiment':\")\n",
    "print(f\"Varianza: {varianza_sentiment}\")\n",
    "print(f\"Desviación estándar: {std_sentiment}\")\n",
    "print(f\"Rango: {rango_sentiment}\")\n",
    "\n",
    "print(\"\\nMedidas de dispersión para 'hateful':\")\n",
    "print(f\"Varianza: {varianza_hateful}\")\n",
    "print(f\"Desviación estándar: {std_hateful}\")\n",
    "print(f\"Rango: {rango_hateful}\")\n",
    "\n",
    "print(\"\\nMedidas de dispersión para 'targeted':\")\n",
    "print(f\"Varianza: {varianza_targeted}\")\n",
    "print(f\"Desviación estándar: {std_targeted}\")\n",
    "print(f\"Rango: {rango_targeted}\")\n",
    "\n",
    "print(\"\\nMedidas de dispersión para 'aggressive':\")\n",
    "print(f\"Varianza: {varianza_aggressive}\")\n",
    "print(f\"Desviación estándar: {std_aggressive}\")\n",
    "print(f\"Rango: {rango_aggressive}\")\n"
   ]
  },
  {
   "cell_type": "code",
   "execution_count": 11,
   "id": "70e50eff-5648-4347-926a-b4c7f2405045",
   "metadata": {
    "tags": []
   },
   "outputs": [
    {
     "name": "stdout",
     "output_type": "stream",
     "text": [
      "           sentiment   hateful  targeted  aggresive\n",
      "sentiment        NaN       NaN       NaN        NaN\n",
      "hateful          NaN  1.000000  0.536842   0.915665\n",
      "targeted         NaN  0.536842  1.000000   0.718733\n",
      "aggresive        NaN  0.915665  0.718733   1.000000\n"
     ]
    }
   ],
   "source": [
    "correlaciones = df_hate_monarquia[['sentiment', 'hateful', 'targeted', 'aggresive']].corr()\n",
    "print(correlaciones)\n",
    "\n"
   ]
  },
  {
   "cell_type": "code",
   "execution_count": 12,
   "id": "93835ef3-56c7-448e-aa11-226448691cfc",
   "metadata": {
    "tags": []
   },
   "outputs": [
    {
     "data": {
      "image/png": "[encoded data removed]",
      "text/plain": [
       "<Figure size 800x600 with 2 Axes>"
      ]
     },
     "metadata": {},
     "output_type": "display_data"
    }
   ],
   "source": [
    "import seaborn as sns\n",
    "import matplotlib.pyplot as plt\n",
    "\n",
    "correlaciones = df_hate_monarquia[['sentiment', 'hateful', 'targeted', 'aggresive']].corr()\n",
    "\n",
    "plt.figure(figsize=(8, 6))\n",
    "sns.heatmap(correlaciones, annot=True, cmap='coolwarm', fmt=\".2f\")\n",
    "plt.title('Mapa de calor de correlaciones')\n",
    "plt.show()\n"
   ]
  },
  {
   "cell_type": "code",
   "execution_count": null,
   "id": "fffd895b-96a1-4418-9d94-666a0d462a80",
   "metadata": {},
   "outputs": [],
   "source": []
  },
  {
   "cell_type": "code",
   "execution_count": null,
   "id": "b34893ee-905e-400a-93d9-0d08c9f6acf8",
   "metadata": {},
   "outputs": [],
   "source": []
  }
 ],
 "metadata": {
  "kernelspec": {
   "display_name": "Python 3 (ipykernel)",
   "language": "python",
   "name": "python3"
  },
  "language_info": {
   "codemirror_mode": {
    "name": "ipython",
    "version": 3
   },
   "file_extension": ".py",
   "mimetype": "text/x-python",
   "name": "python",
   "nbconvert_exporter": "python",
   "pygments_lexer": "ipython3",
   "version": "3.11.4"
  }
 },
 "nbformat": 4,
 "nbformat_minor": 5
}
