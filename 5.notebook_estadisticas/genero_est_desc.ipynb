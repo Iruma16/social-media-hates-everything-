{
 "cells": [
  {
   "cell_type": "code",
   "execution_count": 12,
   "id": "fcd6c0e0-bc8b-4f5e-b681-bb50031a1876",
   "metadata": {},
   "outputs": [],
   "source": [
    "import pandas as pd"
   ]
  },
  {
   "cell_type": "code",
   "execution_count": 13,
   "id": "96f8e9e7-443e-43c8-aa65-3b21d25abb74",
   "metadata": {
    "tags": []
   },
   "outputs": [],
   "source": [
    "df_hate_genero = pd.read_csv('/Users/usuario/Downloads/irunela/csv/csv_hate/hate_genero.csv')"
   ]
  },
  {
   "cell_type": "code",
   "execution_count": 14,
   "id": "a16246f5-5b40-479f-902d-0451b407b37c",
   "metadata": {
    "tags": []
   },
   "outputs": [
    {
     "data": {
      "text/html": [
       "<div>\n",
       "<style scoped>\n",
       "    .dataframe tbody tr th:only-of-type {\n",
       "        vertical-align: middle;\n",
       "    }\n",
       "\n",
       "    .dataframe tbody tr th {\n",
       "        vertical-align: top;\n",
       "    }\n",
       "\n",
       "    .dataframe thead th {\n",
       "        text-align: right;\n",
       "    }\n",
       "</style>\n",
       "<table border=\"1\" class=\"dataframe\">\n",
       "  <thead>\n",
       "    <tr style=\"text-align: right;\">\n",
       "      <th></th>\n",
       "      <th>Unnamed: 0.1</th>\n",
       "      <th>Unnamed: 0</th>\n",
       "      <th>video_id</th>\n",
       "      <th>author</th>\n",
       "      <th>comment</th>\n",
       "      <th>vectores_tfidf</th>\n",
       "      <th>comment_stem</th>\n",
       "      <th>sentiment</th>\n",
       "      <th>hateful</th>\n",
       "      <th>targeted</th>\n",
       "      <th>aggresive</th>\n",
       "    </tr>\n",
       "  </thead>\n",
       "  <tbody>\n",
       "    <tr>\n",
       "      <th>0</th>\n",
       "      <td>0</td>\n",
       "      <td>3</td>\n",
       "      <td>fN48ESWAa_g</td>\n",
       "      <td>UC4Qts7s5CUO7cu2xeQzqCHw</td>\n",
       "      <td>No soy española, los reyes de españa tienen op...</td>\n",
       "      <td>[0. 0. 0. ... 0. 0. 0.]</td>\n",
       "      <td>espa rey espa opini sistema salud estan hecho ...</td>\n",
       "      <td>0.0</td>\n",
       "      <td>0.019192</td>\n",
       "      <td>0.004663</td>\n",
       "      <td>0.011251</td>\n",
       "    </tr>\n",
       "    <tr>\n",
       "      <th>1</th>\n",
       "      <td>1</td>\n",
       "      <td>5</td>\n",
       "      <td>fN48ESWAa_g</td>\n",
       "      <td>UCQbsjpbwCf9i0GWpXYJDjpQ</td>\n",
       "      <td>Los niños de DIOS, NO se TOCAN!!</td>\n",
       "      <td>[0. 0. 0. ... 0. 0. 0.]</td>\n",
       "      <td>dio tocan</td>\n",
       "      <td>0.0</td>\n",
       "      <td>0.055801</td>\n",
       "      <td>0.033007</td>\n",
       "      <td>0.040982</td>\n",
       "    </tr>\n",
       "    <tr>\n",
       "      <th>2</th>\n",
       "      <td>2</td>\n",
       "      <td>9</td>\n",
       "      <td>fN48ESWAa_g</td>\n",
       "      <td>UCCJ7-q-pN4bHboim1ehSVQA</td>\n",
       "      <td>Españoles y despues se qson muy occidentales</td>\n",
       "      <td>[0. 0. 0. ... 0. 0. 0.]</td>\n",
       "      <td>espa ole despu qson occidental</td>\n",
       "      <td>0.0</td>\n",
       "      <td>0.076327</td>\n",
       "      <td>0.021329</td>\n",
       "      <td>0.041870</td>\n",
       "    </tr>\n",
       "    <tr>\n",
       "      <th>3</th>\n",
       "      <td>3</td>\n",
       "      <td>12</td>\n",
       "      <td>fN48ESWAa_g</td>\n",
       "      <td>UCXe6MTUoWZ9HxtrBCmE5SMA</td>\n",
       "      <td>Yo con Irene Siempre</td>\n",
       "      <td>[0. 0. 0. ... 0. 0. 0.]</td>\n",
       "      <td>iren siempr</td>\n",
       "      <td>0.0</td>\n",
       "      <td>0.075682</td>\n",
       "      <td>0.044567</td>\n",
       "      <td>0.052881</td>\n",
       "    </tr>\n",
       "    <tr>\n",
       "      <th>4</th>\n",
       "      <td>4</td>\n",
       "      <td>13</td>\n",
       "      <td>fN48ESWAa_g</td>\n",
       "      <td>UCAL_FMNxmgd-oo2w5F_XCGw</td>\n",
       "      <td>Irene Montero es muy progre, y los pogres siem...</td>\n",
       "      <td>[0. 0. 0. ... 0. 0. 0.]</td>\n",
       "      <td>iren montero progr pogr siempr vanguardia</td>\n",
       "      <td>0.0</td>\n",
       "      <td>0.037154</td>\n",
       "      <td>0.024910</td>\n",
       "      <td>0.026604</td>\n",
       "    </tr>\n",
       "  </tbody>\n",
       "</table>\n",
       "</div>"
      ],
      "text/plain": [
       "   Unnamed: 0.1  Unnamed: 0     video_id                    author  \\\n",
       "0             0           3  fN48ESWAa_g  UC4Qts7s5CUO7cu2xeQzqCHw   \n",
       "1             1           5  fN48ESWAa_g  UCQbsjpbwCf9i0GWpXYJDjpQ   \n",
       "2             2           9  fN48ESWAa_g  UCCJ7-q-pN4bHboim1ehSVQA   \n",
       "3             3          12  fN48ESWAa_g  UCXe6MTUoWZ9HxtrBCmE5SMA   \n",
       "4             4          13  fN48ESWAa_g  UCAL_FMNxmgd-oo2w5F_XCGw   \n",
       "\n",
       "                                             comment           vectores_tfidf  \\\n",
       "0  No soy española, los reyes de españa tienen op...  [0. 0. 0. ... 0. 0. 0.]   \n",
       "1                   Los niños de DIOS, NO se TOCAN!!  [0. 0. 0. ... 0. 0. 0.]   \n",
       "2       Españoles y despues se qson muy occidentales  [0. 0. 0. ... 0. 0. 0.]   \n",
       "3                               Yo con Irene Siempre  [0. 0. 0. ... 0. 0. 0.]   \n",
       "4  Irene Montero es muy progre, y los pogres siem...  [0. 0. 0. ... 0. 0. 0.]   \n",
       "\n",
       "                                        comment_stem  sentiment   hateful  \\\n",
       "0  espa rey espa opini sistema salud estan hecho ...        0.0  0.019192   \n",
       "1                                          dio tocan        0.0  0.055801   \n",
       "2                     espa ole despu qson occidental        0.0  0.076327   \n",
       "3                                        iren siempr        0.0  0.075682   \n",
       "4          iren montero progr pogr siempr vanguardia        0.0  0.037154   \n",
       "\n",
       "   targeted  aggresive  \n",
       "0  0.004663   0.011251  \n",
       "1  0.033007   0.040982  \n",
       "2  0.021329   0.041870  \n",
       "3  0.044567   0.052881  \n",
       "4  0.024910   0.026604  "
      ]
     },
     "execution_count": 14,
     "metadata": {},
     "output_type": "execute_result"
    }
   ],
   "source": [
    "df_hate_genero.head()\n"
   ]
  },
  {
   "cell_type": "code",
   "execution_count": 15,
   "id": "2134af1b-af68-4524-9422-7cb6e14012b2",
   "metadata": {
    "tags": []
   },
   "outputs": [
    {
     "data": {
      "text/html": [
       "<div>\n",
       "<style scoped>\n",
       "    .dataframe tbody tr th:only-of-type {\n",
       "        vertical-align: middle;\n",
       "    }\n",
       "\n",
       "    .dataframe tbody tr th {\n",
       "        vertical-align: top;\n",
       "    }\n",
       "\n",
       "    .dataframe thead th {\n",
       "        text-align: right;\n",
       "    }\n",
       "</style>\n",
       "<table border=\"1\" class=\"dataframe\">\n",
       "  <thead>\n",
       "    <tr style=\"text-align: right;\">\n",
       "      <th></th>\n",
       "      <th>Unnamed: 0.1</th>\n",
       "      <th>Unnamed: 0</th>\n",
       "      <th>sentiment</th>\n",
       "      <th>hateful</th>\n",
       "      <th>targeted</th>\n",
       "      <th>aggresive</th>\n",
       "    </tr>\n",
       "  </thead>\n",
       "  <tbody>\n",
       "    <tr>\n",
       "      <th>count</th>\n",
       "      <td>5231.00000</td>\n",
       "      <td>5231.000000</td>\n",
       "      <td>5231.0</td>\n",
       "      <td>5231.000000</td>\n",
       "      <td>5231.000000</td>\n",
       "      <td>5231.000000</td>\n",
       "    </tr>\n",
       "    <tr>\n",
       "      <th>mean</th>\n",
       "      <td>2615.00000</td>\n",
       "      <td>4969.587651</td>\n",
       "      <td>0.0</td>\n",
       "      <td>0.117973</td>\n",
       "      <td>0.053817</td>\n",
       "      <td>0.065827</td>\n",
       "    </tr>\n",
       "    <tr>\n",
       "      <th>std</th>\n",
       "      <td>1510.20396</td>\n",
       "      <td>2848.388637</td>\n",
       "      <td>0.0</td>\n",
       "      <td>0.204080</td>\n",
       "      <td>0.144573</td>\n",
       "      <td>0.141506</td>\n",
       "    </tr>\n",
       "    <tr>\n",
       "      <th>min</th>\n",
       "      <td>0.00000</td>\n",
       "      <td>3.000000</td>\n",
       "      <td>0.0</td>\n",
       "      <td>0.008030</td>\n",
       "      <td>0.004138</td>\n",
       "      <td>0.006577</td>\n",
       "    </tr>\n",
       "    <tr>\n",
       "      <th>25%</th>\n",
       "      <td>1307.50000</td>\n",
       "      <td>2576.000000</td>\n",
       "      <td>0.0</td>\n",
       "      <td>0.026324</td>\n",
       "      <td>0.011445</td>\n",
       "      <td>0.016922</td>\n",
       "    </tr>\n",
       "    <tr>\n",
       "      <th>50%</th>\n",
       "      <td>2615.00000</td>\n",
       "      <td>4966.000000</td>\n",
       "      <td>0.0</td>\n",
       "      <td>0.045483</td>\n",
       "      <td>0.017900</td>\n",
       "      <td>0.027450</td>\n",
       "    </tr>\n",
       "    <tr>\n",
       "      <th>75%</th>\n",
       "      <td>3922.50000</td>\n",
       "      <td>7473.500000</td>\n",
       "      <td>0.0</td>\n",
       "      <td>0.078782</td>\n",
       "      <td>0.034881</td>\n",
       "      <td>0.049879</td>\n",
       "    </tr>\n",
       "    <tr>\n",
       "      <th>max</th>\n",
       "      <td>5230.00000</td>\n",
       "      <td>9910.000000</td>\n",
       "      <td>0.0</td>\n",
       "      <td>0.991486</td>\n",
       "      <td>0.987530</td>\n",
       "      <td>0.979510</td>\n",
       "    </tr>\n",
       "  </tbody>\n",
       "</table>\n",
       "</div>"
      ],
      "text/plain": [
       "       Unnamed: 0.1   Unnamed: 0  sentiment      hateful     targeted  \\\n",
       "count    5231.00000  5231.000000     5231.0  5231.000000  5231.000000   \n",
       "mean     2615.00000  4969.587651        0.0     0.117973     0.053817   \n",
       "std      1510.20396  2848.388637        0.0     0.204080     0.144573   \n",
       "min         0.00000     3.000000        0.0     0.008030     0.004138   \n",
       "25%      1307.50000  2576.000000        0.0     0.026324     0.011445   \n",
       "50%      2615.00000  4966.000000        0.0     0.045483     0.017900   \n",
       "75%      3922.50000  7473.500000        0.0     0.078782     0.034881   \n",
       "max      5230.00000  9910.000000        0.0     0.991486     0.987530   \n",
       "\n",
       "         aggresive  \n",
       "count  5231.000000  \n",
       "mean      0.065827  \n",
       "std       0.141506  \n",
       "min       0.006577  \n",
       "25%       0.016922  \n",
       "50%       0.027450  \n",
       "75%       0.049879  \n",
       "max       0.979510  "
      ]
     },
     "execution_count": 15,
     "metadata": {},
     "output_type": "execute_result"
    }
   ],
   "source": [
    "df_hate_genero.describe()"
   ]
  },
  {
   "cell_type": "code",
   "execution_count": 16,
   "id": "ff6a192f-52d3-4fc4-86b6-48718a05fca3",
   "metadata": {
    "tags": []
   },
   "outputs": [],
   "source": [
    "import pandas as pd\n",
    "\n",
    "# Calcular la media\n",
    "media = df_hate_genero[['sentiment', 'hateful', 'targeted', 'aggresive']].mean()\n",
    "\n",
    "# Calcular la mediana\n",
    "mediana = df_hate_genero[['sentiment', 'hateful', 'targeted', 'aggresive']].median()\n",
    "\n",
    "# Calcular la moda\n",
    "moda = df_hate_genero[['sentiment', 'hateful', 'targeted', 'aggresive']].mode().iloc[0]"
   ]
  },
  {
   "cell_type": "code",
   "execution_count": 17,
   "id": "8aba291a-841e-4d0a-83db-c0c1b049725a",
   "metadata": {
    "tags": []
   },
   "outputs": [
    {
     "data": {
      "text/plain": [
       "sentiment    0.000000\n",
       "hateful      0.117973\n",
       "targeted     0.053817\n",
       "aggresive    0.065827\n",
       "dtype: float64"
      ]
     },
     "execution_count": 17,
     "metadata": {},
     "output_type": "execute_result"
    }
   ],
   "source": [
    "media"
   ]
  },
  {
   "cell_type": "code",
   "execution_count": 18,
   "id": "2af123bf-4efd-4a1b-a376-5103c17b4d2e",
   "metadata": {
    "tags": []
   },
   "outputs": [
    {
     "data": {
      "text/plain": [
       "sentiment    0.000000\n",
       "hateful      0.045483\n",
       "targeted     0.017900\n",
       "aggresive    0.027450\n",
       "dtype: float64"
      ]
     },
     "execution_count": 18,
     "metadata": {},
     "output_type": "execute_result"
    }
   ],
   "source": [
    "mediana"
   ]
  },
  {
   "cell_type": "code",
   "execution_count": 19,
   "id": "088fd00e-8742-4af6-b0ad-0aacbf74abcd",
   "metadata": {
    "tags": []
   },
   "outputs": [
    {
     "data": {
      "text/plain": [
       "sentiment    0.000000\n",
       "hateful      0.066525\n",
       "targeted     0.048590\n",
       "aggresive    0.052461\n",
       "Name: 0, dtype: float64"
      ]
     },
     "execution_count": 19,
     "metadata": {},
     "output_type": "execute_result"
    }
   ],
   "source": [
    "moda"
   ]
  },
  {
   "cell_type": "code",
   "execution_count": 21,
   "id": "db268c67-4af3-434e-95ef-9152ed23feb0",
   "metadata": {
    "tags": []
   },
   "outputs": [],
   "source": [
    "# Varianza\n",
    "varianza_sentiment = df_hate_genero['sentiment'].var()\n",
    "varianza_hateful = df_hate_genero['hateful'].var()\n",
    "varianza_targeted = df_hate_genero['targeted'].var()\n",
    "varianza_aggressive = df_hate_genero['aggresive'].var()\n",
    "\n",
    "# Desviación estándar\n",
    "std_sentiment = df_hate_genero['sentiment'].std()\n",
    "std_hateful = df_hate_genero['hateful'].std()\n",
    "std_targeted = df_hate_genero['targeted'].std()\n",
    "std_aggressive = df_hate_genero['aggresive'].std()\n",
    "\n",
    "# Rango\n",
    "rango_sentiment = df_hate_genero['sentiment'].max() - df_hate_genero['sentiment'].min()\n",
    "rango_hateful = df_hate_genero['hateful'].max() - df_hate_genero['hateful'].min()\n",
    "rango_targeted = df_hate_genero['targeted'].max() - df_hate_genero['targeted'].min()\n",
    "rango_aggressive = df_hate_genero['aggresive'].max() - df_hate_genero['aggresive'].min()\n"
   ]
  },
  {
   "cell_type": "code",
   "execution_count": 22,
   "id": "0f8d45b9-8d12-4a6c-a0a5-1beecc2494d1",
   "metadata": {
    "tags": []
   },
   "outputs": [
    {
     "name": "stdout",
     "output_type": "stream",
     "text": [
      "Medidas de dispersión para 'sentiment':\n",
      "Varianza: 0.0\n",
      "Desviación estándar: 0.0\n",
      "Rango: 0.0\n",
      "\n",
      "Medidas de dispersión para 'hateful':\n",
      "Varianza: 0.041648768557128284\n",
      "Desviación estándar: 0.20408029928713914\n",
      "Rango: 0.9834559233859183\n",
      "\n",
      "Medidas de dispersión para 'targeted':\n",
      "Varianza: 0.02090146251373463\n",
      "Desviación estándar: 0.1445733810690427\n",
      "Rango: 0.9833923391997814\n",
      "\n",
      "Medidas de dispersión para 'aggressive':\n",
      "Varianza: 0.020024073041075063\n",
      "Desviación estándar: 0.14150644169462767\n",
      "Rango: 0.9729330018162727\n"
     ]
    }
   ],
   "source": [
    "print(\"Medidas de dispersión para 'sentiment':\")\n",
    "print(f\"Varianza: {varianza_sentiment}\")\n",
    "print(f\"Desviación estándar: {std_sentiment}\")\n",
    "print(f\"Rango: {rango_sentiment}\")\n",
    "\n",
    "print(\"\\nMedidas de dispersión para 'hateful':\")\n",
    "print(f\"Varianza: {varianza_hateful}\")\n",
    "print(f\"Desviación estándar: {std_hateful}\")\n",
    "print(f\"Rango: {rango_hateful}\")\n",
    "\n",
    "print(\"\\nMedidas de dispersión para 'targeted':\")\n",
    "print(f\"Varianza: {varianza_targeted}\")\n",
    "print(f\"Desviación estándar: {std_targeted}\")\n",
    "print(f\"Rango: {rango_targeted}\")\n",
    "\n",
    "print(\"\\nMedidas de dispersión para 'aggressive':\")\n",
    "print(f\"Varianza: {varianza_aggressive}\")\n",
    "print(f\"Desviación estándar: {std_aggressive}\")\n",
    "print(f\"Rango: {rango_aggressive}\")\n"
   ]
  },
  {
   "cell_type": "code",
   "execution_count": 23,
   "id": "70e50eff-5648-4347-926a-b4c7f2405045",
   "metadata": {
    "tags": []
   },
   "outputs": [
    {
     "name": "stdout",
     "output_type": "stream",
     "text": [
      "           sentiment   hateful  targeted  aggresive\n",
      "sentiment        NaN       NaN       NaN        NaN\n",
      "hateful          NaN  1.000000  0.771053   0.878350\n",
      "targeted         NaN  0.771053  1.000000   0.947614\n",
      "aggresive        NaN  0.878350  0.947614   1.000000\n"
     ]
    }
   ],
   "source": [
    "correlaciones = df_hate_genero[['sentiment', 'hateful', 'targeted', 'aggresive']].corr()\n",
    "print(correlaciones)\n",
    "\n"
   ]
  },
  {
   "cell_type": "code",
   "execution_count": 24,
   "id": "93835ef3-56c7-448e-aa11-226448691cfc",
   "metadata": {
    "tags": []
   },
   "outputs": [
    {
     "data": {
      "image/png": "[encoded data removed]",
      "text/plain": [
       "<Figure size 800x600 with 2 Axes>"
      ]
     },
     "metadata": {},
     "output_type": "display_data"
    }
   ],
   "source": [
    "import seaborn as sns\n",
    "import matplotlib.pyplot as plt\n",
    "\n",
    "correlaciones = df_hate_genero[['sentiment', 'hateful', 'targeted', 'aggresive']].corr()\n",
    "\n",
    "plt.figure(figsize=(8, 6))\n",
    "sns.heatmap(correlaciones, annot=True, cmap='coolwarm', fmt=\".2f\")\n",
    "plt.title('Mapa de calor de correlaciones')\n",
    "plt.show()\n"
   ]
  },
  {
   "cell_type": "code",
   "execution_count": null,
   "id": "fffd895b-96a1-4418-9d94-666a0d462a80",
   "metadata": {},
   "outputs": [],
   "source": []
  }
 ],
 "metadata": {
  "kernelspec": {
   "display_name": "Python 3 (ipykernel)",
   "language": "python",
   "name": "python3"
  },
  "language_info": {
   "codemirror_mode": {
    "name": "ipython",
    "version": 3
   },
   "file_extension": ".py",
   "mimetype": "text/x-python",
   "name": "python",
   "nbconvert_exporter": "python",
   "pygments_lexer": "ipython3",
   "version": "3.11.4"
  }
 },
 "nbformat": 4,
 "nbformat_minor": 5
}
