{
 "cells": [
  {
   "cell_type": "markdown",
   "id": "a0b50f99-eb37-4b7a-bdef-cc740aac3368",
   "metadata": {},
   "source": [
    "# MODELO CLASICO ML"
   ]
  },
  {
   "cell_type": "code",
   "execution_count": 2,
   "id": "59736a41-7e67-4cc7-9e60-d7c7cda751a7",
   "metadata": {
    "tags": []
   },
   "outputs": [],
   "source": [
    "import pandas as pd\n",
    "pd.set_option('display.max_colwidth', None)"
   ]
  },
  {
   "cell_type": "code",
   "execution_count": 3,
   "id": "e64a1c81-c615-4558-9225-e41b136130ce",
   "metadata": {
    "tags": []
   },
   "outputs": [],
   "source": [
    "from tqdm import tqdm\n",
    "import time"
   ]
  },
  {
   "cell_type": "code",
   "execution_count": 4,
   "id": "3fc7a837-3807-42cf-8bee-222524eb67b4",
   "metadata": {
    "collapsed": true,
    "jupyter": {
     "outputs_hidden": true
    },
    "tags": []
   },
   "outputs": [],
   "source": [
    "#!pip install yellowbrick"
   ]
  },
  {
   "cell_type": "code",
   "execution_count": 4,
   "id": "2f72b79a-7068-4ce6-9949-5f17e241c082",
   "metadata": {
    "collapsed": true,
    "jupyter": {
     "outputs_hidden": true
    },
    "tags": []
   },
   "outputs": [],
   "source": [
    "#!pip install shap"
   ]
  },
  {
   "cell_type": "markdown",
   "id": "cbd97d99-dace-415d-a7fd-746145566e14",
   "metadata": {},
   "source": [
    "## 1. DATASET PARA MODELAR"
   ]
  },
  {
   "cell_type": "code",
   "execution_count": 5,
   "id": "18a5eed3-140b-42bd-8516-4cc76d749378",
   "metadata": {
    "tags": []
   },
   "outputs": [],
   "source": [
    "TOPICOS = [\n",
    "    \"amnistia\", # ok\n",
    "    \"feminismo\", # ok\n",
    "    \"genero\", # ok\n",
    "    \"monarquia\", # ok\n",
    "    \"salud\", # ok\n",
    "    \"territorio\", #ok\n",
    "    \"violencia_genero\", #ok\n",
    "    \"vivienda\", #ok\n",
    "    \"educacion\", # ok\n",
    "    \"economia\", # ok\n",
    "    \"inmigracion\",\n",
    "]"
   ]
  },
  {
   "cell_type": "code",
   "execution_count": 5,
   "id": "07ea3022-e4c6-4198-9be2-a9d04b30aede",
   "metadata": {
    "tags": []
   },
   "outputs": [
    {
     "ename": "NameError",
     "evalue": "name 'TOPICOS' is not defined",
     "output_type": "error",
     "traceback": [
      "\u001b[0;31m---------------------------------------------------------------------------\u001b[0m",
      "\u001b[0;31mNameError\u001b[0m                                 Traceback (most recent call last)",
      "Cell \u001b[0;32mIn[5], line 1\u001b[0m\n\u001b[0;32m----> 1\u001b[0m topic \u001b[38;5;241m=\u001b[39m TOPICOS[\u001b[38;5;241m10\u001b[39m]\n\u001b[1;32m      2\u001b[0m \u001b[38;5;28mprint\u001b[39m(\u001b[38;5;124m\"\u001b[39m\u001b[38;5;124mTopico elegido\u001b[39m\u001b[38;5;124m\"\u001b[39m, topic)\n",
      "\u001b[0;31mNameError\u001b[0m: name 'TOPICOS' is not defined"
     ]
    }
   ],
   "source": [
    "topic = TOPICOS[10]\n",
    "print(\"Topico elegido\", topic)\n"
   ]
  },
  {
   "cell_type": "code",
   "execution_count": 6,
   "id": "54b9a676-3b1c-4d19-a9cd-0bcf5b49308b",
   "metadata": {
    "tags": []
   },
   "outputs": [],
   "source": [
    "def get_labeled_comments(topic):\n",
    "    df_a_clasificar = pd.read_csv(f\"comentarios_{topic}_a_clasificar.csv\")\n",
    "    df_clasificado = pd.read_csv(f\"comentarios_{topic}_clasificado.csv\")\n",
    "    df = df_clasificado.merge(df_a_clasificar, on=\"index\")\n",
    "    return df"
   ]
  },
  {
   "cell_type": "code",
   "execution_count": 7,
   "id": "36ce12f0-6cd2-44a2-94ad-6eaec8f3c71c",
   "metadata": {
    "collapsed": true,
    "jupyter": {
     "outputs_hidden": true
    },
    "tags": []
   },
   "outputs": [
    {
     "ename": "NameError",
     "evalue": "name 'TOPICOS' is not defined",
     "output_type": "error",
     "traceback": [
      "\u001b[0;31m---------------------------------------------------------------------------\u001b[0m",
      "\u001b[0;31mNameError\u001b[0m                                 Traceback (most recent call last)",
      "Cell \u001b[0;32mIn[7], line 2\u001b[0m\n\u001b[1;32m      1\u001b[0m dfs \u001b[38;5;241m=\u001b[39m []\n\u001b[0;32m----> 2\u001b[0m \u001b[38;5;28;01mfor\u001b[39;00m topic \u001b[38;5;129;01min\u001b[39;00m TOPICOS:\n\u001b[1;32m      3\u001b[0m     \u001b[38;5;28;01mtry\u001b[39;00m:\n\u001b[1;32m      4\u001b[0m         dfs\u001b[38;5;241m.\u001b[39mappend(get_labeled_comments(topic))\n",
      "\u001b[0;31mNameError\u001b[0m: name 'TOPICOS' is not defined"
     ]
    }
   ],
   "source": [
    "dfs = []\n",
    "for topic in TOPICOS:\n",
    "    try:\n",
    "        dfs.append(get_labeled_comments(topic))\n",
    "    except Exception:\n",
    "        print(\"Topic not found\", topic)\n",
    "        continue\n",
    "    \n",
    "df = pd.concat(dfs)"
   ]
  },
  {
   "cell_type": "code",
   "execution_count": 8,
   "id": "6ffd665a-33f9-437d-9d1e-e5fffb05fa2e",
   "metadata": {
    "tags": []
   },
   "outputs": [],
   "source": [
    "df = pd.read_csv('comentarios_todos_modelar.csv') "
   ]
  },
  {
   "cell_type": "code",
   "execution_count": 9,
   "id": "37960735-4ae4-415d-9aeb-6218d168b60d",
   "metadata": {
    "tags": []
   },
   "outputs": [],
   "source": [
    "# Limpiar nombres de columnas eliminando espacios al principio o al final\n",
    "df[\"category\"] = df[\"category\"].str.strip()\n",
    "\n",
    "# Reemplazar los nombres de las categorías\n",
    "df[\"category\"] = df[\"category\"].str.replace(\"ideologia politica\", \"ideología política\")\n",
    "df[\"category\"] = df[\"category\"].str.replace(\"ideologia_politica\", \"ideología política\")\n",
    "df[\"category\"] = df[\"category\"].str.replace(\"ideologia política\", \"ideología política\")\n",
    "df[\"category\"] = df[\"category\"].str.replace(\"xenofobia\", \"racismo\")\n",
    "df[\"category\"] = df[\"category\"].str.replace(\"machismo\", \"machismo\")\n",
    "df[\"category\"] = df[\"category\"].str.replace(\"mmachismo\", \"machismo\")\n",
    "df[\"category\"] = df[\"category\"].str.replace(\"machismo\", \"machismo\")\n",
    "df[\"category\"] = df[\"category\"].str.replace(\"achismo\", \"machismo\")\n",
    "df[\"category\"] = df[\"category\"].str.replace(\"homofobia\", \"machismo\")\n",
    "df[\"category\"] = df[\"category\"].str.replace(\"aporofobia\", \"racismo\")\n",
    "df[\"category\"] = df[\"category\"].str.replace(\"racismo\", \"racismo\")\n",
    "df[\"category\"] = df[\"category\"].str.replace(\"religion\", \"racismo\")\n",
    "df[\"category\"] = df[\"category\"].str.replace(\"religión\", \"racismo\")\n",
    "df[\"category\"] = df[\"category\"].str.replace(\"NADA\", \"No definido\") \n",
    "df[\"category\"] = df[\"category\"].str.replace(\"nada\", \"No definido\")"
   ]
  },
  {
   "cell_type": "code",
   "execution_count": 11,
   "id": "6ad7ffb8-b3a6-4174-8c8f-346602bc7a35",
   "metadata": {
    "tags": []
   },
   "outputs": [
    {
     "data": {
      "text/plain": [
       "ideología política    357\n",
       "racismo               337\n",
       "mmachismo             314\n",
       "Name: category, dtype: int64"
      ]
     },
     "execution_count": 11,
     "metadata": {},
     "output_type": "execute_result"
    }
   ],
   "source": [
    "df['category'].value_counts()"
   ]
  },
  {
   "cell_type": "markdown",
   "id": "f7957456-ee97-4867-bd46-4db014f3f63d",
   "metadata": {},
   "source": [
    "### 1.1 CREAMOS LA DATA DE VALIDACION "
   ]
  },
  {
   "cell_type": "markdown",
   "id": "9dc99c50-3d8a-4e0b-9e8c-7e04f8d45bad",
   "metadata": {},
   "source": [
    "COMENTARIOS CRUDOS"
   ]
  },
  {
   "cell_type": "code",
   "execution_count": 12,
   "id": "09fefb03-e9d5-4885-8042-5f35b8926b84",
   "metadata": {
    "tags": []
   },
   "outputs": [
    {
     "ename": "FileNotFoundError",
     "evalue": "[Errno 2] No such file or directory: 'comentarios_vivienda_a_clasificar.csv'",
     "output_type": "error",
     "traceback": [
      "\u001b[0;31m---------------------------------------------------------------------------\u001b[0m",
      "\u001b[0;31mFileNotFoundError\u001b[0m                         Traceback (most recent call last)",
      "Cell \u001b[0;32mIn[12], line 1\u001b[0m\n\u001b[0;32m----> 1\u001b[0m df_a_clasificar \u001b[38;5;241m=\u001b[39m pd\u001b[38;5;241m.\u001b[39mread_csv(\u001b[38;5;124mf\u001b[39m\u001b[38;5;124m\"\u001b[39m\u001b[38;5;124mcomentarios_vivienda_a_clasificar.csv\u001b[39m\u001b[38;5;124m\"\u001b[39m)\n",
      "File \u001b[0;32m~/anaconda3/lib/python3.11/site-packages/pandas/util/_decorators.py:211\u001b[0m, in \u001b[0;36mdeprecate_kwarg.<locals>._deprecate_kwarg.<locals>.wrapper\u001b[0;34m(*args, **kwargs)\u001b[0m\n\u001b[1;32m    209\u001b[0m     \u001b[38;5;28;01melse\u001b[39;00m:\n\u001b[1;32m    210\u001b[0m         kwargs[new_arg_name] \u001b[38;5;241m=\u001b[39m new_arg_value\n\u001b[0;32m--> 211\u001b[0m \u001b[38;5;28;01mreturn\u001b[39;00m func(\u001b[38;5;241m*\u001b[39margs, \u001b[38;5;241m*\u001b[39m\u001b[38;5;241m*\u001b[39mkwargs)\n",
      "File \u001b[0;32m~/anaconda3/lib/python3.11/site-packages/pandas/util/_decorators.py:331\u001b[0m, in \u001b[0;36mdeprecate_nonkeyword_arguments.<locals>.decorate.<locals>.wrapper\u001b[0;34m(*args, **kwargs)\u001b[0m\n\u001b[1;32m    325\u001b[0m \u001b[38;5;28;01mif\u001b[39;00m \u001b[38;5;28mlen\u001b[39m(args) \u001b[38;5;241m>\u001b[39m num_allow_args:\n\u001b[1;32m    326\u001b[0m     warnings\u001b[38;5;241m.\u001b[39mwarn(\n\u001b[1;32m    327\u001b[0m         msg\u001b[38;5;241m.\u001b[39mformat(arguments\u001b[38;5;241m=\u001b[39m_format_argument_list(allow_args)),\n\u001b[1;32m    328\u001b[0m         \u001b[38;5;167;01mFutureWarning\u001b[39;00m,\n\u001b[1;32m    329\u001b[0m         stacklevel\u001b[38;5;241m=\u001b[39mfind_stack_level(),\n\u001b[1;32m    330\u001b[0m     )\n\u001b[0;32m--> 331\u001b[0m \u001b[38;5;28;01mreturn\u001b[39;00m func(\u001b[38;5;241m*\u001b[39margs, \u001b[38;5;241m*\u001b[39m\u001b[38;5;241m*\u001b[39mkwargs)\n",
      "File \u001b[0;32m~/anaconda3/lib/python3.11/site-packages/pandas/io/parsers/readers.py:950\u001b[0m, in \u001b[0;36mread_csv\u001b[0;34m(filepath_or_buffer, sep, delimiter, header, names, index_col, usecols, squeeze, prefix, mangle_dupe_cols, dtype, engine, converters, true_values, false_values, skipinitialspace, skiprows, skipfooter, nrows, na_values, keep_default_na, na_filter, verbose, skip_blank_lines, parse_dates, infer_datetime_format, keep_date_col, date_parser, dayfirst, cache_dates, iterator, chunksize, compression, thousands, decimal, lineterminator, quotechar, quoting, doublequote, escapechar, comment, encoding, encoding_errors, dialect, error_bad_lines, warn_bad_lines, on_bad_lines, delim_whitespace, low_memory, memory_map, float_precision, storage_options)\u001b[0m\n\u001b[1;32m    935\u001b[0m kwds_defaults \u001b[38;5;241m=\u001b[39m _refine_defaults_read(\n\u001b[1;32m    936\u001b[0m     dialect,\n\u001b[1;32m    937\u001b[0m     delimiter,\n\u001b[0;32m   (...)\u001b[0m\n\u001b[1;32m    946\u001b[0m     defaults\u001b[38;5;241m=\u001b[39m{\u001b[38;5;124m\"\u001b[39m\u001b[38;5;124mdelimiter\u001b[39m\u001b[38;5;124m\"\u001b[39m: \u001b[38;5;124m\"\u001b[39m\u001b[38;5;124m,\u001b[39m\u001b[38;5;124m\"\u001b[39m},\n\u001b[1;32m    947\u001b[0m )\n\u001b[1;32m    948\u001b[0m kwds\u001b[38;5;241m.\u001b[39mupdate(kwds_defaults)\n\u001b[0;32m--> 950\u001b[0m \u001b[38;5;28;01mreturn\u001b[39;00m _read(filepath_or_buffer, kwds)\n",
      "File \u001b[0;32m~/anaconda3/lib/python3.11/site-packages/pandas/io/parsers/readers.py:605\u001b[0m, in \u001b[0;36m_read\u001b[0;34m(filepath_or_buffer, kwds)\u001b[0m\n\u001b[1;32m    602\u001b[0m _validate_names(kwds\u001b[38;5;241m.\u001b[39mget(\u001b[38;5;124m\"\u001b[39m\u001b[38;5;124mnames\u001b[39m\u001b[38;5;124m\"\u001b[39m, \u001b[38;5;28;01mNone\u001b[39;00m))\n\u001b[1;32m    604\u001b[0m \u001b[38;5;66;03m# Create the parser.\u001b[39;00m\n\u001b[0;32m--> 605\u001b[0m parser \u001b[38;5;241m=\u001b[39m TextFileReader(filepath_or_buffer, \u001b[38;5;241m*\u001b[39m\u001b[38;5;241m*\u001b[39mkwds)\n\u001b[1;32m    607\u001b[0m \u001b[38;5;28;01mif\u001b[39;00m chunksize \u001b[38;5;129;01mor\u001b[39;00m iterator:\n\u001b[1;32m    608\u001b[0m     \u001b[38;5;28;01mreturn\u001b[39;00m parser\n",
      "File \u001b[0;32m~/anaconda3/lib/python3.11/site-packages/pandas/io/parsers/readers.py:1442\u001b[0m, in \u001b[0;36mTextFileReader.__init__\u001b[0;34m(self, f, engine, **kwds)\u001b[0m\n\u001b[1;32m   1439\u001b[0m     \u001b[38;5;28mself\u001b[39m\u001b[38;5;241m.\u001b[39moptions[\u001b[38;5;124m\"\u001b[39m\u001b[38;5;124mhas_index_names\u001b[39m\u001b[38;5;124m\"\u001b[39m] \u001b[38;5;241m=\u001b[39m kwds[\u001b[38;5;124m\"\u001b[39m\u001b[38;5;124mhas_index_names\u001b[39m\u001b[38;5;124m\"\u001b[39m]\n\u001b[1;32m   1441\u001b[0m \u001b[38;5;28mself\u001b[39m\u001b[38;5;241m.\u001b[39mhandles: IOHandles \u001b[38;5;241m|\u001b[39m \u001b[38;5;28;01mNone\u001b[39;00m \u001b[38;5;241m=\u001b[39m \u001b[38;5;28;01mNone\u001b[39;00m\n\u001b[0;32m-> 1442\u001b[0m \u001b[38;5;28mself\u001b[39m\u001b[38;5;241m.\u001b[39m_engine \u001b[38;5;241m=\u001b[39m \u001b[38;5;28mself\u001b[39m\u001b[38;5;241m.\u001b[39m_make_engine(f, \u001b[38;5;28mself\u001b[39m\u001b[38;5;241m.\u001b[39mengine)\n",
      "File \u001b[0;32m~/anaconda3/lib/python3.11/site-packages/pandas/io/parsers/readers.py:1735\u001b[0m, in \u001b[0;36mTextFileReader._make_engine\u001b[0;34m(self, f, engine)\u001b[0m\n\u001b[1;32m   1733\u001b[0m     \u001b[38;5;28;01mif\u001b[39;00m \u001b[38;5;124m\"\u001b[39m\u001b[38;5;124mb\u001b[39m\u001b[38;5;124m\"\u001b[39m \u001b[38;5;129;01mnot\u001b[39;00m \u001b[38;5;129;01min\u001b[39;00m mode:\n\u001b[1;32m   1734\u001b[0m         mode \u001b[38;5;241m+\u001b[39m\u001b[38;5;241m=\u001b[39m \u001b[38;5;124m\"\u001b[39m\u001b[38;5;124mb\u001b[39m\u001b[38;5;124m\"\u001b[39m\n\u001b[0;32m-> 1735\u001b[0m \u001b[38;5;28mself\u001b[39m\u001b[38;5;241m.\u001b[39mhandles \u001b[38;5;241m=\u001b[39m get_handle(\n\u001b[1;32m   1736\u001b[0m     f,\n\u001b[1;32m   1737\u001b[0m     mode,\n\u001b[1;32m   1738\u001b[0m     encoding\u001b[38;5;241m=\u001b[39m\u001b[38;5;28mself\u001b[39m\u001b[38;5;241m.\u001b[39moptions\u001b[38;5;241m.\u001b[39mget(\u001b[38;5;124m\"\u001b[39m\u001b[38;5;124mencoding\u001b[39m\u001b[38;5;124m\"\u001b[39m, \u001b[38;5;28;01mNone\u001b[39;00m),\n\u001b[1;32m   1739\u001b[0m     compression\u001b[38;5;241m=\u001b[39m\u001b[38;5;28mself\u001b[39m\u001b[38;5;241m.\u001b[39moptions\u001b[38;5;241m.\u001b[39mget(\u001b[38;5;124m\"\u001b[39m\u001b[38;5;124mcompression\u001b[39m\u001b[38;5;124m\"\u001b[39m, \u001b[38;5;28;01mNone\u001b[39;00m),\n\u001b[1;32m   1740\u001b[0m     memory_map\u001b[38;5;241m=\u001b[39m\u001b[38;5;28mself\u001b[39m\u001b[38;5;241m.\u001b[39moptions\u001b[38;5;241m.\u001b[39mget(\u001b[38;5;124m\"\u001b[39m\u001b[38;5;124mmemory_map\u001b[39m\u001b[38;5;124m\"\u001b[39m, \u001b[38;5;28;01mFalse\u001b[39;00m),\n\u001b[1;32m   1741\u001b[0m     is_text\u001b[38;5;241m=\u001b[39mis_text,\n\u001b[1;32m   1742\u001b[0m     errors\u001b[38;5;241m=\u001b[39m\u001b[38;5;28mself\u001b[39m\u001b[38;5;241m.\u001b[39moptions\u001b[38;5;241m.\u001b[39mget(\u001b[38;5;124m\"\u001b[39m\u001b[38;5;124mencoding_errors\u001b[39m\u001b[38;5;124m\"\u001b[39m, \u001b[38;5;124m\"\u001b[39m\u001b[38;5;124mstrict\u001b[39m\u001b[38;5;124m\"\u001b[39m),\n\u001b[1;32m   1743\u001b[0m     storage_options\u001b[38;5;241m=\u001b[39m\u001b[38;5;28mself\u001b[39m\u001b[38;5;241m.\u001b[39moptions\u001b[38;5;241m.\u001b[39mget(\u001b[38;5;124m\"\u001b[39m\u001b[38;5;124mstorage_options\u001b[39m\u001b[38;5;124m\"\u001b[39m, \u001b[38;5;28;01mNone\u001b[39;00m),\n\u001b[1;32m   1744\u001b[0m )\n\u001b[1;32m   1745\u001b[0m \u001b[38;5;28;01massert\u001b[39;00m \u001b[38;5;28mself\u001b[39m\u001b[38;5;241m.\u001b[39mhandles \u001b[38;5;129;01mis\u001b[39;00m \u001b[38;5;129;01mnot\u001b[39;00m \u001b[38;5;28;01mNone\u001b[39;00m\n\u001b[1;32m   1746\u001b[0m f \u001b[38;5;241m=\u001b[39m \u001b[38;5;28mself\u001b[39m\u001b[38;5;241m.\u001b[39mhandles\u001b[38;5;241m.\u001b[39mhandle\n",
      "File \u001b[0;32m~/anaconda3/lib/python3.11/site-packages/pandas/io/common.py:856\u001b[0m, in \u001b[0;36mget_handle\u001b[0;34m(path_or_buf, mode, encoding, compression, memory_map, is_text, errors, storage_options)\u001b[0m\n\u001b[1;32m    851\u001b[0m \u001b[38;5;28;01melif\u001b[39;00m \u001b[38;5;28misinstance\u001b[39m(handle, \u001b[38;5;28mstr\u001b[39m):\n\u001b[1;32m    852\u001b[0m     \u001b[38;5;66;03m# Check whether the filename is to be opened in binary mode.\u001b[39;00m\n\u001b[1;32m    853\u001b[0m     \u001b[38;5;66;03m# Binary mode does not support 'encoding' and 'newline'.\u001b[39;00m\n\u001b[1;32m    854\u001b[0m     \u001b[38;5;28;01mif\u001b[39;00m ioargs\u001b[38;5;241m.\u001b[39mencoding \u001b[38;5;129;01mand\u001b[39;00m \u001b[38;5;124m\"\u001b[39m\u001b[38;5;124mb\u001b[39m\u001b[38;5;124m\"\u001b[39m \u001b[38;5;129;01mnot\u001b[39;00m \u001b[38;5;129;01min\u001b[39;00m ioargs\u001b[38;5;241m.\u001b[39mmode:\n\u001b[1;32m    855\u001b[0m         \u001b[38;5;66;03m# Encoding\u001b[39;00m\n\u001b[0;32m--> 856\u001b[0m         handle \u001b[38;5;241m=\u001b[39m \u001b[38;5;28mopen\u001b[39m(\n\u001b[1;32m    857\u001b[0m             handle,\n\u001b[1;32m    858\u001b[0m             ioargs\u001b[38;5;241m.\u001b[39mmode,\n\u001b[1;32m    859\u001b[0m             encoding\u001b[38;5;241m=\u001b[39mioargs\u001b[38;5;241m.\u001b[39mencoding,\n\u001b[1;32m    860\u001b[0m             errors\u001b[38;5;241m=\u001b[39merrors,\n\u001b[1;32m    861\u001b[0m             newline\u001b[38;5;241m=\u001b[39m\u001b[38;5;124m\"\u001b[39m\u001b[38;5;124m\"\u001b[39m,\n\u001b[1;32m    862\u001b[0m         )\n\u001b[1;32m    863\u001b[0m     \u001b[38;5;28;01melse\u001b[39;00m:\n\u001b[1;32m    864\u001b[0m         \u001b[38;5;66;03m# Binary mode\u001b[39;00m\n\u001b[1;32m    865\u001b[0m         handle \u001b[38;5;241m=\u001b[39m \u001b[38;5;28mopen\u001b[39m(handle, ioargs\u001b[38;5;241m.\u001b[39mmode)\n",
      "\u001b[0;31mFileNotFoundError\u001b[0m: [Errno 2] No such file or directory: 'comentarios_vivienda_a_clasificar.csv'"
     ]
    }
   ],
   "source": [
    "df_a_clasificar = pd.read_csv(f\"comentarios_vivienda_a_clasificar.csv\")\n",
    "# df_clasificado = pd.read_csv(f\"comentarios_vivienda_clasificado.csv\")\n",
    "# df_validation = pd.concat([df_a_clasificar, df_clasificado], ignore_index=False)\n",
    "    "
   ]
  },
  {
   "cell_type": "code",
   "execution_count": 13,
   "id": "f93c61c1-4ce4-41a8-b35f-4d49ef5c40c4",
   "metadata": {
    "tags": []
   },
   "outputs": [
    {
     "ename": "NameError",
     "evalue": "name 'df_a_clasificar' is not defined",
     "output_type": "error",
     "traceback": [
      "\u001b[0;31m---------------------------------------------------------------------------\u001b[0m",
      "\u001b[0;31mNameError\u001b[0m                                 Traceback (most recent call last)",
      "Cell \u001b[0;32mIn[13], line 1\u001b[0m\n\u001b[0;32m----> 1\u001b[0m df_a_clasificar\u001b[38;5;241m.\u001b[39mhead()\n",
      "\u001b[0;31mNameError\u001b[0m: name 'df_a_clasificar' is not defined"
     ]
    }
   ],
   "source": [
    "df_a_clasificar.head()"
   ]
  },
  {
   "cell_type": "code",
   "execution_count": 14,
   "id": "21d669d1-ca0a-470a-a962-760f06cbcc8f",
   "metadata": {
    "tags": []
   },
   "outputs": [
    {
     "ename": "NameError",
     "evalue": "name 'df_a_clasificar' is not defined",
     "output_type": "error",
     "traceback": [
      "\u001b[0;31m---------------------------------------------------------------------------\u001b[0m",
      "\u001b[0;31mNameError\u001b[0m                                 Traceback (most recent call last)",
      "Cell \u001b[0;32mIn[14], line 1\u001b[0m\n\u001b[0;32m----> 1\u001b[0m df_a_clasificar\u001b[38;5;241m.\u001b[39mto_csv(\u001b[38;5;124mf\u001b[39m\u001b[38;5;124m\"\u001b[39m\u001b[38;5;124mcomentarios_validacion_modelo.csv\u001b[39m\u001b[38;5;124m\"\u001b[39m)\n",
      "\u001b[0;31mNameError\u001b[0m: name 'df_a_clasificar' is not defined"
     ]
    }
   ],
   "source": [
    "df_a_clasificar.to_csv(f\"comentarios_validacion_modelo.csv\")"
   ]
  },
  {
   "cell_type": "markdown",
   "id": "b44ab2b6-9e3d-402c-8f1c-ced1b82dc332",
   "metadata": {},
   "source": [
    "COMENTARIOS STEMIZADOS"
   ]
  },
  {
   "cell_type": "code",
   "execution_count": 4,
   "id": "d44e0659-acbc-4405-8478-a2e9cb88b5f0",
   "metadata": {},
   "outputs": [],
   "source": [
    "df_8 = pd.read_csv(f\"comentarios_vivienda_stem_a_concatenar.csv\")"
   ]
  },
  {
   "cell_type": "code",
   "execution_count": 20,
   "id": "42e67bc9-5f22-49b8-8ec8-8c93d81b61bf",
   "metadata": {},
   "outputs": [
    {
     "data": {
      "text/plain": [
       "(109, 2)"
      ]
     },
     "execution_count": 20,
     "metadata": {},
     "output_type": "execute_result"
    }
   ],
   "source": [
    "df_8.shape"
   ]
  },
  {
   "cell_type": "code",
   "execution_count": 22,
   "id": "86740fbe-79f0-498a-b191-bfb8682aa83d",
   "metadata": {},
   "outputs": [],
   "source": [
    "df_8.to_csv(f\"comentarios_stem_validacion_modelo.csv\")"
   ]
  },
  {
   "cell_type": "markdown",
   "id": "549fdd02-59bb-4939-9f9e-d8fbdeb46edb",
   "metadata": {},
   "source": [
    "## 1.2 ANALISIS DE DATASET DE MODELAR  "
   ]
  },
  {
   "cell_type": "markdown",
   "id": "ca05e278-6b73-46d7-b225-ebba4bd3206c",
   "metadata": {},
   "source": [
    "####  1.2.1 BALANCE DE CLASES"
   ]
  },
  {
   "cell_type": "code",
   "execution_count": 211,
   "id": "0a283d03-4b91-448a-ad3c-b4e6b80c73f1",
   "metadata": {},
   "outputs": [
    {
     "data": {
      "image/png": "[encoded data removed]",
      "text/plain": [
       "<Figure size 576x432 with 1 Axes>"
      ]
     },
     "metadata": {
      "needs_background": "light"
     },
     "output_type": "display_data"
    }
   ],
   "source": [
    "import matplotlib.pyplot as plt\n",
    "fig = plt.figure(figsize=(8,6))\n",
    "df_mod.groupby('category').comment.count().plot.bar(ylim=0)\n",
    "plt.show()"
   ]
  },
  {
   "cell_type": "markdown",
   "id": "b3e58651-9a07-4c7c-939a-a44fce3e0cb7",
   "metadata": {},
   "source": [
    "# 2. MODELADO \n"
   ]
  },
  {
   "cell_type": "markdown",
   "id": "3ec91cda-2d22-43af-a153-c8097281518c",
   "metadata": {},
   "source": [
    "### 2.1 BUSQUEDA DE LOS MEJORES MODELOS"
   ]
  },
  {
   "cell_type": "code",
   "execution_count": 10,
   "id": "355a3f78-d45a-499c-b2e9-f405084d6af8",
   "metadata": {
    "tags": []
   },
   "outputs": [],
   "source": [
    "import nltk\n",
    "stopwords = nltk.corpus.stopwords.words('spanish')"
   ]
  },
  {
   "cell_type": "code",
   "execution_count": 11,
   "id": "6a151d27-0d1a-4232-9a07-cee2955167b4",
   "metadata": {
    "tags": []
   },
   "outputs": [],
   "source": [
    "from sklearn.feature_extraction.text import TfidfVectorizer\n",
    "tfidf = TfidfVectorizer(\n",
    "    sublinear_tf=True,\n",
    "    min_df=5,\n",
    "    norm='l2',\n",
    "    encoding='utf-8',\n",
    "    ngram_range=(1, 2),\n",
    "    stop_words=stopwords\n",
    ")\n",
    "features = tfidf.fit_transform(df.comment).toarray()\n",
    "labels = df.category\n"
   ]
  },
  {
   "cell_type": "code",
   "execution_count": 12,
   "id": "88580929-5e6b-4ee7-802e-e88f6ac23a51",
   "metadata": {
    "tags": []
   },
   "outputs": [],
   "source": [
    "from sklearn.model_selection import train_test_split\n",
    "from sklearn.feature_extraction.text import CountVectorizer\n",
    "from sklearn.feature_extraction.text import TfidfTransformer\n",
    "from sklearn.naive_bayes import MultinomialNB \n",
    "from sklearn.metrics import classification_report\n",
    "\n",
    "X_train, X_test, y_train, y_test = train_test_split(\n",
    "    df['comment'], \n",
    "    df['category']\n",
    ")\n",
    "count_vect = CountVectorizer()\n",
    "X_train_counts = count_vect.fit_transform(X_train)\n",
    "\n",
    "tfidf_transformer = TfidfTransformer()\n",
    "X_train_tfidf = tfidf_transformer.fit_transform(X_train_counts)\n",
    "\n",
    "clf = MultinomialNB().fit(X_train_tfidf, y_train)"
   ]
  },
  {
   "cell_type": "code",
   "execution_count": 13,
   "id": "ce5c9588-f54a-4ef5-97e7-4bf17397a295",
   "metadata": {
    "tags": []
   },
   "outputs": [
    {
     "name": "stderr",
     "output_type": "stream",
     "text": [
      "/Users/usuario/anaconda3/lib/python3.11/site-packages/sklearn/svm/_classes.py:32: FutureWarning: The default value of `dual` will change from `True` to `'auto'` in 1.5. Set the value of `dual` explicitly to suppress the warning.\n",
      "  warnings.warn(\n",
      "/Users/usuario/anaconda3/lib/python3.11/site-packages/sklearn/svm/_classes.py:32: FutureWarning: The default value of `dual` will change from `True` to `'auto'` in 1.5. Set the value of `dual` explicitly to suppress the warning.\n",
      "  warnings.warn(\n",
      "/Users/usuario/anaconda3/lib/python3.11/site-packages/sklearn/svm/_classes.py:32: FutureWarning: The default value of `dual` will change from `True` to `'auto'` in 1.5. Set the value of `dual` explicitly to suppress the warning.\n",
      "  warnings.warn(\n",
      "/Users/usuario/anaconda3/lib/python3.11/site-packages/sklearn/svm/_classes.py:32: FutureWarning: The default value of `dual` will change from `True` to `'auto'` in 1.5. Set the value of `dual` explicitly to suppress the warning.\n",
      "  warnings.warn(\n",
      "/Users/usuario/anaconda3/lib/python3.11/site-packages/sklearn/svm/_classes.py:32: FutureWarning: The default value of `dual` will change from `True` to `'auto'` in 1.5. Set the value of `dual` explicitly to suppress the warning.\n",
      "  warnings.warn(\n"
     ]
    },
    {
     "ename": "NameError",
     "evalue": "name 'plt' is not defined",
     "output_type": "error",
     "traceback": [
      "\u001b[0;31m---------------------------------------------------------------------------\u001b[0m",
      "\u001b[0;31mNameError\u001b[0m                                 Traceback (most recent call last)",
      "Cell \u001b[0;32mIn[13], line 29\u001b[0m\n\u001b[1;32m     26\u001b[0m sns\u001b[38;5;241m.\u001b[39mboxplot(x\u001b[38;5;241m=\u001b[39m\u001b[38;5;124m'\u001b[39m\u001b[38;5;124mmodel_name\u001b[39m\u001b[38;5;124m'\u001b[39m, y\u001b[38;5;241m=\u001b[39m\u001b[38;5;124m'\u001b[39m\u001b[38;5;124maccuracy\u001b[39m\u001b[38;5;124m'\u001b[39m, data\u001b[38;5;241m=\u001b[39mcv_df)\n\u001b[1;32m     27\u001b[0m sns\u001b[38;5;241m.\u001b[39mstripplot(x\u001b[38;5;241m=\u001b[39m\u001b[38;5;124m'\u001b[39m\u001b[38;5;124mmodel_name\u001b[39m\u001b[38;5;124m'\u001b[39m, y\u001b[38;5;241m=\u001b[39m\u001b[38;5;124m'\u001b[39m\u001b[38;5;124maccuracy\u001b[39m\u001b[38;5;124m'\u001b[39m, data\u001b[38;5;241m=\u001b[39mcv_df, \n\u001b[1;32m     28\u001b[0m               size\u001b[38;5;241m=\u001b[39m\u001b[38;5;241m8\u001b[39m, jitter\u001b[38;5;241m=\u001b[39m\u001b[38;5;28;01mTrue\u001b[39;00m, edgecolor\u001b[38;5;241m=\u001b[39m\u001b[38;5;124m\"\u001b[39m\u001b[38;5;124mgray\u001b[39m\u001b[38;5;124m\"\u001b[39m, linewidth\u001b[38;5;241m=\u001b[39m\u001b[38;5;241m2\u001b[39m)\n\u001b[0;32m---> 29\u001b[0m plt\u001b[38;5;241m.\u001b[39mshow()\n",
      "\u001b[0;31mNameError\u001b[0m: name 'plt' is not defined"
     ]
    },
    {
     "data": {
      "image/png": "[encoded data removed]",
      "text/plain": [
       "<Figure size 800x550 with 1 Axes>"
      ]
     },
     "metadata": {},
     "output_type": "display_data"
    }
   ],
   "source": [
    "from sklearn.linear_model import LogisticRegression\n",
    "from sklearn.ensemble import RandomForestClassifier\n",
    "from sklearn.svm import LinearSVC\n",
    "from sklearn.model_selection import cross_val_score\n",
    "\n",
    "models = [\n",
    "    RandomForestClassifier(n_estimators=200, max_depth=3, random_state=0),\n",
    "    LinearSVC(),\n",
    "    MultinomialNB(),\n",
    "    LogisticRegression(random_state=0),\n",
    "]\n",
    "\n",
    "CV = 5\n",
    "cv_df = pd.DataFrame(index=range(CV * len(models)))\n",
    "\n",
    "entries = []\n",
    "for model in models:\n",
    "  model_name = model.__class__.__name__\n",
    "  accuracies = cross_val_score(model, features, labels, scoring='accuracy', cv=CV)\n",
    "  for fold_idx, accuracy in enumerate(accuracies):\n",
    "    entries.append((model_name, fold_idx, accuracy))\n",
    "      \n",
    "cv_df = pd.DataFrame(entries, columns=['model_name', 'fold_idx', 'accuracy'])\n",
    "\n",
    "import seaborn as sns\n",
    "sns.boxplot(x='model_name', y='accuracy', data=cv_df)\n",
    "sns.stripplot(x='model_name', y='accuracy', data=cv_df, \n",
    "              size=8, jitter=True, edgecolor=\"gray\", linewidth=2)\n",
    "plt.show()"
   ]
  },
  {
   "cell_type": "code",
   "execution_count": null,
   "id": "4717b2c7-8c69-4dc6-a369-361a30dcf5e1",
   "metadata": {
    "tags": []
   },
   "outputs": [],
   "source": [
    "cv_df"
   ]
  },
  {
   "cell_type": "markdown",
   "id": "b69aaf37-7f31-4ac9-a2ab-4bc880af9812",
   "metadata": {},
   "source": [
    "### 2.2 ENTRENAMIENTO DE MODELO"
   ]
  },
  {
   "cell_type": "code",
   "execution_count": 36,
   "id": "cfb5550e-46cd-4c97-9335-834aaa9ec71a",
   "metadata": {
    "tags": []
   },
   "outputs": [
    {
     "name": "stdout",
     "output_type": "stream",
     "text": [
      "Parámetros del modelo SVM:\n",
      "{'C': 1.0, 'break_ties': False, 'cache_size': 200, 'class_weight': None, 'coef0': 0.0, 'decision_function_shape': 'ovr', 'degree': 3, 'gamma': 'scale', 'kernel': 'rbf', 'max_iter': -1, 'probability': False, 'random_state': None, 'shrinking': True, 'tol': 0.001, 'verbose': False}\n",
      "Precisión del modelo único: 0.6633663366336634\n"
     ]
    }
   ],
   "source": [
    "from sklearn.model_selection import train_test_split\n",
    "from sklearn.feature_extraction.text import TfidfVectorizer\n",
    "from sklearn.svm import SVC \n",
    "import numpy as np\n",
    "\n",
    "\n",
    "# Dividir el conjunto de datos en entrenamiento y prueba\n",
    "X_train, X_test, y_train, y_test = train_test_split(df['comment'], df['category'], test_size=0.2)\n",
    "\n",
    "vectorizer = TfidfVectorizer()\n",
    "X_train_vectorized = vectorizer.fit_transform(X_train)\n",
    "X_train_vectorized=X_train_vectorized.toarray()\n",
    "X_test_vectorized = vectorizer.transform(X_test) \n",
    "X_test_vectorized=X_test_vectorized.toarray()\n",
    "\n",
    "# Entrenamiento del modelo\n",
    "model = SVC()  \n",
    "model.fit(X_train_vectorized, y_train)\n",
    "\n",
    "\n",
    "print(\"Parámetros del modelo SVM:\")\n",
    "print(model.get_params())\n",
    "\n",
    "# Evaluación del modelo\n",
    "accuracy = model.score(X_test_vectorized, y_test)\n",
    "print(f'Precisión del modelo único: {accuracy}')"
   ]
  },
  {
   "cell_type": "markdown",
   "id": "4e372be3-5243-4046-959c-abdb81b99044",
   "metadata": {},
   "source": [
    "### 2.3 GUARDAMOS EL MODELO CON PIPELINE"
   ]
  },
  {
   "cell_type": "code",
   "execution_count": 37,
   "id": "86abfb31-73fb-4ac7-a82e-82163640f750",
   "metadata": {
    "tags": []
   },
   "outputs": [],
   "source": [
    "from sklearn.pipeline import Pipeline"
   ]
  },
  {
   "cell_type": "code",
   "execution_count": 38,
   "id": "334bdc18-3693-4879-835e-725024f5c337",
   "metadata": {
    "tags": []
   },
   "outputs": [],
   "source": [
    "# Definir el pipeline\n",
    "pipeline_svc = Pipeline([\n",
    "    ('tfidf', TfidfVectorizer()),\n",
    "    ('svc', SVC()),\n",
    "])\n",
    "#utilizamos solamente 300 estimadores para agilizar el proceso durante la clase"
   ]
  },
  {
   "cell_type": "code",
   "execution_count": 39,
   "id": "a553ed9e-0aca-40f4-9333-5a0325e5cb32",
   "metadata": {
    "tags": []
   },
   "outputs": [
    {
     "ename": "NotFittedError",
     "evalue": "The TF-IDF vectorizer is not fitted",
     "output_type": "error",
     "traceback": [
      "\u001b[0;31m---------------------------------------------------------------------------\u001b[0m",
      "\u001b[0;31mNotFittedError\u001b[0m                            Traceback (most recent call last)",
      "Cell \u001b[0;32mIn[39], line 1\u001b[0m\n\u001b[0;32m----> 1\u001b[0m pipeline_svc\u001b[38;5;241m.\u001b[39mpredict([\u001b[38;5;124m'\u001b[39m\u001b[38;5;124mLos musulmanes no se acoplan y hay que expulsarlos de España solo vienen a po la paguita y a delinquir esta demostrado las cárceles Españolas solo hay este tipo de gente y eso lo dijo un jefe de policía y resulta que es una realidad\u001b[39m\u001b[38;5;124m'\u001b[39m])\n",
      "File \u001b[0;32m~/anaconda3/lib/python3.11/site-packages/sklearn/pipeline.py:514\u001b[0m, in \u001b[0;36mPipeline.predict\u001b[0;34m(self, X, **predict_params)\u001b[0m\n\u001b[1;32m    512\u001b[0m Xt \u001b[38;5;241m=\u001b[39m X\n\u001b[1;32m    513\u001b[0m \u001b[38;5;28;01mfor\u001b[39;00m _, name, transform \u001b[38;5;129;01min\u001b[39;00m \u001b[38;5;28mself\u001b[39m\u001b[38;5;241m.\u001b[39m_iter(with_final\u001b[38;5;241m=\u001b[39m\u001b[38;5;28;01mFalse\u001b[39;00m):\n\u001b[0;32m--> 514\u001b[0m     Xt \u001b[38;5;241m=\u001b[39m transform\u001b[38;5;241m.\u001b[39mtransform(Xt)\n\u001b[1;32m    515\u001b[0m \u001b[38;5;28;01mreturn\u001b[39;00m \u001b[38;5;28mself\u001b[39m\u001b[38;5;241m.\u001b[39msteps[\u001b[38;5;241m-\u001b[39m\u001b[38;5;241m1\u001b[39m][\u001b[38;5;241m1\u001b[39m]\u001b[38;5;241m.\u001b[39mpredict(Xt, \u001b[38;5;241m*\u001b[39m\u001b[38;5;241m*\u001b[39mpredict_params)\n",
      "File \u001b[0;32m~/anaconda3/lib/python3.11/site-packages/sklearn/feature_extraction/text.py:2161\u001b[0m, in \u001b[0;36mTfidfVectorizer.transform\u001b[0;34m(self, raw_documents)\u001b[0m\n\u001b[1;32m   2145\u001b[0m \u001b[38;5;28;01mdef\u001b[39;00m \u001b[38;5;21mtransform\u001b[39m(\u001b[38;5;28mself\u001b[39m, raw_documents):\n\u001b[1;32m   2146\u001b[0m \u001b[38;5;250m    \u001b[39m\u001b[38;5;124;03m\"\"\"Transform documents to document-term matrix.\u001b[39;00m\n\u001b[1;32m   2147\u001b[0m \n\u001b[1;32m   2148\u001b[0m \u001b[38;5;124;03m    Uses the vocabulary and document frequencies (df) learned by fit (or\u001b[39;00m\n\u001b[0;32m   (...)\u001b[0m\n\u001b[1;32m   2159\u001b[0m \u001b[38;5;124;03m        Tf-idf-weighted document-term matrix.\u001b[39;00m\n\u001b[1;32m   2160\u001b[0m \u001b[38;5;124;03m    \"\"\"\u001b[39;00m\n\u001b[0;32m-> 2161\u001b[0m     check_is_fitted(\u001b[38;5;28mself\u001b[39m, msg\u001b[38;5;241m=\u001b[39m\u001b[38;5;124m\"\u001b[39m\u001b[38;5;124mThe TF-IDF vectorizer is not fitted\u001b[39m\u001b[38;5;124m\"\u001b[39m)\n\u001b[1;32m   2163\u001b[0m     X \u001b[38;5;241m=\u001b[39m \u001b[38;5;28msuper\u001b[39m()\u001b[38;5;241m.\u001b[39mtransform(raw_documents)\n\u001b[1;32m   2164\u001b[0m     \u001b[38;5;28;01mreturn\u001b[39;00m \u001b[38;5;28mself\u001b[39m\u001b[38;5;241m.\u001b[39m_tfidf\u001b[38;5;241m.\u001b[39mtransform(X, copy\u001b[38;5;241m=\u001b[39m\u001b[38;5;28;01mFalse\u001b[39;00m)\n",
      "File \u001b[0;32m~/anaconda3/lib/python3.11/site-packages/sklearn/utils/validation.py:1461\u001b[0m, in \u001b[0;36mcheck_is_fitted\u001b[0;34m(estimator, attributes, msg, all_or_any)\u001b[0m\n\u001b[1;32m   1458\u001b[0m     \u001b[38;5;28;01mraise\u001b[39;00m \u001b[38;5;167;01mTypeError\u001b[39;00m(\u001b[38;5;124m\"\u001b[39m\u001b[38;5;132;01m%s\u001b[39;00m\u001b[38;5;124m is not an estimator instance.\u001b[39m\u001b[38;5;124m\"\u001b[39m \u001b[38;5;241m%\u001b[39m (estimator))\n\u001b[1;32m   1460\u001b[0m \u001b[38;5;28;01mif\u001b[39;00m \u001b[38;5;129;01mnot\u001b[39;00m _is_fitted(estimator, attributes, all_or_any):\n\u001b[0;32m-> 1461\u001b[0m     \u001b[38;5;28;01mraise\u001b[39;00m NotFittedError(msg \u001b[38;5;241m%\u001b[39m {\u001b[38;5;124m\"\u001b[39m\u001b[38;5;124mname\u001b[39m\u001b[38;5;124m\"\u001b[39m: \u001b[38;5;28mtype\u001b[39m(estimator)\u001b[38;5;241m.\u001b[39m\u001b[38;5;18m__name__\u001b[39m})\n",
      "\u001b[0;31mNotFittedError\u001b[0m: The TF-IDF vectorizer is not fitted"
     ]
    }
   ],
   "source": [
    "pipeline_svc.predict(['Los musulmanes no se acoplan y hay que expulsarlos de España solo vienen a po la paguita y a delinquir esta demostrado las cárceles Españolas solo hay este tipo de gente y eso lo dijo un jefe de policía y resulta que es una realidad'])"
   ]
  },
  {
   "cell_type": "code",
   "execution_count": 40,
   "id": "8c21abd0-6c00-4902-bd3b-2d64e1c51da5",
   "metadata": {
    "tags": []
   },
   "outputs": [
    {
     "data": {
      "text/plain": [
       "701                                                                                                                                                                                                                                                                                                                                                                                                                                                        Estas feminazis quieren igualdad y ponen leyes desiguales.LOCAS\n",
       "500                                                                                                                                                                              He cotizado gran parte de mi vida y nunca he tomado una licencia médica. Han subsidiado la sinvergüenzura de weones sanos, extranjeros, y flojos que llevan años con licencia y probablemente el día que yo tenga la necesidad de atenderme por el sistema de salud que me ha robado mes a mes me van a atender como la reverenda mierda.\n",
       "989                                                                                                                                                                                                                                                                                                                                                                                                                        SUMAR NO SUMA PERO RESTAR SI QUE RESTA, VAYA POCA CAPACIDAD PARA GESTIONAR NADA. DE ESA SEÑORA.\n",
       "486                                                                                                                                                                                                                                                                                                                                             Los ricos le interesa que la gente trabaje y los negros son ignorantes flojos  y por eso se forman como asesinos como en Sudáfrica que están matando a los granjeros boers\n",
       "629                                                                                                                                                                                                                                                                                                                                                                                                                                                           Yegan a México y se los mandamos a los gringos y canadienses\n",
       "                                                                                                                                                                                                                                                              ...                                                                                                                                                                                                                                                         \n",
       "992                                                                                                                                                                                                                                                                                                                                                                                                                                Hahaha falta de agua cuando los chilenos nos roban en nuestra cara las aguas del silala\n",
       "354                                                                                                                                                                                                                                                                                                                                                                                                   Mentira México fue el héroe de hay por que los soldados de usa tenían miedo y lo mexicanos no por que mienten el usa\n",
       "873                                                                                                                                                                                                                                                                                                                                                                                                                                                       El diablo se viste de rojo...parece un semaforo....CHAU YEGUA!!!\n",
       "18                                                                                                                                                                                                                                                                                                                                                                                                                                           Mujer insoportable que se le subió lo de Reina y no es más que una cenicienta\n",
       "422    Estamos de acuerdo, también es importante remarcar el sometimiento que ejercieron sobre los indígenas y muy importante, las enfermedades traídas de Europa, para las que los índigenas, no tenían defensas.\\r\\nPero otro punto a remarcar es como se produjo mestizaje y \"mayor\" asimilación de los indígenas en territorios conquistados por los Españoles, en contraste de lo que los Sajones mucho más clasista hicieron, mestizaje cero y masacrar pueblos y culturas. En mucha mayor medida que los Españoles.\n",
       "Name: comment, Length: 202, dtype: object"
      ]
     },
     "execution_count": 40,
     "metadata": {},
     "output_type": "execute_result"
    }
   ],
   "source": [
    "X_test"
   ]
  },
  {
   "cell_type": "code",
   "execution_count": 41,
   "id": "80b9a715-2c45-44e5-9618-96e3413dac98",
   "metadata": {
    "tags": []
   },
   "outputs": [
    {
     "data": {
      "text/html": [
       "<style>#sk-container-id-3 {color: black;}#sk-container-id-3 pre{padding: 0;}#sk-container-id-3 div.sk-toggleable {background-color: white;}#sk-container-id-3 label.sk-toggleable__label {cursor: pointer;display: block;width: 100%;margin-bottom: 0;padding: 0.3em;box-sizing: border-box;text-align: center;}#sk-container-id-3 label.sk-toggleable__label-arrow:before {content: \"▸\";float: left;margin-right: 0.25em;color: #696969;}#sk-container-id-3 label.sk-toggleable__label-arrow:hover:before {color: black;}#sk-container-id-3 div.sk-estimator:hover label.sk-toggleable__label-arrow:before {color: black;}#sk-container-id-3 div.sk-toggleable__content {max-height: 0;max-width: 0;overflow: hidden;text-align: left;background-color: #f0f8ff;}#sk-container-id-3 div.sk-toggleable__content pre {margin: 0.2em;color: black;border-radius: 0.25em;background-color: #f0f8ff;}#sk-container-id-3 input.sk-toggleable__control:checked~div.sk-toggleable__content {max-height: 200px;max-width: 100%;overflow: auto;}#sk-container-id-3 input.sk-toggleable__control:checked~label.sk-toggleable__label-arrow:before {content: \"▾\";}#sk-container-id-3 div.sk-estimator input.sk-toggleable__control:checked~label.sk-toggleable__label {background-color: #d4ebff;}#sk-container-id-3 div.sk-label input.sk-toggleable__control:checked~label.sk-toggleable__label {background-color: #d4ebff;}#sk-container-id-3 input.sk-hidden--visually {border: 0;clip: rect(1px 1px 1px 1px);clip: rect(1px, 1px, 1px, 1px);height: 1px;margin: -1px;overflow: hidden;padding: 0;position: absolute;width: 1px;}#sk-container-id-3 div.sk-estimator {font-family: monospace;background-color: #f0f8ff;border: 1px dotted black;border-radius: 0.25em;box-sizing: border-box;margin-bottom: 0.5em;}#sk-container-id-3 div.sk-estimator:hover {background-color: #d4ebff;}#sk-container-id-3 div.sk-parallel-item::after {content: \"\";width: 100%;border-bottom: 1px solid gray;flex-grow: 1;}#sk-container-id-3 div.sk-label:hover label.sk-toggleable__label {background-color: #d4ebff;}#sk-container-id-3 div.sk-serial::before {content: \"\";position: absolute;border-left: 1px solid gray;box-sizing: border-box;top: 0;bottom: 0;left: 50%;z-index: 0;}#sk-container-id-3 div.sk-serial {display: flex;flex-direction: column;align-items: center;background-color: white;padding-right: 0.2em;padding-left: 0.2em;position: relative;}#sk-container-id-3 div.sk-item {position: relative;z-index: 1;}#sk-container-id-3 div.sk-parallel {display: flex;align-items: stretch;justify-content: center;background-color: white;position: relative;}#sk-container-id-3 div.sk-item::before, #sk-container-id-3 div.sk-parallel-item::before {content: \"\";position: absolute;border-left: 1px solid gray;box-sizing: border-box;top: 0;bottom: 0;left: 50%;z-index: -1;}#sk-container-id-3 div.sk-parallel-item {display: flex;flex-direction: column;z-index: 1;position: relative;background-color: white;}#sk-container-id-3 div.sk-parallel-item:first-child::after {align-self: flex-end;width: 50%;}#sk-container-id-3 div.sk-parallel-item:last-child::after {align-self: flex-start;width: 50%;}#sk-container-id-3 div.sk-parallel-item:only-child::after {width: 0;}#sk-container-id-3 div.sk-dashed-wrapped {border: 1px dashed gray;margin: 0 0.4em 0.5em 0.4em;box-sizing: border-box;padding-bottom: 0.4em;background-color: white;}#sk-container-id-3 div.sk-label label {font-family: monospace;font-weight: bold;display: inline-block;line-height: 1.2em;}#sk-container-id-3 div.sk-label-container {text-align: center;}#sk-container-id-3 div.sk-container {/* jupyter's `normalize.less` sets `[hidden] { display: none; }` but bootstrap.min.css set `[hidden] { display: none !important; }` so we also need the `!important` here to be able to override the default hidden behavior on the sphinx rendered scikit-learn.org. See: https://github.com/scikit-learn/scikit-learn/issues/21755 */display: inline-block !important;position: relative;}#sk-container-id-3 div.sk-text-repr-fallback {display: none;}</style><div id=\"sk-container-id-3\" class=\"sk-top-container\"><div class=\"sk-text-repr-fallback\"><pre>Pipeline(steps=[(&#x27;tfidf&#x27;, TfidfVectorizer()), (&#x27;svc&#x27;, SVC())])</pre><b>In a Jupyter environment, please rerun this cell to show the HTML representation or trust the notebook. <br />On GitHub, the HTML representation is unable to render, please try loading this page with nbviewer.org.</b></div><div class=\"sk-container\" hidden><div class=\"sk-item sk-dashed-wrapped\"><div class=\"sk-label-container\"><div class=\"sk-label sk-toggleable\"><input class=\"sk-toggleable__control sk-hidden--visually\" id=\"sk-estimator-id-7\" type=\"checkbox\" ><label for=\"sk-estimator-id-7\" class=\"sk-toggleable__label sk-toggleable__label-arrow\">Pipeline</label><div class=\"sk-toggleable__content\"><pre>Pipeline(steps=[(&#x27;tfidf&#x27;, TfidfVectorizer()), (&#x27;svc&#x27;, SVC())])</pre></div></div></div><div class=\"sk-serial\"><div class=\"sk-item\"><div class=\"sk-estimator sk-toggleable\"><input class=\"sk-toggleable__control sk-hidden--visually\" id=\"sk-estimator-id-8\" type=\"checkbox\" ><label for=\"sk-estimator-id-8\" class=\"sk-toggleable__label sk-toggleable__label-arrow\">TfidfVectorizer</label><div class=\"sk-toggleable__content\"><pre>TfidfVectorizer()</pre></div></div></div><div class=\"sk-item\"><div class=\"sk-estimator sk-toggleable\"><input class=\"sk-toggleable__control sk-hidden--visually\" id=\"sk-estimator-id-9\" type=\"checkbox\" ><label for=\"sk-estimator-id-9\" class=\"sk-toggleable__label sk-toggleable__label-arrow\">SVC</label><div class=\"sk-toggleable__content\"><pre>SVC()</pre></div></div></div></div></div></div></div>"
      ],
      "text/plain": [
       "Pipeline(steps=[('tfidf', TfidfVectorizer()), ('svc', SVC())])"
      ]
     },
     "execution_count": 41,
     "metadata": {},
     "output_type": "execute_result"
    }
   ],
   "source": [
    "pipeline_svc.fit(X_train, y_train)"
   ]
  },
  {
   "cell_type": "code",
   "execution_count": 42,
   "id": "2609ac76-c7db-4882-9c95-6c68fa9816dc",
   "metadata": {
    "tags": []
   },
   "outputs": [],
   "source": [
    "# como guaradr un modelo \n",
    "import pickle \n",
    "\n",
    "with open(\"SVC_model.pkl\", \"wb\") as cualquier_variable:\n",
    "    pickle.dump(pipeline_svc, cualquier_variable) "
   ]
  },
  {
   "cell_type": "code",
   "execution_count": 43,
   "id": "2c0e36d6-9a32-4846-b2a1-03135dbd3b95",
   "metadata": {
    "tags": []
   },
   "outputs": [],
   "source": [
    "import pickle"
   ]
  },
  {
   "cell_type": "code",
   "execution_count": 44,
   "id": "ab9d51d7-6b5d-425b-9550-3f0307456d9b",
   "metadata": {
    "tags": []
   },
   "outputs": [],
   "source": [
    "# Cargar el modelo guardado\n",
    "with open(\"SVC_model.pkl\", \"rb\") as file:\n",
    "    loaded_model = pickle.load(file)"
   ]
  },
  {
   "cell_type": "code",
   "execution_count": 45,
   "id": "9c198289-d5de-41fc-bc76-1d34432461d1",
   "metadata": {
    "tags": []
   },
   "outputs": [],
   "source": [
    "predictions = loaded_model.predict(X_test)"
   ]
  },
  {
   "cell_type": "code",
   "execution_count": 46,
   "id": "4ca5dad1-338e-4d0b-9141-12a509369ff1",
   "metadata": {
    "tags": []
   },
   "outputs": [
    {
     "data": {
      "text/plain": [
       "array(['ideología política'], dtype=object)"
      ]
     },
     "execution_count": 46,
     "metadata": {},
     "output_type": "execute_result"
    }
   ],
   "source": [
    "loaded_model.predict(['Los musulmanes no se acoplan y hay que expulsarlos de España solo vienen a po la paguita y a delinquir esta demostrado las cárceles Españolas solo hay este tipo de gente y eso lo dijo un jefe de policía y resulta que es una realidad'])"
   ]
  },
  {
   "cell_type": "markdown",
   "id": "ba9cafe9-bcc2-4de3-9a1b-9cb06bd9b75f",
   "metadata": {},
   "source": [
    "### 2.4 METRICAS DEL MODELO"
   ]
  },
  {
   "cell_type": "code",
   "execution_count": 47,
   "id": "04b5139f-2b33-43b2-8dae-2bd985165a50",
   "metadata": {
    "tags": []
   },
   "outputs": [
    {
     "name": "stdout",
     "output_type": "stream",
     "text": [
      "                    precision    recall  f1-score   support\n",
      "\n",
      "ideología política       0.61      0.51      0.56        74\n",
      "         mmachismo       0.65      0.78      0.71        65\n",
      "           racismo       0.74      0.71      0.73        63\n",
      "\n",
      "          accuracy                           0.66       202\n",
      "         macro avg       0.67      0.67      0.66       202\n",
      "      weighted avg       0.66      0.66      0.66       202\n",
      "\n"
     ]
    }
   ],
   "source": [
    "# Realizar predicciones en el conjunto de prueba\n",
    "\n",
    "predicted = pipeline_svc.predict(X_test)\n",
    "\n",
    "print(classification_report(y_test, predicted))"
   ]
  },
  {
   "cell_type": "code",
   "execution_count": 49,
   "id": "45260d1d-9174-49b0-928f-53c2f0987293",
   "metadata": {
    "tags": []
   },
   "outputs": [
    {
     "data": {
      "image/png": "[encoded data removed]",
      "text/plain": [
       "<Figure size 800x550 with 1 Axes>"
      ]
     },
     "metadata": {},
     "output_type": "display_data"
    },
    {
     "data": {
      "text/plain": [
       "<Axes: title={'center': 'Validation Curve for SVC'}, xlabel='C', ylabel='score'>"
      ]
     },
     "execution_count": 49,
     "metadata": {},
     "output_type": "execute_result"
    }
   ],
   "source": [
    "from yellowbrick.model_selection import ValidationCurve\n",
    "\n",
    "param_range = [0.001, 0.01, 0.1, 1, 1.5, 2, 2.5, 3, 3.5, 5]\n",
    "cv = ValidationCurve(\n",
    "    SVC(kernel='linear'), param_name=\"C\", param_range=param_range,\n",
    "    cv=5, scoring=\"accuracy\", n_jobs=8\n",
    ")\n",
    "\n",
    "cv.fit(X_train_vectorized, y_train)\n",
    "cv.show()"
   ]
  },
  {
   "cell_type": "code",
   "execution_count": 27,
   "id": "0d6d8b4b-0728-4ba3-ae5b-e7bf212785da",
   "metadata": {
    "tags": []
   },
   "outputs": [
    {
     "name": "stdout",
     "output_type": "stream",
     "text": [
      "Matriz de Confusión:\n",
      "[[41 15 16]\n",
      " [15 37  8]\n",
      " [24  3 43]]\n"
     ]
    }
   ],
   "source": [
    "from sklearn.metrics import confusion_matrix\n",
    "# Realizar predicciones en el conjunto de prueba\n",
    "predictions = model.predict(X_test_vectorized) \n",
    "# Crear la matriz de confusión\n",
    "conf_matrix = confusion_matrix(y_test, predictions)\n",
    "print(\"Matriz de Confusión:\")\n",
    "print(conf_matrix)"
   ]
  },
  {
   "cell_type": "code",
   "execution_count": 28,
   "id": "25bed150-5e5a-4c0a-b301-3b1f60a428f7",
   "metadata": {
    "tags": []
   },
   "outputs": [
    {
     "ename": "NameError",
     "evalue": "name 'y' is not defined",
     "output_type": "error",
     "traceback": [
      "\u001b[0;31m---------------------------------------------------------------------------\u001b[0m",
      "\u001b[0;31mNameError\u001b[0m                                 Traceback (most recent call last)",
      "Cell \u001b[0;32mIn[28], line 1\u001b[0m\n\u001b[0;32m----> 1\u001b[0m y\u001b[38;5;241m.\u001b[39munique()\n",
      "\u001b[0;31mNameError\u001b[0m: name 'y' is not defined"
     ]
    }
   ],
   "source": [
    "y.unique()"
   ]
  },
  {
   "cell_type": "code",
   "execution_count": 29,
   "id": "bf97801b-1298-4fe6-a9d4-a021bc8203b7",
   "metadata": {
    "tags": []
   },
   "outputs": [
    {
     "ename": "NameError",
     "evalue": "name 'plt' is not defined",
     "output_type": "error",
     "traceback": [
      "\u001b[0;31m---------------------------------------------------------------------------\u001b[0m",
      "\u001b[0;31mNameError\u001b[0m                                 Traceback (most recent call last)",
      "Cell \u001b[0;32mIn[29], line 5\u001b[0m\n\u001b[1;32m      2\u001b[0m classes \u001b[38;5;241m=\u001b[39m [\u001b[38;5;124m'\u001b[39m\u001b[38;5;124mideología política\u001b[39m\u001b[38;5;124m'\u001b[39m, \u001b[38;5;124m'\u001b[39m\u001b[38;5;124mracismo\u001b[39m\u001b[38;5;124m'\u001b[39m, \u001b[38;5;124m'\u001b[39m\u001b[38;5;124mmachismo\u001b[39m\u001b[38;5;124m'\u001b[39m]\n\u001b[1;32m      4\u001b[0m \u001b[38;5;66;03m# Crear figura y ejes\u001b[39;00m\n\u001b[0;32m----> 5\u001b[0m plt\u001b[38;5;241m.\u001b[39mfigure(figsize\u001b[38;5;241m=\u001b[39m(\u001b[38;5;241m8\u001b[39m, \u001b[38;5;241m6\u001b[39m))\n\u001b[1;32m      6\u001b[0m plt\u001b[38;5;241m.\u001b[39mimshow(conf_matrix, interpolation\u001b[38;5;241m=\u001b[39m\u001b[38;5;124m'\u001b[39m\u001b[38;5;124mnearest\u001b[39m\u001b[38;5;124m'\u001b[39m, cmap\u001b[38;5;241m=\u001b[39mplt\u001b[38;5;241m.\u001b[39mcm\u001b[38;5;241m.\u001b[39mcoolwarm)\n\u001b[1;32m      7\u001b[0m plt\u001b[38;5;241m.\u001b[39mtitle(\u001b[38;5;124m'\u001b[39m\u001b[38;5;124mMatriz de Confusión\u001b[39m\u001b[38;5;124m'\u001b[39m)\n",
      "\u001b[0;31mNameError\u001b[0m: name 'plt' is not defined"
     ]
    }
   ],
   "source": [
    "# Etiquetas de las clases\n",
    "classes = ['ideología política', 'racismo', 'machismo']\n",
    "\n",
    "# Crear figura y ejes\n",
    "plt.figure(figsize=(8, 6))\n",
    "plt.imshow(conf_matrix, interpolation='nearest', cmap=plt.cm.coolwarm)\n",
    "plt.title('Matriz de Confusión')\n",
    "plt.colorbar()\n",
    "\n",
    "# Añadir etiquetas\n",
    "tick_marks = np.arange(len(classes))\n",
    "plt.xticks(tick_marks, classes, rotation=45)\n",
    "plt.yticks(tick_marks, classes)\n",
    "\n",
    "# Anotar valores en los bloques de la matriz\n",
    "thresh = conf_matrix.max() / 2.\n",
    "for i in range(conf_matrix.shape[0]):\n",
    "    for j in range(conf_matrix.shape[1]):\n",
    "        plt.text(j, i, format(conf_matrix[i, j], 'd'),\n",
    "                 horizontalalignment=\"center\",\n",
    "                 color=\"white\" if conf_matrix[i, j] > thresh else \"black\")\n",
    "\n",
    "plt.tight_layout()\n",
    "plt.ylabel('Clase Verdadera')\n",
    "plt.xlabel('Clase Predicha')\n",
    "\n",
    "plt.show()"
   ]
  },
  {
   "cell_type": "code",
   "execution_count": 30,
   "id": "9f56325e-6acc-44df-9c17-38ff59e9d536",
   "metadata": {
    "collapsed": true,
    "jupyter": {
     "outputs_hidden": true
    },
    "tags": []
   },
   "outputs": [],
   "source": [
    "#pip install shap\n"
   ]
  },
  {
   "cell_type": "code",
   "execution_count": 31,
   "id": "9b08e6b2-3597-4c5e-a0f8-c0dbaea7b1d3",
   "metadata": {
    "tags": []
   },
   "outputs": [],
   "source": [
    "import shap"
   ]
  },
  {
   "cell_type": "code",
   "execution_count": 32,
   "id": "91fcc8c6-5e34-482c-8ff8-408c5cfd26f6",
   "metadata": {
    "tags": []
   },
   "outputs": [],
   "source": [
    " pipeline_svc_1 = Pipeline([\n",
    "    ('tfidf', TfidfVectorizer()),\n",
    "    ('svc', SVC(kernel='linear', probability=True)),  # Definir el kernel como lineal y activar la probabilidad\n",
    "])"
   ]
  },
  {
   "cell_type": "code",
   "execution_count": 33,
   "id": "542f9c66-a2c9-4489-a41d-f11ddd2dbe82",
   "metadata": {
    "tags": []
   },
   "outputs": [
    {
     "data": {
      "text/html": [
       "<style>#sk-container-id-2 {color: black;}#sk-container-id-2 pre{padding: 0;}#sk-container-id-2 div.sk-toggleable {background-color: white;}#sk-container-id-2 label.sk-toggleable__label {cursor: pointer;display: block;width: 100%;margin-bottom: 0;padding: 0.3em;box-sizing: border-box;text-align: center;}#sk-container-id-2 label.sk-toggleable__label-arrow:before {content: \"▸\";float: left;margin-right: 0.25em;color: #696969;}#sk-container-id-2 label.sk-toggleable__label-arrow:hover:before {color: black;}#sk-container-id-2 div.sk-estimator:hover label.sk-toggleable__label-arrow:before {color: black;}#sk-container-id-2 div.sk-toggleable__content {max-height: 0;max-width: 0;overflow: hidden;text-align: left;background-color: #f0f8ff;}#sk-container-id-2 div.sk-toggleable__content pre {margin: 0.2em;color: black;border-radius: 0.25em;background-color: #f0f8ff;}#sk-container-id-2 input.sk-toggleable__control:checked~div.sk-toggleable__content {max-height: 200px;max-width: 100%;overflow: auto;}#sk-container-id-2 input.sk-toggleable__control:checked~label.sk-toggleable__label-arrow:before {content: \"▾\";}#sk-container-id-2 div.sk-estimator input.sk-toggleable__control:checked~label.sk-toggleable__label {background-color: #d4ebff;}#sk-container-id-2 div.sk-label input.sk-toggleable__control:checked~label.sk-toggleable__label {background-color: #d4ebff;}#sk-container-id-2 input.sk-hidden--visually {border: 0;clip: rect(1px 1px 1px 1px);clip: rect(1px, 1px, 1px, 1px);height: 1px;margin: -1px;overflow: hidden;padding: 0;position: absolute;width: 1px;}#sk-container-id-2 div.sk-estimator {font-family: monospace;background-color: #f0f8ff;border: 1px dotted black;border-radius: 0.25em;box-sizing: border-box;margin-bottom: 0.5em;}#sk-container-id-2 div.sk-estimator:hover {background-color: #d4ebff;}#sk-container-id-2 div.sk-parallel-item::after {content: \"\";width: 100%;border-bottom: 1px solid gray;flex-grow: 1;}#sk-container-id-2 div.sk-label:hover label.sk-toggleable__label {background-color: #d4ebff;}#sk-container-id-2 div.sk-serial::before {content: \"\";position: absolute;border-left: 1px solid gray;box-sizing: border-box;top: 0;bottom: 0;left: 50%;z-index: 0;}#sk-container-id-2 div.sk-serial {display: flex;flex-direction: column;align-items: center;background-color: white;padding-right: 0.2em;padding-left: 0.2em;position: relative;}#sk-container-id-2 div.sk-item {position: relative;z-index: 1;}#sk-container-id-2 div.sk-parallel {display: flex;align-items: stretch;justify-content: center;background-color: white;position: relative;}#sk-container-id-2 div.sk-item::before, #sk-container-id-2 div.sk-parallel-item::before {content: \"\";position: absolute;border-left: 1px solid gray;box-sizing: border-box;top: 0;bottom: 0;left: 50%;z-index: -1;}#sk-container-id-2 div.sk-parallel-item {display: flex;flex-direction: column;z-index: 1;position: relative;background-color: white;}#sk-container-id-2 div.sk-parallel-item:first-child::after {align-self: flex-end;width: 50%;}#sk-container-id-2 div.sk-parallel-item:last-child::after {align-self: flex-start;width: 50%;}#sk-container-id-2 div.sk-parallel-item:only-child::after {width: 0;}#sk-container-id-2 div.sk-dashed-wrapped {border: 1px dashed gray;margin: 0 0.4em 0.5em 0.4em;box-sizing: border-box;padding-bottom: 0.4em;background-color: white;}#sk-container-id-2 div.sk-label label {font-family: monospace;font-weight: bold;display: inline-block;line-height: 1.2em;}#sk-container-id-2 div.sk-label-container {text-align: center;}#sk-container-id-2 div.sk-container {/* jupyter's `normalize.less` sets `[hidden] { display: none; }` but bootstrap.min.css set `[hidden] { display: none !important; }` so we also need the `!important` here to be able to override the default hidden behavior on the sphinx rendered scikit-learn.org. See: https://github.com/scikit-learn/scikit-learn/issues/21755 */display: inline-block !important;position: relative;}#sk-container-id-2 div.sk-text-repr-fallback {display: none;}</style><div id=\"sk-container-id-2\" class=\"sk-top-container\"><div class=\"sk-text-repr-fallback\"><pre>Pipeline(steps=[(&#x27;tfidf&#x27;, TfidfVectorizer()),\n",
       "                (&#x27;svc&#x27;, SVC(kernel=&#x27;linear&#x27;, probability=True))])</pre><b>In a Jupyter environment, please rerun this cell to show the HTML representation or trust the notebook. <br />On GitHub, the HTML representation is unable to render, please try loading this page with nbviewer.org.</b></div><div class=\"sk-container\" hidden><div class=\"sk-item sk-dashed-wrapped\"><div class=\"sk-label-container\"><div class=\"sk-label sk-toggleable\"><input class=\"sk-toggleable__control sk-hidden--visually\" id=\"sk-estimator-id-4\" type=\"checkbox\" ><label for=\"sk-estimator-id-4\" class=\"sk-toggleable__label sk-toggleable__label-arrow\">Pipeline</label><div class=\"sk-toggleable__content\"><pre>Pipeline(steps=[(&#x27;tfidf&#x27;, TfidfVectorizer()),\n",
       "                (&#x27;svc&#x27;, SVC(kernel=&#x27;linear&#x27;, probability=True))])</pre></div></div></div><div class=\"sk-serial\"><div class=\"sk-item\"><div class=\"sk-estimator sk-toggleable\"><input class=\"sk-toggleable__control sk-hidden--visually\" id=\"sk-estimator-id-5\" type=\"checkbox\" ><label for=\"sk-estimator-id-5\" class=\"sk-toggleable__label sk-toggleable__label-arrow\">TfidfVectorizer</label><div class=\"sk-toggleable__content\"><pre>TfidfVectorizer()</pre></div></div></div><div class=\"sk-item\"><div class=\"sk-estimator sk-toggleable\"><input class=\"sk-toggleable__control sk-hidden--visually\" id=\"sk-estimator-id-6\" type=\"checkbox\" ><label for=\"sk-estimator-id-6\" class=\"sk-toggleable__label sk-toggleable__label-arrow\">SVC</label><div class=\"sk-toggleable__content\"><pre>SVC(kernel=&#x27;linear&#x27;, probability=True)</pre></div></div></div></div></div></div></div>"
      ],
      "text/plain": [
       "Pipeline(steps=[('tfidf', TfidfVectorizer()),\n",
       "                ('svc', SVC(kernel='linear', probability=True))])"
      ]
     },
     "execution_count": 33,
     "metadata": {},
     "output_type": "execute_result"
    }
   ],
   "source": [
    "pipeline_svc_1.fit(X_train, y_train)"
   ]
  },
  {
   "cell_type": "code",
   "execution_count": 34,
   "id": "edb2872d-3ad1-449a-8093-b17c4e78ef02",
   "metadata": {
    "tags": []
   },
   "outputs": [],
   "source": [
    "explainer = shap.Explainer(pipeline_svc_1.predict_proba, X_train)"
   ]
  },
  {
   "cell_type": "code",
   "execution_count": 35,
   "id": "5233d5bf-6426-45f0-ad42-5c0480a33804",
   "metadata": {
    "tags": []
   },
   "outputs": [
    {
     "ename": "IndexError",
     "evalue": "tuple index out of range",
     "output_type": "error",
     "traceback": [
      "\u001b[0;31m---------------------------------------------------------------------------\u001b[0m",
      "\u001b[0;31mIndexError\u001b[0m                                Traceback (most recent call last)",
      "Cell \u001b[0;32mIn[35], line 1\u001b[0m\n\u001b[0;32m----> 1\u001b[0m shap_values \u001b[38;5;241m=\u001b[39m explainer\u001b[38;5;241m.\u001b[39mshap_values(X_test_vectorized)\n",
      "File \u001b[0;32m~/anaconda3/lib/python3.11/site-packages/shap/explainers/_permutation.py:213\u001b[0m, in \u001b[0;36mPermutationExplainer.shap_values\u001b[0;34m(self, X, npermutations, main_effects, error_bounds, batch_evals, silent)\u001b[0m\n\u001b[1;32m    188\u001b[0m \u001b[38;5;250m\u001b[39m\u001b[38;5;124;03m\"\"\" Legacy interface to estimate the SHAP values for a set of samples.\u001b[39;00m\n\u001b[1;32m    189\u001b[0m \n\u001b[1;32m    190\u001b[0m \u001b[38;5;124;03mParameters\u001b[39;00m\n\u001b[0;32m   (...)\u001b[0m\n\u001b[1;32m    209\u001b[0m \u001b[38;5;124;03m    of such matrices, one for each output.\u001b[39;00m\n\u001b[1;32m    210\u001b[0m \u001b[38;5;124;03m\"\"\"\u001b[39;00m\n\u001b[1;32m    211\u001b[0m warnings\u001b[38;5;241m.\u001b[39mwarn(\u001b[38;5;124m\"\u001b[39m\u001b[38;5;124mshap_values() is deprecated; use __call__().\u001b[39m\u001b[38;5;124m\"\u001b[39m, \u001b[38;5;167;01mDeprecationWarning\u001b[39;00m)\n\u001b[0;32m--> 213\u001b[0m explanation \u001b[38;5;241m=\u001b[39m \u001b[38;5;28mself\u001b[39m(X, max_evals\u001b[38;5;241m=\u001b[39mnpermutations \u001b[38;5;241m*\u001b[39m X\u001b[38;5;241m.\u001b[39mshape[\u001b[38;5;241m1\u001b[39m], main_effects\u001b[38;5;241m=\u001b[39mmain_effects)\n\u001b[1;32m    214\u001b[0m \u001b[38;5;28;01mreturn\u001b[39;00m explanation\u001b[38;5;241m.\u001b[39mvalues\n",
      "File \u001b[0;32m~/anaconda3/lib/python3.11/site-packages/shap/explainers/_permutation.py:79\u001b[0m, in \u001b[0;36mPermutationExplainer.__call__\u001b[0;34m(self, max_evals, main_effects, error_bounds, batch_size, outputs, silent, *args)\u001b[0m\n\u001b[1;32m     75\u001b[0m \u001b[38;5;28;01mdef\u001b[39;00m \u001b[38;5;21m__call__\u001b[39m(\u001b[38;5;28mself\u001b[39m, \u001b[38;5;241m*\u001b[39margs, max_evals\u001b[38;5;241m=\u001b[39m\u001b[38;5;241m500\u001b[39m, main_effects\u001b[38;5;241m=\u001b[39m\u001b[38;5;28;01mFalse\u001b[39;00m, error_bounds\u001b[38;5;241m=\u001b[39m\u001b[38;5;28;01mFalse\u001b[39;00m, batch_size\u001b[38;5;241m=\u001b[39m\u001b[38;5;124m\"\u001b[39m\u001b[38;5;124mauto\u001b[39m\u001b[38;5;124m\"\u001b[39m,\n\u001b[1;32m     76\u001b[0m              outputs\u001b[38;5;241m=\u001b[39m\u001b[38;5;28;01mNone\u001b[39;00m, silent\u001b[38;5;241m=\u001b[39m\u001b[38;5;28;01mFalse\u001b[39;00m):\n\u001b[1;32m     77\u001b[0m \u001b[38;5;250m    \u001b[39m\u001b[38;5;124;03m\"\"\" Explain the output of the model on the given arguments.\u001b[39;00m\n\u001b[1;32m     78\u001b[0m \u001b[38;5;124;03m    \"\"\"\u001b[39;00m\n\u001b[0;32m---> 79\u001b[0m     \u001b[38;5;28;01mreturn\u001b[39;00m \u001b[38;5;28msuper\u001b[39m()\u001b[38;5;241m.\u001b[39m\u001b[38;5;21m__call__\u001b[39m(\n\u001b[1;32m     80\u001b[0m         \u001b[38;5;241m*\u001b[39margs, max_evals\u001b[38;5;241m=\u001b[39mmax_evals, main_effects\u001b[38;5;241m=\u001b[39mmain_effects, error_bounds\u001b[38;5;241m=\u001b[39merror_bounds, batch_size\u001b[38;5;241m=\u001b[39mbatch_size,\n\u001b[1;32m     81\u001b[0m         outputs\u001b[38;5;241m=\u001b[39moutputs, silent\u001b[38;5;241m=\u001b[39msilent\n\u001b[1;32m     82\u001b[0m     )\n",
      "File \u001b[0;32m~/anaconda3/lib/python3.11/site-packages/shap/explainers/_explainer.py:267\u001b[0m, in \u001b[0;36mExplainer.__call__\u001b[0;34m(self, max_evals, main_effects, error_bounds, batch_size, outputs, silent, *args, **kwargs)\u001b[0m\n\u001b[1;32m    265\u001b[0m     feature_names \u001b[38;5;241m=\u001b[39m [[] \u001b[38;5;28;01mfor\u001b[39;00m _ \u001b[38;5;129;01min\u001b[39;00m \u001b[38;5;28mrange\u001b[39m(\u001b[38;5;28mlen\u001b[39m(args))]\n\u001b[1;32m    266\u001b[0m \u001b[38;5;28;01mfor\u001b[39;00m row_args \u001b[38;5;129;01min\u001b[39;00m show_progress(\u001b[38;5;28mzip\u001b[39m(\u001b[38;5;241m*\u001b[39margs), num_rows, \u001b[38;5;28mself\u001b[39m\u001b[38;5;241m.\u001b[39m\u001b[38;5;18m__class__\u001b[39m\u001b[38;5;241m.\u001b[39m\u001b[38;5;18m__name__\u001b[39m\u001b[38;5;241m+\u001b[39m\u001b[38;5;124m\"\u001b[39m\u001b[38;5;124m explainer\u001b[39m\u001b[38;5;124m\"\u001b[39m, silent):\n\u001b[0;32m--> 267\u001b[0m     row_result \u001b[38;5;241m=\u001b[39m \u001b[38;5;28mself\u001b[39m\u001b[38;5;241m.\u001b[39mexplain_row(\n\u001b[1;32m    268\u001b[0m         \u001b[38;5;241m*\u001b[39mrow_args, max_evals\u001b[38;5;241m=\u001b[39mmax_evals, main_effects\u001b[38;5;241m=\u001b[39mmain_effects, error_bounds\u001b[38;5;241m=\u001b[39merror_bounds,\n\u001b[1;32m    269\u001b[0m         batch_size\u001b[38;5;241m=\u001b[39mbatch_size, outputs\u001b[38;5;241m=\u001b[39moutputs, silent\u001b[38;5;241m=\u001b[39msilent, \u001b[38;5;241m*\u001b[39m\u001b[38;5;241m*\u001b[39mkwargs\n\u001b[1;32m    270\u001b[0m     )\n\u001b[1;32m    271\u001b[0m     values\u001b[38;5;241m.\u001b[39mappend(row_result\u001b[38;5;241m.\u001b[39mget(\u001b[38;5;124m\"\u001b[39m\u001b[38;5;124mvalues\u001b[39m\u001b[38;5;124m\"\u001b[39m, \u001b[38;5;28;01mNone\u001b[39;00m))\n\u001b[1;32m    272\u001b[0m     output_indices\u001b[38;5;241m.\u001b[39mappend(row_result\u001b[38;5;241m.\u001b[39mget(\u001b[38;5;124m\"\u001b[39m\u001b[38;5;124moutput_indices\u001b[39m\u001b[38;5;124m\"\u001b[39m, \u001b[38;5;28;01mNone\u001b[39;00m))\n",
      "File \u001b[0;32m~/anaconda3/lib/python3.11/site-packages/shap/explainers/_permutation.py:89\u001b[0m, in \u001b[0;36mPermutationExplainer.explain_row\u001b[0;34m(self, max_evals, main_effects, error_bounds, batch_size, outputs, silent, *row_args)\u001b[0m\n\u001b[1;32m     85\u001b[0m \u001b[38;5;250m\u001b[39m\u001b[38;5;124;03m\"\"\" Explains a single row and returns the tuple (row_values, row_expected_values, row_mask_shapes).\u001b[39;00m\n\u001b[1;32m     86\u001b[0m \u001b[38;5;124;03m\"\"\"\u001b[39;00m\n\u001b[1;32m     88\u001b[0m \u001b[38;5;66;03m# build a masked version of the model for the current input sample\u001b[39;00m\n\u001b[0;32m---> 89\u001b[0m fm \u001b[38;5;241m=\u001b[39m MaskedModel(\u001b[38;5;28mself\u001b[39m\u001b[38;5;241m.\u001b[39mmodel, \u001b[38;5;28mself\u001b[39m\u001b[38;5;241m.\u001b[39mmasker, \u001b[38;5;28mself\u001b[39m\u001b[38;5;241m.\u001b[39mlink, \u001b[38;5;28mself\u001b[39m\u001b[38;5;241m.\u001b[39mlinearize_link, \u001b[38;5;241m*\u001b[39mrow_args)\n\u001b[1;32m     91\u001b[0m \u001b[38;5;66;03m# by default we run 10 permutations forward and backward\u001b[39;00m\n\u001b[1;32m     92\u001b[0m \u001b[38;5;28;01mif\u001b[39;00m max_evals \u001b[38;5;241m==\u001b[39m \u001b[38;5;124m\"\u001b[39m\u001b[38;5;124mauto\u001b[39m\u001b[38;5;124m\"\u001b[39m:\n",
      "File \u001b[0;32m~/anaconda3/lib/python3.11/site-packages/shap/utils/_masked_model.py:47\u001b[0m, in \u001b[0;36mMaskedModel.__init__\u001b[0;34m(self, model, masker, link, linearize_link, *args)\u001b[0m\n\u001b[1;32m     45\u001b[0m         mshape \u001b[38;5;241m=\u001b[39m \u001b[38;5;28mself\u001b[39m\u001b[38;5;241m.\u001b[39mmasker\u001b[38;5;241m.\u001b[39mshape\n\u001b[1;32m     46\u001b[0m         \u001b[38;5;28mself\u001b[39m\u001b[38;5;241m.\u001b[39m_masker_rows \u001b[38;5;241m=\u001b[39m mshape[\u001b[38;5;241m0\u001b[39m]\n\u001b[0;32m---> 47\u001b[0m         \u001b[38;5;28mself\u001b[39m\u001b[38;5;241m.\u001b[39m_masker_cols \u001b[38;5;241m=\u001b[39m mshape[\u001b[38;5;241m1\u001b[39m]\n\u001b[1;32m     48\u001b[0m \u001b[38;5;28;01melse\u001b[39;00m:\n\u001b[1;32m     49\u001b[0m     \u001b[38;5;28mself\u001b[39m\u001b[38;5;241m.\u001b[39m_masker_rows \u001b[38;5;241m=\u001b[39m \u001b[38;5;28;01mNone\u001b[39;00m\u001b[38;5;66;03m# # just assuming...\u001b[39;00m\n",
      "\u001b[0;31mIndexError\u001b[0m: tuple index out of range"
     ]
    }
   ],
   "source": [
    "shap_values = explainer.shap_values(X_test_vectorized)"
   ]
  },
  {
   "cell_type": "code",
   "execution_count": null,
   "id": "aab8f0d6-4912-412a-a542-9da031b82361",
   "metadata": {
    "tags": []
   },
   "outputs": [],
   "source": [
    "print(explainer)"
   ]
  },
  {
   "cell_type": "code",
   "execution_count": null,
   "id": "cc343b16-d497-40e5-903e-a74fdce39fc1",
   "metadata": {
    "tags": []
   },
   "outputs": [],
   "source": [
    "import shap\n",
    "# Crear el explainer usando KernelExplainer\n",
    "explainer = shap.Explainer(pipeline_svc_1.predict_proba, X_train)\n",
    "\n",
    "# Obtener los valores SHAP para los datos de prueba\n",
    "shap_values = explainer.shap_values(X_test)\n",
    "\n",
    "# Crear gráficos o visualizaciones con shap_values según tus necesidades\n",
    "# Por ejemplo, un resumen global de los SHAP values\n",
    "shap.summary_plot(shap_values, X_test)"
   ]
  },
  {
   "cell_type": "markdown",
   "id": "ed7c4eb5-9722-4b57-bbee-03739665a61f",
   "metadata": {},
   "source": [
    "## 3. VALIDACION DE MODELO "
   ]
  },
  {
   "cell_type": "markdown",
   "id": "a086b48a-36a8-4e1c-bc2f-2b0898249c70",
   "metadata": {},
   "source": [
    "### 3.1 VALIDACION CON COMENTARIOS CRUDOS "
   ]
  },
  {
   "cell_type": "code",
   "execution_count": 52,
   "id": "8b137383-aa6d-42a9-bec2-f1c9f5296f3c",
   "metadata": {},
   "outputs": [],
   "source": [
    "from tqdm import tqdm\n",
    "# from tqdm.auto import tqdm  # for notebooks\n",
    "\n",
    "# Create new `pandas` methods which use `tqdm` progress\n",
    "# (can use tqdm_gui, optional kwargs, etc.)\n",
    "tqdm.pandas()"
   ]
  },
  {
   "cell_type": "code",
   "execution_count": 166,
   "id": "52ba83e2-f028-46ed-9ec2-467b2187141c",
   "metadata": {},
   "outputs": [],
   "source": [
    "df_comment_validation = pd.read_csv(f\"comentarios_validacion_modelo.csv\")"
   ]
  },
  {
   "cell_type": "code",
   "execution_count": 167,
   "id": "765ad396-1f5c-4784-a9bd-e3ac94d19934",
   "metadata": {},
   "outputs": [],
   "source": [
    "# Cargar el modelo guardado\n",
    "with open(\"SVC_model.pkl\", \"rb\") as file:\n",
    "    loaded_model = pickle.load(file)"
   ]
  },
  {
   "cell_type": "code",
   "execution_count": 50,
   "id": "09e64fc5-f916-4591-92b6-659e9fc2f95f",
   "metadata": {},
   "outputs": [
    {
     "data": {
      "text/plain": [
       "array(['mmachismo'], dtype=object)"
      ]
     },
     "execution_count": 50,
     "metadata": {},
     "output_type": "execute_result"
    }
   ],
   "source": [
    "loaded_model.predict([\"mejor pelear solucionar jodido precio alto espa trabajamo comer compramo aceit oliva primer productor aceituna mundo euro litro mismo tiempo unido cobra aceit oliva importado espa alto impuesto aduana mismo tiempo precio alcohol mismo quieren emborrachar respons guerra ucrania rusia pido creer mentira americana inglesa\t\"])"
   ]
  },
  {
   "cell_type": "code",
   "execution_count": 168,
   "id": "fc647e26-3d36-4cd4-9a42-d95752eb9136",
   "metadata": {},
   "outputs": [],
   "source": [
    "df_comment_validation['comment'] = df_comment_validation['comment'].apply(lambda x: [x])"
   ]
  },
  {
   "cell_type": "code",
   "execution_count": 169,
   "id": "dbc3be3e-b29d-430b-b493-7b74ddfcdd6d",
   "metadata": {},
   "outputs": [
    {
     "name": "stderr",
     "output_type": "stream",
     "text": [
      "100%|███████████████████████████████████████████████████████████████████████████████| 190/190 [00:00<00:00, 729.81it/s]\n"
     ]
    }
   ],
   "source": [
    "def asignar_categoria(elemento):\n",
    "    if isinstance(elemento, list):\n",
    "        resultado = loaded_model.predict(elemento) \n",
    "        categoria_predicha = resultado[0]\n",
    "        \n",
    "    return categoria_predicha\n",
    "\n",
    "# Aplicar la función a la columna 'comment' y crear una nueva columna 'category'\n",
    "df_comment_validation['category'] = df_comment_validation['comment'].progress_apply(lambda x: asignar_categoria(x))"
   ]
  },
  {
   "cell_type": "code",
   "execution_count": 170,
   "id": "43207bf3-b5e4-45bf-9036-285991512a6a",
   "metadata": {},
   "outputs": [
    {
     "data": {
      "text/plain": [
       "ideología política    91\n",
       "racismo               58\n",
       "machismo              41\n",
       "Name: category, dtype: int64"
      ]
     },
     "execution_count": 170,
     "metadata": {},
     "output_type": "execute_result"
    }
   ],
   "source": [
    "df_comment_validation['category'].value_counts()"
   ]
  },
  {
   "cell_type": "code",
   "execution_count": 171,
   "id": "6a063ce4-9f02-4a2c-8e1f-3378914c635b",
   "metadata": {},
   "outputs": [
    {
     "data": {
      "text/plain": [
       "(190, 4)"
      ]
     },
     "execution_count": 171,
     "metadata": {},
     "output_type": "execute_result"
    }
   ],
   "source": [
    "df_comment_validation.shape"
   ]
  },
  {
   "cell_type": "markdown",
   "id": "ca028b0e-502e-4cc6-b867-a50ac78e0d9c",
   "metadata": {},
   "source": [
    "#### 3.1.1 PRUEBAS CON DATASET DESCONOCIDO"
   ]
  },
  {
   "cell_type": "code",
   "execution_count": 172,
   "id": "2effad7f-f287-4cdd-805b-f12eca305777",
   "metadata": {},
   "outputs": [],
   "source": [
    "df_otro = pd.read_csv(f\"comentarios_amnistia_a_clasificar.csv\")"
   ]
  },
  {
   "cell_type": "code",
   "execution_count": 173,
   "id": "bda49ca4-9b6a-430e-94a5-604cae60c965",
   "metadata": {},
   "outputs": [],
   "source": [
    "df_otro['comment'] = df_otro['comment'].apply(lambda x: [x])"
   ]
  },
  {
   "cell_type": "code",
   "execution_count": 174,
   "id": "a0e72741-d440-485f-b880-2d4282185888",
   "metadata": {},
   "outputs": [
    {
     "name": "stderr",
     "output_type": "stream",
     "text": [
      "100%|███████████████████████████████████████████████████████████████████████████████| 191/191 [00:00<00:00, 698.61it/s]\n"
     ]
    }
   ],
   "source": [
    "df_otro['category'] = df_otro['comment'].progress_apply(lambda x: asignar_categoria(x))"
   ]
  },
  {
   "cell_type": "code",
   "execution_count": 175,
   "id": "546e8a40-0b5e-4a21-9f94-2094960767c9",
   "metadata": {},
   "outputs": [
    {
     "data": {
      "text/plain": [
       "ideología política    92\n",
       "machismo              54\n",
       "racismo               45\n",
       "Name: category, dtype: int64"
      ]
     },
     "execution_count": 175,
     "metadata": {},
     "output_type": "execute_result"
    }
   ],
   "source": [
    "df_otro['category'].value_counts()"
   ]
  },
  {
   "cell_type": "code",
   "execution_count": 176,
   "id": "f2cf4b6a-beac-4325-be4c-e1f7b0e40eb9",
   "metadata": {},
   "outputs": [
    {
     "data": {
      "text/plain": [
       "(191, 3)"
      ]
     },
     "execution_count": 176,
     "metadata": {},
     "output_type": "execute_result"
    }
   ],
   "source": [
    "df_otro.shape"
   ]
  },
  {
   "cell_type": "markdown",
   "id": "98f5885e-357c-46d1-b0d4-454b6ca8bf7f",
   "metadata": {},
   "source": [
    "#### 3.1.2 PRUEBA CON DATASET MAS GRANDE FILTRADO POR NEGATIVOS "
   ]
  },
  {
   "cell_type": "code",
   "execution_count": 183,
   "id": "3cec5160-94bd-4601-9c43-f10860c27038",
   "metadata": {},
   "outputs": [],
   "source": [
    "df_negativos = pd.read_csv(\"comentarios_amnistia_etiquetado.csv\")"
   ]
  },
  {
   "cell_type": "code",
   "execution_count": 184,
   "id": "4b228d6e-45cb-4983-bbbc-f579f43621f6",
   "metadata": {},
   "outputs": [],
   "source": [
    "df_negativos['comment'] = df_negativos['comment'].apply(lambda x: [x])"
   ]
  },
  {
   "cell_type": "code",
   "execution_count": 185,
   "id": "36e85cff-d496-4244-8a6e-bea5f4662814",
   "metadata": {},
   "outputs": [
    {
     "name": "stderr",
     "output_type": "stream",
     "text": [
      "100%|█████████████████████████████████████████████████████████████████████████████| 8305/8305 [00:10<00:00, 810.71it/s]\n"
     ]
    }
   ],
   "source": [
    "df_negativos['category'] = df_negativos['comment'].progress_apply(lambda x: asignar_categoria(x))"
   ]
  },
  {
   "cell_type": "code",
   "execution_count": 186,
   "id": "ccccda88-ed8b-4724-bc72-988d0c9442c6",
   "metadata": {},
   "outputs": [
    {
     "data": {
      "text/plain": [
       "ideología política    5980\n",
       "machismo              1757\n",
       "racismo                568\n",
       "Name: category, dtype: int64"
      ]
     },
     "execution_count": 186,
     "metadata": {},
     "output_type": "execute_result"
    }
   ],
   "source": [
    "df_negativos['category'].value_counts()"
   ]
  },
  {
   "cell_type": "code",
   "execution_count": 187,
   "id": "d78cc7d1-5786-4598-8631-82f8c4837d4a",
   "metadata": {},
   "outputs": [
    {
     "data": {
      "text/plain": [
       "(8305, 14)"
      ]
     },
     "execution_count": 187,
     "metadata": {},
     "output_type": "execute_result"
    }
   ],
   "source": [
    "df_negativos.shape"
   ]
  },
  {
   "cell_type": "markdown",
   "id": "c1c7ea41-ffc1-45d2-97a4-dcf57dc6db4a",
   "metadata": {},
   "source": [
    "#### 3.1.3 PRUEBA CON MAS GRANDE SIN FILTROS "
   ]
  },
  {
   "cell_type": "code",
   "execution_count": 188,
   "id": "b3e1702f-89d4-4679-88ae-0da4f7807c4d",
   "metadata": {},
   "outputs": [],
   "source": [
    "df_otro_mas_grande = pd.read_csv(f\"comentarios_amnistia_sentimiento.csv\")"
   ]
  },
  {
   "cell_type": "code",
   "execution_count": 189,
   "id": "951761c8-7db5-4814-bd93-2c6ebcb828cf",
   "metadata": {},
   "outputs": [],
   "source": [
    "df_otro_mas_grande['comment'] = df_otro_mas_grande['comment'].apply(lambda x: [x])"
   ]
  },
  {
   "cell_type": "code",
   "execution_count": 190,
   "id": "06cbcbb1-bd40-4847-8b94-c78c7ed3bad0",
   "metadata": {},
   "outputs": [
    {
     "name": "stderr",
     "output_type": "stream",
     "text": [
      "100%|███████████████████████████████████████████████████████████████████████████| 11908/11908 [00:14<00:00, 827.98it/s]\n"
     ]
    }
   ],
   "source": [
    "df_otro_mas_grande['category'] = df_otro_mas_grande['comment'].progress_apply(lambda x: asignar_categoria(x))"
   ]
  },
  {
   "cell_type": "code",
   "execution_count": 191,
   "id": "5c9f146b-927b-40a7-bb1c-f315354635e8",
   "metadata": {},
   "outputs": [
    {
     "data": {
      "text/plain": [
       "ideología política    7935\n",
       "machismo              3264\n",
       "racismo                709\n",
       "Name: category, dtype: int64"
      ]
     },
     "execution_count": 191,
     "metadata": {},
     "output_type": "execute_result"
    }
   ],
   "source": [
    "df_otro_mas_grande['category'].value_counts()"
   ]
  },
  {
   "cell_type": "code",
   "execution_count": 192,
   "id": "41d43c9f-0fd2-400a-9cac-ea606326043d",
   "metadata": {},
   "outputs": [
    {
     "data": {
      "text/plain": [
       "(11908, 9)"
      ]
     },
     "execution_count": 192,
     "metadata": {},
     "output_type": "execute_result"
    }
   ],
   "source": [
    "df_otro_mas_grande.shape"
   ]
  },
  {
   "cell_type": "markdown",
   "id": "4e381e7c-6ff4-407e-b222-2a2f11e09558",
   "metadata": {},
   "source": [
    "#### 3.1.4 PRUEBAS CON MENTARIOS AL AZAR"
   ]
  },
  {
   "cell_type": "code",
   "execution_count": null,
   "id": "26d454de-363f-43f4-b3cd-6702302fab70",
   "metadata": {},
   "outputs": [],
   "source": [
    "loaded_model.predict([\"pue creo explicar bola vigilen dice enga saben\"])"
   ]
  },
  {
   "cell_type": "code",
   "execution_count": null,
   "id": "79ef96c9-90a3-46eb-95b0-3370ac09cf74",
   "metadata": {},
   "outputs": [],
   "source": [
    "df_grande_stem['comment_stem'][8457]"
   ]
  },
  {
   "cell_type": "code",
   "execution_count": null,
   "id": "cf40525f-c6f8-47dd-ab86-ad2262251608",
   "metadata": {},
   "outputs": [],
   "source": [
    "loaded_model.predict(['interesant poner evidencia carencia ofrecen sistema educativo orientado alcanzar media efecto princip supon normativizar precisi milim trica comportamiento respuesta alumno anulaci personalidad individualidad hannah arendt libro banalidad misma forma revela efecto catastr fico rdida consciencia individuo marcialidad pued productiva control alumnado consideran espacio aprendizaj embargo precio pagar empobrecimiento cancelaci aquello destaca difier masa aquello hace insustitu podemo promov sistema provoca alumno conviertan conglomerado suscept comportars masa mismo ortega tambi alertaba peligro meno sociedad cita nunca conseguido ubicar vien colaci nacemo original mueren fotocopia tremendament habitu encontrarno caso refuerza negativo amenaza desesperanza dentro aula part docent cada maestrillo librillo debe encontrar rmula acallar inercia masa provocar resplandor originalidad individu'])"
   ]
  }
 ],
 "metadata": {
  "kernelspec": {
   "display_name": "Python 3 (ipykernel)",
   "language": "python",
   "name": "python3"
  },
  "language_info": {
   "codemirror_mode": {
    "name": "ipython",
    "version": 3
   },
   "file_extension": ".py",
   "mimetype": "text/x-python",
   "name": "python",
   "nbconvert_exporter": "python",
   "pygments_lexer": "ipython3",
   "version": "3.11.4"
  },
  "widgets": {
   "application/vnd.jupyter.widget-state+json": {
    "state": {},
    "version_major": 2,
    "version_minor": 0
   }
  }
 },
 "nbformat": 4,
 "nbformat_minor": 5
}
