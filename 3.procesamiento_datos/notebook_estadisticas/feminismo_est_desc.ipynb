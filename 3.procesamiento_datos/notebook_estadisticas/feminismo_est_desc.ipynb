{
 "cells": [
  {
   "cell_type": "code",
   "execution_count": 1,
   "id": "fcd6c0e0-bc8b-4f5e-b681-bb50031a1876",
   "metadata": {},
   "outputs": [],
   "source": [
    "import pandas as pd"
   ]
  },
  {
   "cell_type": "code",
   "execution_count": 2,
   "id": "96f8e9e7-443e-43c8-aa65-3b21d25abb74",
   "metadata": {
    "tags": []
   },
   "outputs": [],
   "source": [
    "df_hate_feminismo = pd.read_csv('/Users/usuario/Downloads/irunela/csv/csv_hate/hate_feminismo.csv')"
   ]
  },
  {
   "cell_type": "code",
   "execution_count": 3,
   "id": "a16246f5-5b40-479f-902d-0451b407b37c",
   "metadata": {
    "tags": []
   },
   "outputs": [
    {
     "data": {
      "text/html": [
       "<div>\n",
       "<style scoped>\n",
       "    .dataframe tbody tr th:only-of-type {\n",
       "        vertical-align: middle;\n",
       "    }\n",
       "\n",
       "    .dataframe tbody tr th {\n",
       "        vertical-align: top;\n",
       "    }\n",
       "\n",
       "    .dataframe thead th {\n",
       "        text-align: right;\n",
       "    }\n",
       "</style>\n",
       "<table border=\"1\" class=\"dataframe\">\n",
       "  <thead>\n",
       "    <tr style=\"text-align: right;\">\n",
       "      <th></th>\n",
       "      <th>Unnamed: 0.1</th>\n",
       "      <th>Unnamed: 0</th>\n",
       "      <th>video_id</th>\n",
       "      <th>author</th>\n",
       "      <th>comment</th>\n",
       "      <th>vectores_tfidf</th>\n",
       "      <th>comment_stem</th>\n",
       "      <th>sentiment</th>\n",
       "      <th>hateful</th>\n",
       "      <th>targeted</th>\n",
       "      <th>aggresive</th>\n",
       "    </tr>\n",
       "  </thead>\n",
       "  <tbody>\n",
       "    <tr>\n",
       "      <th>0</th>\n",
       "      <td>0</td>\n",
       "      <td>0</td>\n",
       "      <td>V8gDOj2V6Wo</td>\n",
       "      <td>UCHod-i12nNNdYtTJIqeXRLA</td>\n",
       "      <td>Viva el machismo</td>\n",
       "      <td>[0. 0. 0. ... 0. 0. 0.]</td>\n",
       "      <td>viva machismo</td>\n",
       "      <td>0.0</td>\n",
       "      <td>0.068047</td>\n",
       "      <td>0.015854</td>\n",
       "      <td>0.028564</td>\n",
       "    </tr>\n",
       "    <tr>\n",
       "      <th>1</th>\n",
       "      <td>1</td>\n",
       "      <td>2</td>\n",
       "      <td>V8gDOj2V6Wo</td>\n",
       "      <td>UC3IJ88t0um1drra78GUSNLg</td>\n",
       "      <td>Feminismo es una palabra para referirse a una ...</td>\n",
       "      <td>[0. 0. 0. ... 0. 0. 0.]</td>\n",
       "      <td>feminismo palabra referirs mujer rasgo movimie...</td>\n",
       "      <td>0.0</td>\n",
       "      <td>0.130701</td>\n",
       "      <td>0.011387</td>\n",
       "      <td>0.027665</td>\n",
       "    </tr>\n",
       "    <tr>\n",
       "      <th>2</th>\n",
       "      <td>2</td>\n",
       "      <td>3</td>\n",
       "      <td>V8gDOj2V6Wo</td>\n",
       "      <td>UCx71QVpr8WRY2HIALeabUzw</td>\n",
       "      <td>Es que la verdad el feminismo ya no busca igua...</td>\n",
       "      <td>[0. 0. 0. ... 0. 0. 0.]</td>\n",
       "      <td>verdad feminismo busca igualdad busca derecho ...</td>\n",
       "      <td>0.0</td>\n",
       "      <td>0.049809</td>\n",
       "      <td>0.009739</td>\n",
       "      <td>0.014322</td>\n",
       "    </tr>\n",
       "    <tr>\n",
       "      <th>3</th>\n",
       "      <td>3</td>\n",
       "      <td>5</td>\n",
       "      <td>V8gDOj2V6Wo</td>\n",
       "      <td>UChRm-4tazqB8qLZYKrVsPyg</td>\n",
       "      <td>La solucion es ovia...\\n\\n_hay que quitar el m...</td>\n",
       "      <td>[0. 0. 0. ... 0. 0. 0.]</td>\n",
       "      <td>solucion ovia quitar ministerio mujer creal mi...</td>\n",
       "      <td>0.0</td>\n",
       "      <td>0.088245</td>\n",
       "      <td>0.011525</td>\n",
       "      <td>0.017757</td>\n",
       "    </tr>\n",
       "    <tr>\n",
       "      <th>4</th>\n",
       "      <td>4</td>\n",
       "      <td>6</td>\n",
       "      <td>V8gDOj2V6Wo</td>\n",
       "      <td>UCpg4OxQpbqV5yMK9oj0pA7Q</td>\n",
       "      <td>No ala idiologia de genero</td>\n",
       "      <td>[0. 0. 0. ... 0. 0. 0.]</td>\n",
       "      <td>idiologia genero</td>\n",
       "      <td>0.0</td>\n",
       "      <td>0.098890</td>\n",
       "      <td>0.025117</td>\n",
       "      <td>0.037894</td>\n",
       "    </tr>\n",
       "  </tbody>\n",
       "</table>\n",
       "</div>"
      ],
      "text/plain": [
       "   Unnamed: 0.1  Unnamed: 0     video_id                    author  \\\n",
       "0             0           0  V8gDOj2V6Wo  UCHod-i12nNNdYtTJIqeXRLA   \n",
       "1             1           2  V8gDOj2V6Wo  UC3IJ88t0um1drra78GUSNLg   \n",
       "2             2           3  V8gDOj2V6Wo  UCx71QVpr8WRY2HIALeabUzw   \n",
       "3             3           5  V8gDOj2V6Wo  UChRm-4tazqB8qLZYKrVsPyg   \n",
       "4             4           6  V8gDOj2V6Wo  UCpg4OxQpbqV5yMK9oj0pA7Q   \n",
       "\n",
       "                                             comment           vectores_tfidf  \\\n",
       "0                                   Viva el machismo  [0. 0. 0. ... 0. 0. 0.]   \n",
       "1  Feminismo es una palabra para referirse a una ...  [0. 0. 0. ... 0. 0. 0.]   \n",
       "2  Es que la verdad el feminismo ya no busca igua...  [0. 0. 0. ... 0. 0. 0.]   \n",
       "3  La solucion es ovia...\\n\\n_hay que quitar el m...  [0. 0. 0. ... 0. 0. 0.]   \n",
       "4                         No ala idiologia de genero  [0. 0. 0. ... 0. 0. 0.]   \n",
       "\n",
       "                                        comment_stem  sentiment   hateful  \\\n",
       "0                                      viva machismo        0.0  0.068047   \n",
       "1  feminismo palabra referirs mujer rasgo movimie...        0.0  0.130701   \n",
       "2  verdad feminismo busca igualdad busca derecho ...        0.0  0.049809   \n",
       "3  solucion ovia quitar ministerio mujer creal mi...        0.0  0.088245   \n",
       "4                                   idiologia genero        0.0  0.098890   \n",
       "\n",
       "   targeted  aggresive  \n",
       "0  0.015854   0.028564  \n",
       "1  0.011387   0.027665  \n",
       "2  0.009739   0.014322  \n",
       "3  0.011525   0.017757  \n",
       "4  0.025117   0.037894  "
      ]
     },
     "execution_count": 3,
     "metadata": {},
     "output_type": "execute_result"
    }
   ],
   "source": [
    "df_hate_feminismo.head()\n"
   ]
  },
  {
   "cell_type": "code",
   "execution_count": 4,
   "id": "2134af1b-af68-4524-9422-7cb6e14012b2",
   "metadata": {
    "tags": []
   },
   "outputs": [
    {
     "data": {
      "text/html": [
       "<div>\n",
       "<style scoped>\n",
       "    .dataframe tbody tr th:only-of-type {\n",
       "        vertical-align: middle;\n",
       "    }\n",
       "\n",
       "    .dataframe tbody tr th {\n",
       "        vertical-align: top;\n",
       "    }\n",
       "\n",
       "    .dataframe thead th {\n",
       "        text-align: right;\n",
       "    }\n",
       "</style>\n",
       "<table border=\"1\" class=\"dataframe\">\n",
       "  <thead>\n",
       "    <tr style=\"text-align: right;\">\n",
       "      <th></th>\n",
       "      <th>Unnamed: 0.1</th>\n",
       "      <th>Unnamed: 0</th>\n",
       "      <th>sentiment</th>\n",
       "      <th>hateful</th>\n",
       "      <th>targeted</th>\n",
       "      <th>aggresive</th>\n",
       "    </tr>\n",
       "  </thead>\n",
       "  <tbody>\n",
       "    <tr>\n",
       "      <th>count</th>\n",
       "      <td>5614.000000</td>\n",
       "      <td>5614.000000</td>\n",
       "      <td>5614.0</td>\n",
       "      <td>5614.000000</td>\n",
       "      <td>5614.000000</td>\n",
       "      <td>5614.000000</td>\n",
       "    </tr>\n",
       "    <tr>\n",
       "      <th>mean</th>\n",
       "      <td>2806.500000</td>\n",
       "      <td>5426.052013</td>\n",
       "      <td>0.0</td>\n",
       "      <td>0.175854</td>\n",
       "      <td>0.058061</td>\n",
       "      <td>0.076858</td>\n",
       "    </tr>\n",
       "    <tr>\n",
       "      <th>std</th>\n",
       "      <td>1620.766537</td>\n",
       "      <td>3113.070560</td>\n",
       "      <td>0.0</td>\n",
       "      <td>0.248235</td>\n",
       "      <td>0.141302</td>\n",
       "      <td>0.142867</td>\n",
       "    </tr>\n",
       "    <tr>\n",
       "      <th>min</th>\n",
       "      <td>0.000000</td>\n",
       "      <td>0.000000</td>\n",
       "      <td>0.0</td>\n",
       "      <td>0.007321</td>\n",
       "      <td>0.003651</td>\n",
       "      <td>0.006946</td>\n",
       "    </tr>\n",
       "    <tr>\n",
       "      <th>25%</th>\n",
       "      <td>1403.250000</td>\n",
       "      <td>2760.250000</td>\n",
       "      <td>0.0</td>\n",
       "      <td>0.029584</td>\n",
       "      <td>0.011510</td>\n",
       "      <td>0.017728</td>\n",
       "    </tr>\n",
       "    <tr>\n",
       "      <th>50%</th>\n",
       "      <td>2806.500000</td>\n",
       "      <td>5483.000000</td>\n",
       "      <td>0.0</td>\n",
       "      <td>0.059114</td>\n",
       "      <td>0.018358</td>\n",
       "      <td>0.031413</td>\n",
       "    </tr>\n",
       "    <tr>\n",
       "      <th>75%</th>\n",
       "      <td>4209.750000</td>\n",
       "      <td>8115.750000</td>\n",
       "      <td>0.0</td>\n",
       "      <td>0.175397</td>\n",
       "      <td>0.036965</td>\n",
       "      <td>0.060016</td>\n",
       "    </tr>\n",
       "    <tr>\n",
       "      <th>max</th>\n",
       "      <td>5613.000000</td>\n",
       "      <td>10791.000000</td>\n",
       "      <td>0.0</td>\n",
       "      <td>0.990876</td>\n",
       "      <td>0.989865</td>\n",
       "      <td>0.981326</td>\n",
       "    </tr>\n",
       "  </tbody>\n",
       "</table>\n",
       "</div>"
      ],
      "text/plain": [
       "       Unnamed: 0.1    Unnamed: 0  sentiment      hateful     targeted  \\\n",
       "count   5614.000000   5614.000000     5614.0  5614.000000  5614.000000   \n",
       "mean    2806.500000   5426.052013        0.0     0.175854     0.058061   \n",
       "std     1620.766537   3113.070560        0.0     0.248235     0.141302   \n",
       "min        0.000000      0.000000        0.0     0.007321     0.003651   \n",
       "25%     1403.250000   2760.250000        0.0     0.029584     0.011510   \n",
       "50%     2806.500000   5483.000000        0.0     0.059114     0.018358   \n",
       "75%     4209.750000   8115.750000        0.0     0.175397     0.036965   \n",
       "max     5613.000000  10791.000000        0.0     0.990876     0.989865   \n",
       "\n",
       "         aggresive  \n",
       "count  5614.000000  \n",
       "mean      0.076858  \n",
       "std       0.142867  \n",
       "min       0.006946  \n",
       "25%       0.017728  \n",
       "50%       0.031413  \n",
       "75%       0.060016  \n",
       "max       0.981326  "
      ]
     },
     "execution_count": 4,
     "metadata": {},
     "output_type": "execute_result"
    }
   ],
   "source": [
    "df_hate_feminismo.describe()"
   ]
  },
  {
   "cell_type": "code",
   "execution_count": 5,
   "id": "ff6a192f-52d3-4fc4-86b6-48718a05fca3",
   "metadata": {
    "tags": []
   },
   "outputs": [],
   "source": [
    "import pandas as pd\n",
    "\n",
    "# Calcular la media\n",
    "media = df_hate_feminismo[['sentiment', 'hateful', 'targeted', 'aggresive']].mean()\n",
    "\n",
    "# Calcular la mediana\n",
    "mediana = df_hate_feminismo[['sentiment', 'hateful', 'targeted', 'aggresive']].median()\n",
    "\n",
    "# Calcular la moda\n",
    "moda = df_hate_feminismo[['sentiment', 'hateful', 'targeted', 'aggresive']].mode().iloc[0]"
   ]
  },
  {
   "cell_type": "code",
   "execution_count": 6,
   "id": "8aba291a-841e-4d0a-83db-c0c1b049725a",
   "metadata": {
    "tags": []
   },
   "outputs": [
    {
     "data": {
      "text/plain": [
       "sentiment    0.000000\n",
       "hateful      0.175854\n",
       "targeted     0.058061\n",
       "aggresive    0.076858\n",
       "dtype: float64"
      ]
     },
     "execution_count": 6,
     "metadata": {},
     "output_type": "execute_result"
    }
   ],
   "source": [
    "media"
   ]
  },
  {
   "cell_type": "code",
   "execution_count": 7,
   "id": "2af123bf-4efd-4a1b-a376-5103c17b4d2e",
   "metadata": {
    "tags": []
   },
   "outputs": [
    {
     "data": {
      "text/plain": [
       "sentiment    0.000000\n",
       "hateful      0.059114\n",
       "targeted     0.018358\n",
       "aggresive    0.031413\n",
       "dtype: float64"
      ]
     },
     "execution_count": 7,
     "metadata": {},
     "output_type": "execute_result"
    }
   ],
   "source": [
    "mediana"
   ]
  },
  {
   "cell_type": "code",
   "execution_count": 8,
   "id": "088fd00e-8742-4af6-b0ad-0aacbf74abcd",
   "metadata": {
    "tags": []
   },
   "outputs": [
    {
     "data": {
      "text/plain": [
       "sentiment    0.000000\n",
       "hateful      0.135054\n",
       "targeted     0.036388\n",
       "aggresive    0.078307\n",
       "Name: 0, dtype: float64"
      ]
     },
     "execution_count": 8,
     "metadata": {},
     "output_type": "execute_result"
    }
   ],
   "source": [
    "moda"
   ]
  },
  {
   "cell_type": "code",
   "execution_count": 9,
   "id": "db268c67-4af3-434e-95ef-9152ed23feb0",
   "metadata": {
    "tags": []
   },
   "outputs": [],
   "source": [
    "# Varianza\n",
    "varianza_sentiment = df_hate_feminismo['sentiment'].var()\n",
    "varianza_hateful = df_hate_feminismo['hateful'].var()\n",
    "varianza_targeted = df_hate_feminismo['targeted'].var()\n",
    "varianza_aggressive = df_hate_feminismo['aggresive'].var()\n",
    "\n",
    "# Desviación estándar\n",
    "std_sentiment = df_hate_feminismo['sentiment'].std()\n",
    "std_hateful = df_hate_feminismo['hateful'].std()\n",
    "std_targeted = df_hate_feminismo['targeted'].std()\n",
    "std_aggressive = df_hate_feminismo['aggresive'].std()\n",
    "\n",
    "# Rango\n",
    "rango_sentiment = df_hate_feminismo['sentiment'].max() - df_hate_feminismo['sentiment'].min()\n",
    "rango_hateful = df_hate_feminismo['hateful'].max() - df_hate_feminismo['hateful'].min()\n",
    "rango_targeted = df_hate_feminismo['targeted'].max() - df_hate_feminismo['targeted'].min()\n",
    "rango_aggressive = df_hate_feminismo['aggresive'].max() - df_hate_feminismo['aggresive'].min()\n"
   ]
  },
  {
   "cell_type": "code",
   "execution_count": 10,
   "id": "0f8d45b9-8d12-4a6c-a0a5-1beecc2494d1",
   "metadata": {
    "tags": []
   },
   "outputs": [
    {
     "name": "stdout",
     "output_type": "stream",
     "text": [
      "Medidas de dispersión para 'sentiment':\n",
      "Varianza: 0.0\n",
      "Desviación estándar: 0.0\n",
      "Rango: 0.0\n",
      "\n",
      "Medidas de dispersión para 'hateful':\n",
      "Varianza: 0.06162037760722816\n",
      "Desviación estándar: 0.24823452138497612\n",
      "Rango: 0.9835554952733218\n",
      "\n",
      "Medidas de dispersión para 'targeted':\n",
      "Varianza: 0.019966386883505476\n",
      "Desviación estándar: 0.14130246594983922\n",
      "Rango: 0.9862135748844596\n",
      "\n",
      "Medidas de dispersión para 'aggressive':\n",
      "Varianza: 0.020411117360251325\n",
      "Desviación estándar: 0.14286748181532186\n",
      "Rango: 0.9743800102733076\n"
     ]
    }
   ],
   "source": [
    "print(\"Medidas de dispersión para 'sentiment':\")\n",
    "print(f\"Varianza: {varianza_sentiment}\")\n",
    "print(f\"Desviación estándar: {std_sentiment}\")\n",
    "print(f\"Rango: {rango_sentiment}\")\n",
    "\n",
    "print(\"\\nMedidas de dispersión para 'hateful':\")\n",
    "print(f\"Varianza: {varianza_hateful}\")\n",
    "print(f\"Desviación estándar: {std_hateful}\")\n",
    "print(f\"Rango: {rango_hateful}\")\n",
    "\n",
    "print(\"\\nMedidas de dispersión para 'targeted':\")\n",
    "print(f\"Varianza: {varianza_targeted}\")\n",
    "print(f\"Desviación estándar: {std_targeted}\")\n",
    "print(f\"Rango: {rango_targeted}\")\n",
    "\n",
    "print(\"\\nMedidas de dispersión para 'aggressive':\")\n",
    "print(f\"Varianza: {varianza_aggressive}\")\n",
    "print(f\"Desviación estándar: {std_aggressive}\")\n",
    "print(f\"Rango: {rango_aggressive}\")\n"
   ]
  },
  {
   "cell_type": "code",
   "execution_count": 11,
   "id": "70e50eff-5648-4347-926a-b4c7f2405045",
   "metadata": {
    "tags": []
   },
   "outputs": [
    {
     "name": "stdout",
     "output_type": "stream",
     "text": [
      "           sentiment   hateful  targeted  aggresive\n",
      "sentiment        NaN       NaN       NaN        NaN\n",
      "hateful          NaN  1.000000  0.685143   0.819868\n",
      "targeted         NaN  0.685143  1.000000   0.942580\n",
      "aggresive        NaN  0.819868  0.942580   1.000000\n"
     ]
    }
   ],
   "source": [
    "correlaciones = df_hate_feminismo[['sentiment', 'hateful', 'targeted', 'aggresive']].corr()\n",
    "print(correlaciones)\n",
    "\n"
   ]
  },
  {
   "cell_type": "code",
   "execution_count": 12,
   "id": "93835ef3-56c7-448e-aa11-226448691cfc",
   "metadata": {
    "tags": []
   },
   "outputs": [
    {
     "data": {
      "image/png": "[encoded data removed]",
      "text/plain": [
       "<Figure size 800x600 with 2 Axes>"
      ]
     },
     "metadata": {},
     "output_type": "display_data"
    }
   ],
   "source": [
    "import seaborn as sns\n",
    "import matplotlib.pyplot as plt\n",
    "\n",
    "correlaciones = df_hate_feminismo[['sentiment', 'hateful', 'targeted', 'aggresive']].corr()\n",
    "\n",
    "plt.figure(figsize=(8, 6))\n",
    "sns.heatmap(correlaciones, annot=True, cmap='coolwarm', fmt=\".2f\")\n",
    "plt.title('Mapa de calor de correlaciones')\n",
    "plt.show()\n"
   ]
  },
  {
   "cell_type": "code",
   "execution_count": null,
   "id": "fffd895b-96a1-4418-9d94-666a0d462a80",
   "metadata": {},
   "outputs": [],
   "source": []
  },
  {
   "cell_type": "code",
   "execution_count": null,
   "id": "e1bca7c0-e163-41a0-8179-a3103dfaeeaf",
   "metadata": {},
   "outputs": [],
   "source": []
  }
 ],
 "metadata": {
  "kernelspec": {
   "display_name": "Python 3 (ipykernel)",
   "language": "python",
   "name": "python3"
  },
  "language_info": {
   "codemirror_mode": {
    "name": "ipython",
    "version": 3
   },
   "file_extension": ".py",
   "mimetype": "text/x-python",
   "name": "python",
   "nbconvert_exporter": "python",
   "pygments_lexer": "ipython3",
   "version": "3.11.4"
  }
 },
 "nbformat": 4,
 "nbformat_minor": 5
}
