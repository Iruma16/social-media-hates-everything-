{
 "cells": [
  {
   "cell_type": "code",
   "execution_count": 1,
   "id": "dd04a6bd-ebfe-4f3f-aa01-905f4f04a653",
   "metadata": {
    "tags": []
   },
   "outputs": [
    {
     "name": "stderr",
     "output_type": "stream",
     "text": [
      "2023-12-06 20:03:57.137079: I tensorflow/core/platform/cpu_feature_guard.cc:182] This TensorFlow binary is optimized to use available CPU instructions in performance-critical operations.\n",
      "To enable the following instructions: AVX2 FMA, in other operations, rebuild TensorFlow with the appropriate compiler flags.\n"
     ]
    }
   ],
   "source": [
    "import pandas as pd\n",
    "from pysentimiento import create_analyzer\n",
    "analyzer = create_analyzer(task=\"sentiment\", lang=\"es\")\n",
    "\n"
   ]
  },
  {
   "cell_type": "code",
   "execution_count": null,
   "id": "f29523cd-af5a-46eb-afe4-96703ad0475e",
   "metadata": {},
   "outputs": [],
   "source": [
    "#abro el df completo "
   ]
  },
  {
   "cell_type": "code",
   "execution_count": 2,
   "id": "ad140500-fc03-4a70-a33c-f997fde98426",
   "metadata": {
    "tags": []
   },
   "outputs": [],
   "source": [
    "df = pd.read_csv('/Users/usuario/Downloads/irunela/csv/comentarios_monarquia_sentimiento.csv')"
   ]
  },
  {
   "cell_type": "code",
   "execution_count": 20,
   "id": "c74dfdc0-c914-46a7-acac-31628846de2c",
   "metadata": {
    "collapsed": true,
    "jupyter": {
     "outputs_hidden": true
    },
    "tags": []
   },
   "outputs": [
    {
     "data": {
      "text/html": [
       "<div>\n",
       "<style scoped>\n",
       "    .dataframe tbody tr th:only-of-type {\n",
       "        vertical-align: middle;\n",
       "    }\n",
       "\n",
       "    .dataframe tbody tr th {\n",
       "        vertical-align: top;\n",
       "    }\n",
       "\n",
       "    .dataframe thead th {\n",
       "        text-align: right;\n",
       "    }\n",
       "</style>\n",
       "<table border=\"1\" class=\"dataframe\">\n",
       "  <thead>\n",
       "    <tr style=\"text-align: right;\">\n",
       "      <th></th>\n",
       "      <th>Unnamed: 0.1</th>\n",
       "      <th>Unnamed: 0</th>\n",
       "      <th>video_id</th>\n",
       "      <th>author</th>\n",
       "      <th>comment</th>\n",
       "      <th>comment_stem</th>\n",
       "      <th>vectores_tfidf</th>\n",
       "      <th>sentiment</th>\n",
       "    </tr>\n",
       "  </thead>\n",
       "  <tbody>\n",
       "    <tr>\n",
       "      <th>0</th>\n",
       "      <td>0</td>\n",
       "      <td>0</td>\n",
       "      <td>T-smnnEAdM0</td>\n",
       "      <td>UCTlJjNviHj7Y32eiOdHH_FQ</td>\n",
       "      <td>No me creo que les importemos algo. Estos son ...</td>\n",
       "      <td>creo importemo misma opini</td>\n",
       "      <td>[0. 0. 0. ... 0. 0. 0.]</td>\n",
       "      <td>0.0</td>\n",
       "    </tr>\n",
       "    <tr>\n",
       "      <th>1</th>\n",
       "      <td>1</td>\n",
       "      <td>1</td>\n",
       "      <td>T-smnnEAdM0</td>\n",
       "      <td>UC6o_ckmEk87f7TiViatW11w</td>\n",
       "      <td>No a la ANMISTIA y no AL PERDONA LA DEUDA DE C...</td>\n",
       "      <td>anmistia perdona deuda catalu sirv separatista...</td>\n",
       "      <td>[0. 0. 0. ... 0. 0. 0.]</td>\n",
       "      <td>-1.0</td>\n",
       "    </tr>\n",
       "    <tr>\n",
       "      <th>2</th>\n",
       "      <td>2</td>\n",
       "      <td>2</td>\n",
       "      <td>T-smnnEAdM0</td>\n",
       "      <td>UCCXQ_BAzI-GcXgDUwN4XiXQ</td>\n",
       "      <td>Que no te enteras,Contreras\\nQue se la trae fl...</td>\n",
       "      <td>entera contrera trae floja asunto interno espa...</td>\n",
       "      <td>[0. 0. 0. ... 0. 0. 0.]</td>\n",
       "      <td>-1.0</td>\n",
       "    </tr>\n",
       "    <tr>\n",
       "      <th>3</th>\n",
       "      <td>3</td>\n",
       "      <td>3</td>\n",
       "      <td>T-smnnEAdM0</td>\n",
       "      <td>UCB4dg7xkDRLpW561xlwNnyw</td>\n",
       "      <td>¿Como puede ser impecable?, si hasta hace poco...</td>\n",
       "      <td>pued impec hace bocachancla palanganero felon ...</td>\n",
       "      <td>[0. 0. 0. ... 0. 0. 0.]</td>\n",
       "      <td>-1.0</td>\n",
       "    </tr>\n",
       "    <tr>\n",
       "      <th>4</th>\n",
       "      <td>4</td>\n",
       "      <td>4</td>\n",
       "      <td>T-smnnEAdM0</td>\n",
       "      <td>UCFc7zfxN235QsmGBJ-GsUcA</td>\n",
       "      <td>Osea que cuando gobierna el PP nos roba y mete...</td>\n",
       "      <td>osea gobierna roba mete guerra aqui pasa gobie...</td>\n",
       "      <td>[0. 0. 0. ... 0. 0. 0.]</td>\n",
       "      <td>-1.0</td>\n",
       "    </tr>\n",
       "    <tr>\n",
       "      <th>...</th>\n",
       "      <td>...</td>\n",
       "      <td>...</td>\n",
       "      <td>...</td>\n",
       "      <td>...</td>\n",
       "      <td>...</td>\n",
       "      <td>...</td>\n",
       "      <td>...</td>\n",
       "      <td>...</td>\n",
       "    </tr>\n",
       "    <tr>\n",
       "      <th>11903</th>\n",
       "      <td>11903</td>\n",
       "      <td>11903</td>\n",
       "      <td>UCypRjGGvik</td>\n",
       "      <td>UC9Bf43fR7XaU5kx6cL9TQzQ</td>\n",
       "      <td>Bermejo tú siempre has sido lo mismo un Comuni...</td>\n",
       "      <td>bermejo siempr sido mismo comunista agazapado ...</td>\n",
       "      <td>[0. 0. 0. ... 0. 0. 0.]</td>\n",
       "      <td>-1.0</td>\n",
       "    </tr>\n",
       "    <tr>\n",
       "      <th>11904</th>\n",
       "      <td>11904</td>\n",
       "      <td>11904</td>\n",
       "      <td>UCypRjGGvik</td>\n",
       "      <td>UCyK_y121VHJG3boqeWcmukg</td>\n",
       "      <td>Hablemos de lo que nos importa ese pacto y sor...</td>\n",
       "      <td>hablemo importa pacto soro padrino rockiflelin...</td>\n",
       "      <td>[0. 0. 0. ... 0. 0. 0.]</td>\n",
       "      <td>0.0</td>\n",
       "    </tr>\n",
       "    <tr>\n",
       "      <th>11905</th>\n",
       "      <td>11905</td>\n",
       "      <td>11905</td>\n",
       "      <td>UCypRjGGvik</td>\n",
       "      <td>UCyK_y121VHJG3boqeWcmukg</td>\n",
       "      <td>Si señora, una nube de humo para tapar el golp...</td>\n",
       "      <td>nube humo tapar golp totalment sanchez sabe ju...</td>\n",
       "      <td>[0. 0. 0. ... 0. 0. 0.]</td>\n",
       "      <td>-1.0</td>\n",
       "    </tr>\n",
       "    <tr>\n",
       "      <th>11906</th>\n",
       "      <td>11906</td>\n",
       "      <td>11906</td>\n",
       "      <td>UCypRjGGvik</td>\n",
       "      <td>UCyK_y121VHJG3boqeWcmukg</td>\n",
       "      <td>Pero fijaros que no enseñan todo esa informaci...</td>\n",
       "      <td>fijaro ens informaci pegaso misma banda enfang...</td>\n",
       "      <td>[0. 0. 0. ... 0. 0. 0.]</td>\n",
       "      <td>-1.0</td>\n",
       "    </tr>\n",
       "    <tr>\n",
       "      <th>11907</th>\n",
       "      <td>11907</td>\n",
       "      <td>11907</td>\n",
       "      <td>UCypRjGGvik</td>\n",
       "      <td>UCyK_y121VHJG3boqeWcmukg</td>\n",
       "      <td>Pero también Israel quiere gaza desde siempre ...</td>\n",
       "      <td>tambi israel quier gaza siempr cualquier excus...</td>\n",
       "      <td>[0. 0. 0. ... 0. 0. 0.]</td>\n",
       "      <td>-1.0</td>\n",
       "    </tr>\n",
       "  </tbody>\n",
       "</table>\n",
       "<p>11908 rows × 8 columns</p>\n",
       "</div>"
      ],
      "text/plain": [
       "       Unnamed: 0.1  Unnamed: 0     video_id                    author  \\\n",
       "0                 0           0  T-smnnEAdM0  UCTlJjNviHj7Y32eiOdHH_FQ   \n",
       "1                 1           1  T-smnnEAdM0  UC6o_ckmEk87f7TiViatW11w   \n",
       "2                 2           2  T-smnnEAdM0  UCCXQ_BAzI-GcXgDUwN4XiXQ   \n",
       "3                 3           3  T-smnnEAdM0  UCB4dg7xkDRLpW561xlwNnyw   \n",
       "4                 4           4  T-smnnEAdM0  UCFc7zfxN235QsmGBJ-GsUcA   \n",
       "...             ...         ...          ...                       ...   \n",
       "11903         11903       11903  UCypRjGGvik  UC9Bf43fR7XaU5kx6cL9TQzQ   \n",
       "11904         11904       11904  UCypRjGGvik  UCyK_y121VHJG3boqeWcmukg   \n",
       "11905         11905       11905  UCypRjGGvik  UCyK_y121VHJG3boqeWcmukg   \n",
       "11906         11906       11906  UCypRjGGvik  UCyK_y121VHJG3boqeWcmukg   \n",
       "11907         11907       11907  UCypRjGGvik  UCyK_y121VHJG3boqeWcmukg   \n",
       "\n",
       "                                                 comment  \\\n",
       "0      No me creo que les importemos algo. Estos son ...   \n",
       "1      No a la ANMISTIA y no AL PERDONA LA DEUDA DE C...   \n",
       "2      Que no te enteras,Contreras\\nQue se la trae fl...   \n",
       "3      ¿Como puede ser impecable?, si hasta hace poco...   \n",
       "4      Osea que cuando gobierna el PP nos roba y mete...   \n",
       "...                                                  ...   \n",
       "11903  Bermejo tú siempre has sido lo mismo un Comuni...   \n",
       "11904  Hablemos de lo que nos importa ese pacto y sor...   \n",
       "11905  Si señora, una nube de humo para tapar el golp...   \n",
       "11906  Pero fijaros que no enseñan todo esa informaci...   \n",
       "11907  Pero también Israel quiere gaza desde siempre ...   \n",
       "\n",
       "                                            comment_stem  \\\n",
       "0                             creo importemo misma opini   \n",
       "1      anmistia perdona deuda catalu sirv separatista...   \n",
       "2      entera contrera trae floja asunto interno espa...   \n",
       "3      pued impec hace bocachancla palanganero felon ...   \n",
       "4      osea gobierna roba mete guerra aqui pasa gobie...   \n",
       "...                                                  ...   \n",
       "11903  bermejo siempr sido mismo comunista agazapado ...   \n",
       "11904  hablemo importa pacto soro padrino rockiflelin...   \n",
       "11905  nube humo tapar golp totalment sanchez sabe ju...   \n",
       "11906  fijaro ens informaci pegaso misma banda enfang...   \n",
       "11907  tambi israel quier gaza siempr cualquier excus...   \n",
       "\n",
       "                vectores_tfidf  sentiment  \n",
       "0      [0. 0. 0. ... 0. 0. 0.]        0.0  \n",
       "1      [0. 0. 0. ... 0. 0. 0.]       -1.0  \n",
       "2      [0. 0. 0. ... 0. 0. 0.]       -1.0  \n",
       "3      [0. 0. 0. ... 0. 0. 0.]       -1.0  \n",
       "4      [0. 0. 0. ... 0. 0. 0.]       -1.0  \n",
       "...                        ...        ...  \n",
       "11903  [0. 0. 0. ... 0. 0. 0.]       -1.0  \n",
       "11904  [0. 0. 0. ... 0. 0. 0.]        0.0  \n",
       "11905  [0. 0. 0. ... 0. 0. 0.]       -1.0  \n",
       "11906  [0. 0. 0. ... 0. 0. 0.]       -1.0  \n",
       "11907  [0. 0. 0. ... 0. 0. 0.]       -1.0  \n",
       "\n",
       "[11908 rows x 8 columns]"
      ]
     },
     "execution_count": 20,
     "metadata": {},
     "output_type": "execute_result"
    }
   ],
   "source": [
    "df"
   ]
  },
  {
   "cell_type": "code",
   "execution_count": 3,
   "id": "a2e7e95a-2f7d-4e5e-a7c0-445d5047f4f0",
   "metadata": {
    "tags": []
   },
   "outputs": [
    {
     "data": {
      "text/html": [
       "<div>\n",
       "<style scoped>\n",
       "    .dataframe tbody tr th:only-of-type {\n",
       "        vertical-align: middle;\n",
       "    }\n",
       "\n",
       "    .dataframe tbody tr th {\n",
       "        vertical-align: top;\n",
       "    }\n",
       "\n",
       "    .dataframe thead th {\n",
       "        text-align: right;\n",
       "    }\n",
       "</style>\n",
       "<table border=\"1\" class=\"dataframe\">\n",
       "  <thead>\n",
       "    <tr style=\"text-align: right;\">\n",
       "      <th></th>\n",
       "      <th>video_id</th>\n",
       "      <th>author</th>\n",
       "      <th>comment</th>\n",
       "      <th>vectores_tfidf</th>\n",
       "      <th>comment_stem</th>\n",
       "      <th>sentiment</th>\n",
       "    </tr>\n",
       "  </thead>\n",
       "  <tbody>\n",
       "    <tr>\n",
       "      <th>2</th>\n",
       "      <td>WdtyLi2wBDs</td>\n",
       "      <td>UCTkpp46iUcTXPh_bjDgOZCg</td>\n",
       "      <td>De hecho me hubiera gustado que mi país (venez...</td>\n",
       "      <td>[0. 0. 0. ... 0. 0. 0.]</td>\n",
       "      <td>hecho gustado venezuela hecho monarquia podido...</td>\n",
       "      <td>0.0</td>\n",
       "    </tr>\n",
       "    <tr>\n",
       "      <th>3</th>\n",
       "      <td>WdtyLi2wBDs</td>\n",
       "      <td>UCPOFnRYCCd5mEoAuoSyAAxA</td>\n",
       "      <td>1er error. Me la pela qué no se haya votado po...</td>\n",
       "      <td>[0. 0. 0. ... 0. 0. 0.]</td>\n",
       "      <td>error pela votado mejor persona puesto peticio...</td>\n",
       "      <td>0.0</td>\n",
       "    </tr>\n",
       "    <tr>\n",
       "      <th>5</th>\n",
       "      <td>WdtyLi2wBDs</td>\n",
       "      <td>UCgW7xHsCcD7fCUpo0g0OkeA</td>\n",
       "      <td>Concuerdo totalmente</td>\n",
       "      <td>[0. 0. 0. ... 0. 0. 0.]</td>\n",
       "      <td>concuerdo totalment</td>\n",
       "      <td>0.0</td>\n",
       "    </tr>\n",
       "    <tr>\n",
       "      <th>6</th>\n",
       "      <td>WdtyLi2wBDs</td>\n",
       "      <td>UCe4DyAgY27gIlhTMUFRgddw</td>\n",
       "      <td>Buenos días, hay otro argumento, para mí muy i...</td>\n",
       "      <td>[0. 0. 0. ... 0. 0. 0.]</td>\n",
       "      <td>bueno argumento important espa lleno tradicion...</td>\n",
       "      <td>0.0</td>\n",
       "    </tr>\n",
       "    <tr>\n",
       "      <th>7</th>\n",
       "      <td>WdtyLi2wBDs</td>\n",
       "      <td>UCW1_64QJukG8Nx-ElnUfmZg</td>\n",
       "      <td>Totalmente de acuerdo …. Mejor explicado impos...</td>\n",
       "      <td>[0. 0. 0. ... 0. 0. 0.]</td>\n",
       "      <td>totalment acuerdo mejor explicado impos</td>\n",
       "      <td>0.0</td>\n",
       "    </tr>\n",
       "  </tbody>\n",
       "</table>\n",
       "</div>"
      ],
      "text/plain": [
       "      video_id                    author  \\\n",
       "2  WdtyLi2wBDs  UCTkpp46iUcTXPh_bjDgOZCg   \n",
       "3  WdtyLi2wBDs  UCPOFnRYCCd5mEoAuoSyAAxA   \n",
       "5  WdtyLi2wBDs  UCgW7xHsCcD7fCUpo0g0OkeA   \n",
       "6  WdtyLi2wBDs  UCe4DyAgY27gIlhTMUFRgddw   \n",
       "7  WdtyLi2wBDs  UCW1_64QJukG8Nx-ElnUfmZg   \n",
       "\n",
       "                                             comment           vectores_tfidf  \\\n",
       "2  De hecho me hubiera gustado que mi país (venez...  [0. 0. 0. ... 0. 0. 0.]   \n",
       "3  1er error. Me la pela qué no se haya votado po...  [0. 0. 0. ... 0. 0. 0.]   \n",
       "5                               Concuerdo totalmente  [0. 0. 0. ... 0. 0. 0.]   \n",
       "6  Buenos días, hay otro argumento, para mí muy i...  [0. 0. 0. ... 0. 0. 0.]   \n",
       "7  Totalmente de acuerdo …. Mejor explicado impos...  [0. 0. 0. ... 0. 0. 0.]   \n",
       "\n",
       "                                        comment_stem  sentiment  \n",
       "2  hecho gustado venezuela hecho monarquia podido...        0.0  \n",
       "3  error pela votado mejor persona puesto peticio...        0.0  \n",
       "5                                concuerdo totalment        0.0  \n",
       "6  bueno argumento important espa lleno tradicion...        0.0  \n",
       "7            totalment acuerdo mejor explicado impos        0.0  "
      ]
     },
     "execution_count": 3,
     "metadata": {},
     "output_type": "execute_result"
    }
   ],
   "source": [
    "# Filtrar las filas donde 'sentiment' es igual a 0 =neutro\n",
    "df_neutro = df[df['sentiment'] == 0]\n",
    "\n",
    "# Seleccionar las columnas específicas que quieres conservar en el nuevo dataset\n",
    "columnas_deseadas = ['video_id', 'author', 'comment', 'vectores_tfidf', 'comment_stem', 'sentiment']\n",
    "df_neutro = df_neutro[columnas_deseadas].copy()\n",
    "\n",
    "df_neutro.head()"
   ]
  },
  {
   "cell_type": "code",
   "execution_count": 4,
   "id": "b9707a9b-f0e3-4509-bbcf-78d4fada0eee",
   "metadata": {
    "tags": []
   },
   "outputs": [
    {
     "data": {
      "text/plain": [
       "(4114, 6)"
      ]
     },
     "execution_count": 4,
     "metadata": {},
     "output_type": "execute_result"
    }
   ],
   "source": [
    "df_neutro.shape"
   ]
  },
  {
   "cell_type": "code",
   "execution_count": 5,
   "id": "10ac3e3d-5926-484e-9915-e910731be1f9",
   "metadata": {
    "tags": []
   },
   "outputs": [],
   "source": [
    "df.to_csv('/Users/usuario/Downloads/irunela/csv/csv_neutro/comentarios_monarquia_neutro.csv')"
   ]
  },
  {
   "cell_type": "code",
   "execution_count": 6,
   "id": "fffbde61-f2eb-4944-a1aa-42a6a1da5c8c",
   "metadata": {
    "tags": []
   },
   "outputs": [],
   "source": [
    "df_neutro = pd.read_csv('/Users/usuario/Downloads/irunela/csv/csv_neutro/comentarios_monarquia_neutro.csv')"
   ]
  },
  {
   "cell_type": "code",
   "execution_count": null,
   "id": "006cd702-3ce1-41e2-8a66-51fe8a18d778",
   "metadata": {},
   "outputs": [],
   "source": []
  }
 ],
 "metadata": {
  "kernelspec": {
   "display_name": "Python 3 (ipykernel)",
   "language": "python",
   "name": "python3"
  },
  "language_info": {
   "codemirror_mode": {
    "name": "ipython",
    "version": 3
   },
   "file_extension": ".py",
   "mimetype": "text/x-python",
   "name": "python",
   "nbconvert_exporter": "python",
   "pygments_lexer": "ipython3",
   "version": "3.11.4"
  }
 },
 "nbformat": 4,
 "nbformat_minor": 5
}
